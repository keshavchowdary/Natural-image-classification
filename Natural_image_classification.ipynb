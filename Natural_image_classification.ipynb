{
  "nbformat": 4,
  "nbformat_minor": 0,
  "metadata": {
    "colab": {
      "name": "Natural image classification.ipynb",
      "provenance": [],
      "collapsed_sections": []
    },
    "kernelspec": {
      "display_name": "Python 3",
      "name": "python3"
    },
    "language_info": {
      "name": "python"
    }
  },
  "cells": [
    {
      "cell_type": "code",
      "metadata": {
        "colab": {
          "base_uri": "https://localhost:8080/"
        },
        "id": "UKRLVLgLzDzl",
        "outputId": "886ccc54-166d-469f-9b11-215de614db22"
      },
      "source": [
        "from google.colab import drive\n",
        "drive.mount('/content/drive')"
      ],
      "execution_count": null,
      "outputs": [
        {
          "output_type": "stream",
          "text": [
            "Mounted at /content/drive\n"
          ],
          "name": "stdout"
        }
      ]
    },
    {
      "cell_type": "code",
      "metadata": {
        "id": "l3yKYxoyvSSg"
      },
      "source": [
        "#importing the dependencies\n",
        "import pandas as pd\n",
        "import numpy as np\n",
        "import matplotlib.pyplot as plt\n",
        "import seaborn as sns"
      ],
      "execution_count": null,
      "outputs": []
    },
    {
      "cell_type": "code",
      "metadata": {
        "id": "uy2d4cucz08m"
      },
      "source": [
        "# the dataset is pickled into byte streams. so we have to unpickle it and convert it into dictionary\n",
        "import pickle\n",
        "def unpickle(file):\n",
        "    with open(file, 'rb') as fo:\n",
        "        dict = pickle.load(fo, encoding='bytes')\n",
        "    return dict"
      ],
      "execution_count": null,
      "outputs": []
    },
    {
      "cell_type": "code",
      "metadata": {
        "id": "0qlcQS1Az6wt"
      },
      "source": [
        "path = '/content/drive/MyDrive/datasets/cifar10/'"
      ],
      "execution_count": null,
      "outputs": []
    },
    {
      "cell_type": "code",
      "metadata": {
        "id": "lSRANMlhz6zm"
      },
      "source": [
        "x1 = unpickle(path + 'data_batch_1')"
      ],
      "execution_count": null,
      "outputs": []
    },
    {
      "cell_type": "code",
      "metadata": {
        "colab": {
          "base_uri": "https://localhost:8080/"
        },
        "id": "GprYNEPk0dRH",
        "outputId": "b6316413-c57a-47eb-c33d-0f89d7129bea"
      },
      "source": [
        "x1"
      ],
      "execution_count": null,
      "outputs": [
        {
          "output_type": "execute_result",
          "data": {
            "text/plain": [
              "{b'batch_label': b'training batch 4 of 5',\n",
              " b'data': array([[178, 178, 178, ...,  80,  80,  77],\n",
              "        [ 29,  22,  25, ...,  29,  31,  30],\n",
              "        [ 36,  33,  21, ..., 173, 170, 170],\n",
              "        ...,\n",
              "        [167, 164, 151, ..., 132, 142, 130],\n",
              "        [ 45,  46,  46, ...,  30,  34,  24],\n",
              "        [235, 239, 239, ..., 182, 175, 174]], dtype=uint8),\n",
              " b'filenames': [b'plane_s_000772.png',\n",
              "  b'bufo_bufo_s_001873.png',\n",
              "  b'stealth_bomber_s_000779.png',\n",
              "  b'kiwi_s_000039.png',\n",
              "  b'dawn_horse_s_001080.png',\n",
              "  b'fighting_cock_s_000018.png',\n",
              "  b'wagon_s_001028.png',\n",
              "  b'struthio_camelus_s_000001.png',\n",
              "  b'capreolus_capreolus_s_001047.png',\n",
              "  b'coupe_s_001911.png',\n",
              "  b'dog_s_001880.png',\n",
              "  b'american_green_toad_s_000075.png',\n",
              "  b'bufo_bufo_s_001049.png',\n",
              "  b'felis_domesticus_s_000560.png',\n",
              "  b'motorcar_s_000924.png',\n",
              "  b'mouser_s_001173.png',\n",
              "  b'pekingese_s_002405.png',\n",
              "  b'chihuahua_s_002027.png',\n",
              "  b'sea_boat_s_000994.png',\n",
              "  b'coupe_s_000909.png',\n",
              "  b'sika_s_000672.png',\n",
              "  b'dromaius_novaehollandiae_s_000094.png',\n",
              "  b'domestic_cat_s_001938.png',\n",
              "  b'finch_s_000759.png',\n",
              "  b'station_wagon_s_001456.png',\n",
              "  b'emu_s_000275.png',\n",
              "  b'passenger_ship_s_001956.png',\n",
              "  b'delivery_truck_s_000512.png',\n",
              "  b'blenheim_spaniel_s_001174.png',\n",
              "  b'seaplane_s_001238.png',\n",
              "  b'saddle_horse_s_001723.png',\n",
              "  b'western_toad_s_000704.png',\n",
              "  b'male_horse_s_000367.png',\n",
              "  b'toad_frog_s_001369.png',\n",
              "  b'police_boat_s_000303.png',\n",
              "  b'container_vessel_s_000658.png',\n",
              "  b'male_horse_s_000321.png',\n",
              "  b'barren_ground_caribou_s_000080.png',\n",
              "  b'camion_s_000598.png',\n",
              "  b'shooting_brake_s_001251.png',\n",
              "  b'rhea_americana_s_000628.png',\n",
              "  b'pickerel_frog_s_000296.png',\n",
              "  b'pekinese_s_000678.png',\n",
              "  b'dump_truck_s_000582.png',\n",
              "  b'american_elk_s_000086.png',\n",
              "  b'passerine_s_001689.png',\n",
              "  b'mutt_s_001685.png',\n",
              "  b'auto_s_002328.png',\n",
              "  b'attack_aircraft_s_000908.png',\n",
              "  b'estate_car_s_000010.png',\n",
              "  b'automobile_s_000836.png',\n",
              "  b'aerial_ladder_truck_s_000475.png',\n",
              "  b'jetliner_s_000728.png',\n",
              "  b'lippizan_s_001178.png',\n",
              "  b'mutt_s_000004.png',\n",
              "  b'domestic_cat_s_001608.png',\n",
              "  b'trucking_rig_s_001506.png',\n",
              "  b'rana_temporaria_s_001086.png',\n",
              "  b'tomcat_s_001994.png',\n",
              "  b'cat_s_002584.png',\n",
              "  b'tabby_cat_s_001405.png',\n",
              "  b'barking_deer_s_000070.png',\n",
              "  b'shooting_brake_s_000960.png',\n",
              "  b'chihuahua_s_000782.png',\n",
              "  b'garbage_truck_s_000731.png',\n",
              "  b'gelding_s_000382.png',\n",
              "  b'walking_horse_s_000117.png',\n",
              "  b'cassowary_s_000276.png',\n",
              "  b'fire_engine_s_001158.png',\n",
              "  b'dive_bomber_s_000061.png',\n",
              "  b'honey_eater_s_000392.png',\n",
              "  b'police_boat_s_000353.png',\n",
              "  b'puppy_s_001447.png',\n",
              "  b'sound_truck_s_001375.png',\n",
              "  b'american_toad_s_000634.png',\n",
              "  b'arabian_s_001924.png',\n",
              "  b'sea_boat_s_002116.png',\n",
              "  b'cervus_elaphus_s_001436.png',\n",
              "  b'fighter_aircraft_s_001026.png',\n",
              "  b'wapiti_s_000078.png',\n",
              "  b'dump_truck_s_002164.png',\n",
              "  b'honey_eater_s_000556.png',\n",
              "  b'appaloosa_s_002220.png',\n",
              "  b'coupe_s_001459.png',\n",
              "  b'multiengine_airplane_s_000257.png',\n",
              "  b'maltese_dog_s_000593.png',\n",
              "  b'station_wagon_s_000676.png',\n",
              "  b'merchant_ship_s_000208.png',\n",
              "  b'compact_car_s_000600.png',\n",
              "  b'european_toad_s_000152.png',\n",
              "  b'puppy_s_000809.png',\n",
              "  b'garbage_truck_s_000875.png',\n",
              "  b'stallion_s_000178.png',\n",
              "  b'airliner_s_000049.png',\n",
              "  b'rangifer_tarandus_s_000220.png',\n",
              "  b'pekinese_s_002271.png',\n",
              "  b'emu_s_001642.png',\n",
              "  b'tabby_cat_s_000771.png',\n",
              "  b'maltese_s_001023.png',\n",
              "  b'king_charles_spaniel_s_000059.png',\n",
              "  b'true_frog_s_000239.png',\n",
              "  b'twinjet_s_000470.png',\n",
              "  b'struthio_camelus_s_000516.png',\n",
              "  b'beach_wagon_s_000837.png',\n",
              "  b'estate_car_s_001738.png',\n",
              "  b'pekingese_s_002432.png',\n",
              "  b'hydrofoil_s_000300.png',\n",
              "  b'toy_dog_s_000874.png',\n",
              "  b'rhea_s_001608.png',\n",
              "  b'roe_deer_s_000833.png',\n",
              "  b'struthio_camelus_s_000364.png',\n",
              "  b'anthus_pratensis_s_000704.png',\n",
              "  b'mongrel_s_001796.png',\n",
              "  b'tabby_cat_s_000439.png',\n",
              "  b'jetliner_s_000307.png',\n",
              "  b'tabby_cat_s_001863.png',\n",
              "  b'stealth_bomber_s_000348.png',\n",
              "  b'ostrich_s_002116.png',\n",
              "  b'trailer_truck_s_000420.png',\n",
              "  b'cruiser_s_000179.png',\n",
              "  b'car_s_000481.png',\n",
              "  b'quarter_horse_s_001102.png',\n",
              "  b'tabby_s_001453.png',\n",
              "  b'oil_tanker_s_001380.png',\n",
              "  b'chihuahua_s_000224.png',\n",
              "  b'red_deer_s_001029.png',\n",
              "  b'dog_s_000111.png',\n",
              "  b'bookmobile_s_000772.png',\n",
              "  b'rana_cascadae_s_000015.png',\n",
              "  b'dog_s_000999.png',\n",
              "  b'rana_temporaria_s_001669.png',\n",
              "  b'alces_alces_s_002077.png',\n",
              "  b'caribou_s_000239.png',\n",
              "  b'chihuahua_s_000598.png',\n",
              "  b'chihuahua_s_001706.png',\n",
              "  b'convertible_s_000237.png',\n",
              "  b'station_wagon_s_001908.png',\n",
              "  b'toy_dog_s_001421.png',\n",
              "  b'bufo_viridis_s_000793.png',\n",
              "  b'prunella_modularis_s_000627.png',\n",
              "  b'puppy_s_001478.png',\n",
              "  b'jumbo_jet_s_000606.png',\n",
              "  b'cabin_cruiser_s_000391.png',\n",
              "  b'bufo_viridis_s_000275.png',\n",
              "  b'dromaius_novaehollandiae_s_000086.png',\n",
              "  b'bird_s_001324.png',\n",
              "  b'bufo_bufo_s_001054.png',\n",
              "  b'cargo_vessel_s_001615.png',\n",
              "  b'boat_s_002484.png',\n",
              "  b'southwestern_toad_s_000087.png',\n",
              "  b'arabian_s_000111.png',\n",
              "  b'red_deer_s_000663.png',\n",
              "  b'airbus_s_000241.png',\n",
              "  b'wapiti_s_000304.png',\n",
              "  b'station_wagon_s_002632.png',\n",
              "  b'japanese_spaniel_s_000029.png',\n",
              "  b'american_elk_s_001458.png',\n",
              "  b'dunnock_s_001067.png',\n",
              "  b'airliner_s_001346.png',\n",
              "  b'tabby_s_000023.png',\n",
              "  b'jetliner_s_001534.png',\n",
              "  b'tip_truck_s_000818.png',\n",
              "  b'pekinese_s_000817.png',\n",
              "  b'quarter_horse_s_001627.png',\n",
              "  b'passenger_ship_s_000975.png',\n",
              "  b'automobile_s_000309.png',\n",
              "  b'car_s_000013.png',\n",
              "  b'lipizzan_s_001753.png',\n",
              "  b'norfolk_wherry_s_000019.png',\n",
              "  b'passenger_ship_s_002073.png',\n",
              "  b'felis_domesticus_s_000162.png',\n",
              "  b'jumbo_jet_s_000906.png',\n",
              "  b'twinjet_s_001548.png',\n",
              "  b'sika_s_000050.png',\n",
              "  b'lippizaner_s_001293.png',\n",
              "  b'lorry_s_001804.png',\n",
              "  b'bufo_viridis_s_000327.png',\n",
              "  b'airbus_s_001671.png',\n",
              "  b'tipper_s_001016.png',\n",
              "  b'truck_s_001197.png',\n",
              "  b'lorry_s_000254.png',\n",
              "  b'songbird_s_000665.png',\n",
              "  b'auto_s_001335.png',\n",
              "  b'estate_car_s_000273.png',\n",
              "  b'broodmare_s_001613.png',\n",
              "  b'moose_s_001373.png',\n",
              "  b'tabby_s_000993.png',\n",
              "  b'stallion_s_000686.png',\n",
              "  b'canis_familiaris_s_000592.png',\n",
              "  b'toy_spaniel_s_000309.png',\n",
              "  b'tennessee_walker_s_001669.png',\n",
              "  b'fire_engine_s_001129.png',\n",
              "  b'tabby_s_000818.png',\n",
              "  b'spadefoot_s_000851.png',\n",
              "  b'fire_engine_s_001377.png',\n",
              "  b'stallion_s_000924.png',\n",
              "  b'toy_dog_s_000110.png',\n",
              "  b'tennessee_walker_s_001202.png',\n",
              "  b'compact_car_s_001596.png',\n",
              "  b'lipizzan_s_001655.png',\n",
              "  b'fighter_aircraft_s_000038.png',\n",
              "  b'lapdog_s_000898.png',\n",
              "  b'american_toad_s_000496.png',\n",
              "  b'stud_mare_s_001287.png',\n",
              "  b'tabby_s_001193.png',\n",
              "  b'stealth_fighter_s_000185.png',\n",
              "  b'american_elk_s_000090.png',\n",
              "  b'mutt_s_002480.png',\n",
              "  b'estate_car_s_000516.png',\n",
              "  b'car_s_000242.png',\n",
              "  b'supertanker_s_000153.png',\n",
              "  b'tugboat_s_000014.png',\n",
              "  b'pickerel_frog_s_000421.png',\n",
              "  b'tabby_cat_s_000040.png',\n",
              "  b'bird_s_000897.png',\n",
              "  b'garbage_truck_s_001056.png',\n",
              "  b'stud_mare_s_000801.png',\n",
              "  b'sea_boat_s_000643.png',\n",
              "  b'station_wagon_s_000075.png',\n",
              "  b'house_cat_s_000049.png',\n",
              "  b'lorry_s_001446.png',\n",
              "  b'hospital_ship_s_000124.png',\n",
              "  b'pickerel_frog_s_000073.png',\n",
              "  b'rig_s_000072.png',\n",
              "  b'cassowary_s_002073.png',\n",
              "  b'elk_s_000141.png',\n",
              "  b'odocoileus_hemionus_s_000461.png',\n",
              "  b'ambulance_s_002425.png',\n",
              "  b'european_elk_s_000463.png',\n",
              "  b'pipit_s_000202.png',\n",
              "  b'alces_alces_s_001120.png',\n",
              "  b'pekinese_s_001057.png',\n",
              "  b'rhea_s_001910.png',\n",
              "  b'airliner_s_000650.png',\n",
              "  b'convertible_s_000160.png',\n",
              "  b'puppy_s_002492.png',\n",
              "  b'coupe_s_000182.png',\n",
              "  b'emu_s_000006.png',\n",
              "  b'convertible_s_002583.png',\n",
              "  b'cassowary_s_001567.png',\n",
              "  b'biplane_s_000570.png',\n",
              "  b'bird_s_000075.png',\n",
              "  b'muntjac_s_001362.png',\n",
              "  b'cervus_elaphus_s_000800.png',\n",
              "  b'coupe_s_001399.png',\n",
              "  b'station_wagon_s_001367.png',\n",
              "  b'flightless_bird_s_000215.png',\n",
              "  b'dump_truck_s_000303.png',\n",
              "  b'domestic_dog_s_001540.png',\n",
              "  b'bufo_americanus_s_000663.png',\n",
              "  b'mule_deer_s_001732.png',\n",
              "  b'nandu_s_000697.png',\n",
              "  b'hospital_ship_s_000356.png',\n",
              "  b'stallion_s_000385.png',\n",
              "  b'rhea_americana_s_000440.png',\n",
              "  b'lipizzan_s_000078.png',\n",
              "  b'elk_s_002049.png',\n",
              "  b'attack_aircraft_s_000250.png',\n",
              "  b'emu_s_002187.png',\n",
              "  b'rana_cascadae_s_000016.png',\n",
              "  b'mutt_s_000784.png',\n",
              "  b'freighter_s_000896.png',\n",
              "  b'passenger_ship_s_002144.png',\n",
              "  b'tipper_truck_s_000299.png',\n",
              "  b'broodmare_s_000301.png',\n",
              "  b'lipizzan_s_001333.png',\n",
              "  b'tabby_cat_s_001139.png',\n",
              "  b'jetliner_s_000936.png',\n",
              "  b'barren_ground_caribou_s_000300.png',\n",
              "  b'car_s_002050.png',\n",
              "  b'cat_s_002426.png',\n",
              "  b'jumbo_jet_s_000635.png',\n",
              "  b'fighter_aircraft_s_001115.png',\n",
              "  b'dredger_s_000394.png',\n",
              "  b'stud_mare_s_000126.png',\n",
              "  b'maltese_s_000806.png',\n",
              "  b'semi_s_000159.png',\n",
              "  b'rowboat_s_000812.png',\n",
              "  b'broodmare_s_000982.png',\n",
              "  b'dog_s_001592.png',\n",
              "  b'jumbo_jet_s_001710.png',\n",
              "  b'automobile_s_000757.png',\n",
              "  b'muntjac_s_000669.png',\n",
              "  b'chihuahua_s_001450.png',\n",
              "  b'leopard_frog_s_001551.png',\n",
              "  b'fire_truck_s_001363.png',\n",
              "  b'alauda_arvensis_s_000309.png',\n",
              "  b'meadow_pipit_s_001241.png',\n",
              "  b'felis_domesticus_s_000285.png',\n",
              "  b'capreolus_capreolus_s_001661.png',\n",
              "  b'canis_familiaris_s_000785.png',\n",
              "  b'odocoileus_hemionus_s_001031.png',\n",
              "  b'rana_temporaria_s_001188.png',\n",
              "  b'coupe_s_000442.png',\n",
              "  b'tanker_s_002240.png',\n",
              "  b'monoplane_s_001001.png',\n",
              "  b'arabian_s_000659.png',\n",
              "  b'stealth_bomber_s_001532.png',\n",
              "  b'tennessee_walker_s_000613.png',\n",
              "  b'merchant_ship_s_000603.png',\n",
              "  b'deer_s_001599.png',\n",
              "  b'lapdog_s_001069.png',\n",
              "  b'toad_s_002829.png',\n",
              "  b'cargo_ship_s_001081.png',\n",
              "  b'attack_aircraft_s_001688.png',\n",
              "  b'felis_catus_s_000596.png',\n",
              "  b'elk_s_000002.png',\n",
              "  b'fawn_s_001708.png',\n",
              "  b'pekinese_s_000776.png',\n",
              "  b'delivery_truck_s_000076.png',\n",
              "  b'toy_dog_s_000536.png',\n",
              "  b'felis_catus_s_000560.png',\n",
              "  b'hen_s_000030.png',\n",
              "  b'auto_s_001286.png',\n",
              "  b'police_cruiser_s_000200.png',\n",
              "  b'cassowary_s_002170.png',\n",
              "  b'compact_car_s_000996.png',\n",
              "  b'honey_eater_s_000696.png',\n",
              "  b'domestic_cat_s_000545.png',\n",
              "  b'walking_horse_s_000433.png',\n",
              "  b'scow_s_000544.png',\n",
              "  b'airbus_s_002176.png',\n",
              "  b'police_boat_s_002009.png',\n",
              "  b'leopard_frog_s_000222.png',\n",
              "  b'airliner_s_000428.png',\n",
              "  b'passerine_s_001997.png',\n",
              "  b'cervus_elaphus_s_000691.png',\n",
              "  b'truck_s_000392.png',\n",
              "  b'freighter_s_000062.png',\n",
              "  b'speedboat_s_001370.png',\n",
              "  b'appaloosa_s_001963.png',\n",
              "  b'stealth_fighter_s_000853.png',\n",
              "  b'cat_s_002504.png',\n",
              "  b'struthio_camelus_s_001019.png',\n",
              "  b'rana_temporaria_s_000079.png',\n",
              "  b'powerboat_s_000476.png',\n",
              "  b'natterjack_s_000167.png',\n",
              "  b'chihuahua_s_000096.png',\n",
              "  b'tabby_s_001164.png',\n",
              "  b'house_cat_s_000052.png',\n",
              "  b'broodmare_s_001554.png',\n",
              "  b'american_elk_s_001339.png',\n",
              "  b'maltese_dog_s_000556.png',\n",
              "  b'tipper_s_000933.png',\n",
              "  b'police_cruiser_s_000171.png',\n",
              "  b'deer_s_000621.png',\n",
              "  b'tabby_cat_s_001084.png',\n",
              "  b'tabby_cat_s_001633.png',\n",
              "  b'quarter_horse_s_000549.png',\n",
              "  b'pekinese_s_002165.png',\n",
              "  b'rana_pipiens_s_000313.png',\n",
              "  b'garbage_truck_s_001525.png',\n",
              "  b'bird_s_000133.png',\n",
              "  b'capreolus_capreolus_s_001691.png',\n",
              "  b'muntjac_s_000488.png',\n",
              "  b'reconnaissance_plane_s_000865.png',\n",
              "  b'puppy_s_002196.png',\n",
              "  b'cargo_ship_s_001432.png',\n",
              "  b'moose_s_000454.png',\n",
              "  b'mongrel_s_000460.png',\n",
              "  b'wrecker_s_001953.png',\n",
              "  b'tabby_cat_s_001653.png',\n",
              "  b'convertible_s_001361.png',\n",
              "  b'delivery_truck_s_001073.png',\n",
              "  b'aerial_ladder_truck_s_000417.png',\n",
              "  b'cassowary_s_001925.png',\n",
              "  b'containership_s_000003.png',\n",
              "  b'bufo_debilis_s_000168.png',\n",
              "  b'broodmare_s_001541.png',\n",
              "  b'ladder_truck_s_001595.png',\n",
              "  b'maltese_s_002226.png',\n",
              "  b'cassowary_s_001013.png',\n",
              "  b'domestic_dog_s_001503.png',\n",
              "  b'cruiser_s_000403.png',\n",
              "  b'convertible_s_002967.png',\n",
              "  b'pekingese_s_000590.png',\n",
              "  b'fighter_aircraft_s_000423.png',\n",
              "  b'flightless_bird_s_000758.png',\n",
              "  b'propeller_plane_s_001486.png',\n",
              "  b'aerial_ladder_truck_s_001346.png',\n",
              "  b'passenger_ship_s_000477.png',\n",
              "  b'dog_s_000077.png',\n",
              "  b'male_horse_s_000331.png',\n",
              "  b'dive_bomber_s_000602.png',\n",
              "  b'sika_s_001358.png',\n",
              "  b'lippizaner_s_000788.png',\n",
              "  b'house_cat_s_001494.png',\n",
              "  b'pekinese_s_002172.png',\n",
              "  b'tugboat_s_001147.png',\n",
              "  b'true_cat_s_001069.png',\n",
              "  b'bufo_speciosus_s_000120.png',\n",
              "  b'accentor_s_001167.png',\n",
              "  b'sound_truck_s_000600.png',\n",
              "  b'toy_s_001056.png',\n",
              "  b'pickerel_frog_s_000333.png',\n",
              "  b'pekingese_s_000012.png',\n",
              "  b'cassowary_s_000254.png',\n",
              "  b'tennessee_walker_s_000637.png',\n",
              "  b'containership_s_000307.png',\n",
              "  b'station_wagon_s_000309.png',\n",
              "  b'monoplane_s_000558.png',\n",
              "  b'stud_mare_s_000617.png',\n",
              "  b'accentor_s_000703.png',\n",
              "  b'cassowary_s_002249.png',\n",
              "  b'moving_van_s_000710.png',\n",
              "  b'prunella_modularis_s_000897.png',\n",
              "  b'houseboat_s_000509.png',\n",
              "  b'compact_car_s_000711.png',\n",
              "  b'fighter_aircraft_s_000879.png',\n",
              "  b'arabian_s_000582.png',\n",
              "  b'broodmare_s_000624.png',\n",
              "  b'ship_s_000451.png',\n",
              "  b'dump_truck_s_001233.png',\n",
              "  b'barren_ground_caribou_s_000502.png',\n",
              "  b'capreolus_capreolus_s_000879.png',\n",
              "  b'twinjet_s_001168.png',\n",
              "  b'dump_truck_s_001887.png',\n",
              "  b'buckskin_s_000184.png',\n",
              "  b'convertible_s_000711.png',\n",
              "  b'tennessee_walking_horse_s_000234.png',\n",
              "  b'aerial_ladder_truck_s_000901.png',\n",
              "  b'walking_horse_s_001911.png',\n",
              "  b'quarter_horse_s_000179.png',\n",
              "  b'passenger_ship_s_000784.png',\n",
              "  b'cat_s_000288.png',\n",
              "  b'stag_s_002126.png',\n",
              "  b'biplane_s_000042.png',\n",
              "  b'rana_catesbeiana_s_000249.png',\n",
              "  b'twinjet_s_000713.png',\n",
              "  b'airbus_s_000746.png',\n",
              "  b'arabian_s_000314.png',\n",
              "  b'appaloosa_s_002107.png',\n",
              "  b'tomcat_s_001403.png',\n",
              "  b'cargo_ship_s_001564.png',\n",
              "  b'broodmare_s_000255.png',\n",
              "  b'capreolus_capreolus_s_001057.png',\n",
              "  b'cervus_elaphus_s_001592.png',\n",
              "  b'accentor_s_000362.png',\n",
              "  b'sea_boat_s_000601.png',\n",
              "  b'coupe_s_001380.png',\n",
              "  b'dive_bomber_s_001694.png',\n",
              "  b'feist_s_000149.png',\n",
              "  b'odocoileus_hemionus_s_000106.png',\n",
              "  b'hydrofoil_s_001163.png',\n",
              "  b'ship_s_000279.png',\n",
              "  b'shooting_brake_s_001458.png',\n",
              "  b'police_cruiser_s_000843.png',\n",
              "  b'appaloosa_s_001773.png',\n",
              "  b'lightship_s_000746.png',\n",
              "  b'dama_dama_s_000935.png',\n",
              "  b'fallow_deer_s_001066.png',\n",
              "  b'honey_eater_s_000503.png',\n",
              "  b'cat_s_002292.png',\n",
              "  b'ostrich_s_001404.png',\n",
              "  b'pipit_s_000761.png',\n",
              "  b'arabian_s_001581.png',\n",
              "  b'dog_s_002086.png',\n",
              "  b'estate_car_s_001161.png',\n",
              "  b'auto_s_000999.png',\n",
              "  b'tabby_s_001716.png',\n",
              "  b'tanker_s_000502.png',\n",
              "  b'tomcat_s_001885.png',\n",
              "  b'garbage_truck_s_001632.png',\n",
              "  b'police_cruiser_s_000835.png',\n",
              "  b'musk_deer_s_000284.png',\n",
              "  b'wrecker_s_000942.png',\n",
              "  b'pipit_s_000321.png',\n",
              "  b'reconnaissance_plane_s_000995.png',\n",
              "  b'fawn_s_001328.png',\n",
              "  b'rana_pipiens_s_000954.png',\n",
              "  b'rhea_s_002009.png',\n",
              "  b'convertible_s_000235.png',\n",
              "  b'passenger_ship_s_001194.png',\n",
              "  b'maltese_s_000831.png',\n",
              "  b'fallow_deer_s_000296.png',\n",
              "  b'pipit_s_001737.png',\n",
              "  b'tabby_cat_s_001032.png',\n",
              "  b'mongrel_s_002251.png',\n",
              "  b'apteryx_s_001201.png',\n",
              "  b'cat_s_002714.png',\n",
              "  b'alauda_arvensis_s_000553.png',\n",
              "  b'green_frog_s_001009.png',\n",
              "  b'puppy_s_002054.png',\n",
              "  b'cabin_cruiser_s_000916.png',\n",
              "  b'lippizan_s_000366.png',\n",
              "  b'grass_frog_s_001617.png',\n",
              "  b'automobile_s_002079.png',\n",
              "  b'attack_aircraft_s_001545.png',\n",
              "  b'pilot_boat_s_001695.png',\n",
              "  b'shooting_brake_s_000300.png',\n",
              "  b'felis_catus_s_000913.png',\n",
              "  b'bufo_marinus_s_000919.png',\n",
              "  b'wagon_s_000358.png',\n",
              "  b'passerine_s_000557.png',\n",
              "  b'green_frog_s_000299.png',\n",
              "  b'compact_car_s_000475.png',\n",
              "  b'bufo_marinus_s_000790.png',\n",
              "  b'stealth_fighter_s_000235.png',\n",
              "  b'broodmare_s_001431.png',\n",
              "  b'fawn_s_000549.png',\n",
              "  b'dog_s_002224.png',\n",
              "  b'deer_s_000119.png',\n",
              "  b'pekinese_s_000052.png',\n",
              "  b'fire_engine_s_000863.png',\n",
              "  b'dredger_s_001379.png',\n",
              "  b'bird_s_001256.png',\n",
              "  b'domestic_dog_s_000556.png',\n",
              "  b'odocoileus_hemionus_s_000422.png',\n",
              "  b'pleasure_boat_s_001804.png',\n",
              "  b'passenger_ship_s_002271.png',\n",
              "  b'guard_boat_s_001304.png',\n",
              "  b'ostrich_s_000059.png',\n",
              "  b'rana_catesbeiana_s_000568.png',\n",
              "  b'sparrow_s_000065.png',\n",
              "  b'cargo_vessel_s_000299.png',\n",
              "  b'boat_s_000892.png',\n",
              "  b'convertible_s_001993.png',\n",
              "  b'airliner_s_001138.png',\n",
              "  b'caribou_s_001826.png',\n",
              "  b'lapdog_s_001161.png',\n",
              "  b'reconnaissance_plane_s_000556.png',\n",
              "  b'airliner_s_000107.png',\n",
              "  b'fallow_deer_s_001060.png',\n",
              "  b'mongrel_s_001573.png',\n",
              "  b'passerine_s_001060.png',\n",
              "  b'tipper_s_001151.png',\n",
              "  b'rana_clamitans_s_000429.png',\n",
              "  b'woodland_caribou_s_000115.png',\n",
              "  b'american_elk_s_000344.png',\n",
              "  b'container_ship_s_000214.png',\n",
              "  b'automobile_s_001541.png',\n",
              "  b'gamecock_s_000335.png',\n",
              "  b'meadow_pipit_s_001489.png',\n",
              "  b'banana_boat_s_001851.png',\n",
              "  b'funny_wagon_s_000229.png',\n",
              "  b'biplane_s_000860.png',\n",
              "  b'bufo_speciosus_s_000123.png',\n",
              "  b'multiengine_airplane_s_000207.png',\n",
              "  b'arabian_s_000047.png',\n",
              "  b'fighter_aircraft_s_000615.png',\n",
              "  b'mongrel_s_002486.png',\n",
              "  b'cat_s_001590.png',\n",
              "  b'dunnock_s_001699.png',\n",
              "  b'pekingese_s_000404.png',\n",
              "  b'passenger_ship_s_000002.png',\n",
              "  b'compact_car_s_000172.png',\n",
              "  b'pantechnicon_s_000273.png',\n",
              "  b'stag_s_000732.png',\n",
              "  b'quarter_horse_s_000093.png',\n",
              "  b'broodmare_s_001397.png',\n",
              "  b'guard_boat_s_000011.png',\n",
              "  b'odocoileus_hemionus_s_000473.png',\n",
              "  b'gelding_s_000500.png',\n",
              "  b'station_wagon_s_000956.png',\n",
              "  b'pekingese_s_000309.png',\n",
              "  b'garbage_truck_s_000626.png',\n",
              "  b'gelding_s_001162.png',\n",
              "  b'container_ship_s_001816.png',\n",
              "  b'motortruck_s_000005.png',\n",
              "  b'capreolus_capreolus_s_000200.png',\n",
              "  b'coupe_s_001669.png',\n",
              "  b'mule_deer_s_002198.png',\n",
              "  b'stud_mare_s_001042.png',\n",
              "  b'bufo_calamita_s_000092.png',\n",
              "  b'airliner_s_002299.png',\n",
              "  b'tipper_truck_s_001897.png',\n",
              "  b'dump_truck_s_001024.png',\n",
              "  b'domestic_dog_s_001208.png',\n",
              "  b'cow_pony_s_001164.png',\n",
              "  b'bufo_calamita_s_000932.png',\n",
              "  b'shooting_brake_s_000348.png',\n",
              "  b'felis_domesticus_s_000647.png',\n",
              "  b'struthio_camelus_s_000018.png',\n",
              "  b'tabby_cat_s_000636.png',\n",
              "  b'tabby_s_000418.png',\n",
              "  b'amphibious_aircraft_s_000496.png',\n",
              "  b'true_frog_s_000355.png',\n",
              "  b'rowboat_s_000447.png',\n",
              "  b'tow_truck_s_000730.png',\n",
              "  b'peke_s_000398.png',\n",
              "  b'sound_truck_s_000506.png',\n",
              "  b'broodmare_s_001101.png',\n",
              "  b'station_wagon_s_001212.png',\n",
              "  b'rana_temporaria_s_000358.png',\n",
              "  b'passerine_s_002059.png',\n",
              "  b'elk_s_001799.png',\n",
              "  b'tabby_cat_s_000840.png',\n",
              "  b'cat_s_001562.png',\n",
              "  b'bufo_americanus_s_000401.png',\n",
              "  b'capreolus_capreolus_s_000037.png',\n",
              "  b'chihuahua_s_000916.png',\n",
              "  b'airbus_s_001684.png',\n",
              "  b'saddle_horse_s_000952.png',\n",
              "  b'alces_alces_s_001705.png',\n",
              "  b'frog_s_001640.png',\n",
              "  b'jumbo_jet_s_000367.png',\n",
              "  b'bird_s_000304.png',\n",
              "  b'dive_bomber_s_000433.png',\n",
              "  b'bookmobile_s_000507.png',\n",
              "  b'arabian_s_001450.png',\n",
              "  b'capreolus_capreolus_s_000003.png',\n",
              "  b'ferryboat_s_000714.png',\n",
              "  b'passerine_s_001451.png',\n",
              "  b'bufo_bufo_s_000284.png',\n",
              "  b'airliner_s_001812.png',\n",
              "  b'floatplane_s_000146.png',\n",
              "  b'felis_catus_s_000434.png',\n",
              "  b'scow_s_000920.png',\n",
              "  b'toad_s_002931.png',\n",
              "  b'airbus_s_001973.png',\n",
              "  b'bufo_viridis_s_000039.png',\n",
              "  b'mouser_s_001077.png',\n",
              "  b'finch_s_000331.png',\n",
              "  b'motorcar_s_002289.png',\n",
              "  b'muntjac_s_000023.png',\n",
              "  b'trucking_rig_s_000245.png',\n",
              "  b'stag_s_001659.png',\n",
              "  b'gelding_s_002273.png',\n",
              "  b'maltese_s_001887.png',\n",
              "  b'delivery_truck_s_000160.png',\n",
              "  b'ladder_truck_s_001902.png',\n",
              "  b'bullfrog_s_000023.png',\n",
              "  b'domestic_dog_s_000461.png',\n",
              "  b'tipper_truck_s_000557.png',\n",
              "  b'tomcat_s_001522.png',\n",
              "  b'spring_frog_s_000619.png',\n",
              "  b'rana_temporaria_s_001298.png',\n",
              "  b'stag_s_001095.png',\n",
              "  b'bird_of_passage_s_000854.png',\n",
              "  b'mutt_s_000113.png',\n",
              "  b'rangifer_tarandus_s_000760.png',\n",
              "  b'dunnock_s_001613.png',\n",
              "  b'cock_s_000397.png',\n",
              "  b'container_ship_s_002420.png',\n",
              "  b'tabby_cat_s_002107.png',\n",
              "  b'airbus_s_000137.png',\n",
              "  b'biplane_s_000169.png',\n",
              "  b'tipper_truck_s_001845.png',\n",
              "  b'elk_s_000798.png',\n",
              "  b'police_boat_s_000368.png',\n",
              "  b'cargo_ship_s_001088.png',\n",
              "  b'coupe_s_001539.png',\n",
              "  b'canis_familiaris_s_001300.png',\n",
              "  b'plane_s_001230.png',\n",
              "  b'bufo_bufo_s_000793.png',\n",
              "  b'monoplane_s_001181.png',\n",
              "  b'shooting_brake_s_001134.png',\n",
              "  b'cabin_cruiser_s_000915.png',\n",
              "  b'camion_s_000385.png',\n",
              "  b'fire_engine_s_001619.png',\n",
              "  b'coupe_s_000954.png',\n",
              "  b'tennessee_walking_horse_s_001405.png',\n",
              "  b'airbus_s_000242.png',\n",
              "  b'cat_s_001091.png',\n",
              "  b'emu_s_000343.png',\n",
              "  b'roe_deer_s_001734.png',\n",
              "  b'aerial_ladder_truck_s_000488.png',\n",
              "  b'dog_s_001743.png',\n",
              "  b'dump_truck_s_000686.png',\n",
              "  b'dawn_horse_s_001601.png',\n",
              "  b'police_boat_s_000447.png',\n",
              "  b'compact_s_001105.png',\n",
              "  b'puppy_s_001874.png',\n",
              "  b'emu_s_001892.png',\n",
              "  b'racing_boat_s_000056.png',\n",
              "  b'ostrich_s_001523.png',\n",
              "  b'true_frog_s_000158.png',\n",
              "  b'airbus_s_001240.png',\n",
              "  b'felis_catus_s_000318.png',\n",
              "  b'accentor_s_001214.png',\n",
              "  b'female_horse_s_000657.png',\n",
              "  b'arabian_s_000972.png',\n",
              "  b'ostrich_s_001574.png',\n",
              "  b'coupe_s_001571.png',\n",
              "  b'moose_s_000677.png',\n",
              "  b'fire_truck_s_002600.png',\n",
              "  b'ambulance_s_000498.png',\n",
              "  b'capreolus_capreolus_s_001316.png',\n",
              "  b'dump_truck_s_001878.png',\n",
              "  b'saddle_horse_s_000809.png',\n",
              "  b'bird_of_passage_s_000629.png',\n",
              "  b'cervus_elaphus_s_000272.png',\n",
              "  b'bufo_viridis_s_001139.png',\n",
              "  b'mouser_s_000222.png',\n",
              "  b'canis_familiaris_s_001324.png',\n",
              "  b'frog_s_000002.png',\n",
              "  b'oil_tanker_s_001677.png',\n",
              "  b'tabby_cat_s_000674.png',\n",
              "  b'passerine_s_001130.png',\n",
              "  b'mutt_s_001294.png',\n",
              "  b'lark_s_001618.png',\n",
              "  b'freighter_s_000846.png',\n",
              "  b'tipper_truck_s_000306.png',\n",
              "  b'car_s_002008.png',\n",
              "  b'apteryx_s_000103.png',\n",
              "  b'attack_aircraft_s_000177.png',\n",
              "  b'coupe_s_001653.png',\n",
              "  b'tipper_truck_s_000797.png',\n",
              "  b'toy_spaniel_s_000720.png',\n",
              "  b'twinjet_s_000318.png',\n",
              "  b'lark_s_000772.png',\n",
              "  b'toy_dog_s_000161.png',\n",
              "  b'tandem_trailer_s_001909.png',\n",
              "  b'pekingese_s_001909.png',\n",
              "  b'domestic_cat_s_000868.png',\n",
              "  b'emu_s_000642.png',\n",
              "  b'frog_s_001472.png',\n",
              "  b'mule_deer_s_000584.png',\n",
              "  b'cat_s_001093.png',\n",
              "  b'jumbo_jet_s_000762.png',\n",
              "  b'propeller_plane_s_001184.png',\n",
              "  b'pekingese_s_000822.png',\n",
              "  b'coupe_s_000941.png',\n",
              "  b'mongrel_s_001728.png',\n",
              "  b'cruiser_s_000486.png',\n",
              "  b'fawn_s_001060.png',\n",
              "  b'auto_s_000984.png',\n",
              "  b'tractor_trailer_s_001015.png',\n",
              "  b'peke_s_001358.png',\n",
              "  b'fallow_deer_s_000861.png',\n",
              "  b'stallion_s_001327.png',\n",
              "  b'felis_domesticus_s_000078.png',\n",
              "  b'delivery_van_s_000080.png',\n",
              "  b'pekingese_s_002684.png',\n",
              "  b'rana_temporaria_s_000006.png',\n",
              "  b'elk_s_002387.png',\n",
              "  b'bird_s_001734.png',\n",
              "  b'rana_cascadae_s_000006.png',\n",
              "  b'delivery_truck_s_000520.png',\n",
              "  b'dumper_s_000762.png',\n",
              "  b'biplane_s_000940.png',\n",
              "  b'flying_bird_s_001524.png',\n",
              "  b'dog_s_000512.png',\n",
              "  b'trucking_rig_s_000893.png',\n",
              "  b'woodland_caribou_s_000860.png',\n",
              "  b'maltese_s_000852.png',\n",
              "  b'aerial_ladder_truck_s_000561.png',\n",
              "  b'domestic_cat_s_001514.png',\n",
              "  b'coupe_s_000922.png',\n",
              "  b'bufo_americanus_s_000209.png',\n",
              "  b'cassowary_s_001323.png',\n",
              "  b'leopard_frog_s_002014.png',\n",
              "  b'toy_spaniel_s_000327.png',\n",
              "  b'stealth_bomber_s_000712.png',\n",
              "  b'airliner_s_001397.png',\n",
              "  b'sea_boat_s_000594.png',\n",
              "  b'accentor_s_000671.png',\n",
              "  b'coupe_s_000748.png',\n",
              "  b'bufo_bufo_s_001227.png',\n",
              "  b'monoplane_s_001463.png',\n",
              "  b'estate_car_s_000615.png',\n",
              "  b'prunella_modularis_s_000561.png',\n",
              "  b'motorcar_s_001583.png',\n",
              "  b'felis_domesticus_s_000170.png',\n",
              "  b'felis_domesticus_s_000672.png',\n",
              "  b'minesweeper_s_000279.png',\n",
              "  b'domestic_cat_s_001757.png',\n",
              "  b'pekinese_s_000569.png',\n",
              "  b'delivery_truck_s_000028.png',\n",
              "  b'western_toad_s_000279.png',\n",
              "  b'tennessee_walker_s_001132.png',\n",
              "  b'lippizan_s_000816.png',\n",
              "  b'pontoon_s_000862.png',\n",
              "  b'maltese_s_001528.png',\n",
              "  b'tipper_lorry_s_000620.png',\n",
              "  b'hen_s_000067.png',\n",
              "  b'maltese_s_000707.png',\n",
              "  b'bird_s_001247.png',\n",
              "  b'auto_s_001839.png',\n",
              "  b'jetliner_s_000412.png',\n",
              "  b'boat_s_000035.png',\n",
              "  b'aerial_ladder_truck_s_000225.png',\n",
              "  b'tabby_cat_s_000810.png',\n",
              "  b'dumper_s_000355.png',\n",
              "  b'domestic_cat_s_000365.png',\n",
              "  b'bookmobile_s_000837.png',\n",
              "  b'lorry_s_000166.png',\n",
              "  b'tabby_s_000949.png',\n",
              "  b'rhea_americana_s_000154.png',\n",
              "  b'domestic_cat_s_000145.png',\n",
              "  b'truck_s_000368.png',\n",
              "  b'broodmare_s_000328.png',\n",
              "  b'wagon_s_000147.png',\n",
              "  b'station_wagon_s_001062.png',\n",
              "  b'felis_catus_s_001154.png',\n",
              "  b'dumper_s_000504.png',\n",
              "  b'anthus_pratensis_s_000874.png',\n",
              "  b'passerine_s_000277.png',\n",
              "  b'iceboat_s_001256.png',\n",
              "  b'tabby_s_002075.png',\n",
              "  b'red_deer_s_000903.png',\n",
              "  b'struthio_camelus_s_000091.png',\n",
              "  b'coupe_s_000942.png',\n",
              "  b'maltese_dog_s_001613.png',\n",
              "  b'american_elk_s_000200.png',\n",
              "  b'pipit_s_000268.png',\n",
              "  b'semi_s_001213.png',\n",
              "  b'appaloosa_s_001970.png',\n",
              "  b'green_frog_s_001495.png',\n",
              "  b'cervus_unicolor_s_000359.png',\n",
              "  b'rana_clamitans_s_000098.png',\n",
              "  b'fallow_deer_s_002003.png',\n",
              "  b'deer_s_000006.png',\n",
              "  b'tennessee_walking_horse_s_001643.png',\n",
              "  b'station_wagon_s_000817.png',\n",
              "  b'arabian_s_000904.png',\n",
              "  b'domestic_cat_s_001366.png',\n",
              "  b'hospital_ship_s_000073.png',\n",
              "  b'speedboat_s_000523.png',\n",
              "  b'mouser_s_000063.png',\n",
              "  b'car_s_001114.png',\n",
              "  b'amphibious_aircraft_s_000481.png',\n",
              "  b'tailed_frog_s_000379.png',\n",
              "  b'tailed_frog_s_000006.png',\n",
              "  b'automobile_s_000390.png',\n",
              "  b'elk_s_002073.png',\n",
              "  b'bufo_americanus_s_001518.png',\n",
              "  b'tomcat_s_000778.png',\n",
              "  b'pipit_s_001652.png',\n",
              "  b'maltese_s_000072.png',\n",
              "  b'dive_bomber_s_001727.png',\n",
              "  b'coupe_s_000340.png',\n",
              "  b'deer_s_000811.png',\n",
              "  b'articulated_lorry_s_000455.png',\n",
              "  b'arabian_s_001277.png',\n",
              "  b'stud_mare_s_000349.png',\n",
              "  b'caribou_s_001787.png',\n",
              "  b'attack_aircraft_s_000759.png',\n",
              "  b'leopard_frog_s_000472.png',\n",
              "  b'monoplane_s_000641.png',\n",
              "  b'stealth_fighter_s_000666.png',\n",
              "  b'chihuahua_s_000817.png',\n",
              "  b'roe_deer_s_000089.png',\n",
              "  b'european_toad_s_000079.png',\n",
              "  b'kiwi_s_000698.png',\n",
              "  b'cargo_ship_s_000025.png',\n",
              "  b'sparrow_s_000609.png',\n",
              "  b'biplane_s_001305.png',\n",
              "  b'tomcat_s_001881.png',\n",
              "  b'mouser_s_000224.png',\n",
              "  b'auto_s_000814.png',\n",
              "  b'moose_s_000378.png',\n",
              "  b'tarahumara_frog_s_000001.png',\n",
              "  b'aerial_ladder_truck_s_000682.png',\n",
              "  b'passenger_ship_s_001162.png',\n",
              "  b'dawn_horse_s_000260.png',\n",
              "  b'sea_boat_s_000019.png',\n",
              "  b'dog_s_000933.png',\n",
              "  b'domestic_cat_s_000820.png',\n",
              "  b'emu_s_000659.png',\n",
              "  b'garbage_truck_s_000634.png',\n",
              "  b'convertible_s_001553.png',\n",
              "  b'lipizzan_s_001104.png',\n",
              "  b'dump_truck_s_001384.png',\n",
              "  b'powerboat_s_000073.png',\n",
              "  b'emu_novaehollandiae_s_000486.png',\n",
              "  b'coupe_s_001594.png',\n",
              "  b'stag_s_002239.png',\n",
              "  b'bird_s_002235.png',\n",
              "  b'pilot_boat_s_001694.png',\n",
              "  b'tanker_s_000677.png',\n",
              "  b'fire_truck_s_002368.png',\n",
              "  b'house_cat_s_001874.png',\n",
              "  b'pontoon_s_001009.png',\n",
              "  b'rana_temporaria_s_001788.png',\n",
              "  b'estate_car_s_000305.png',\n",
              "  b'tabby_cat_s_000477.png',\n",
              "  b'maltese_s_001847.png',\n",
              "  b'tabby_s_000543.png',\n",
              "  b'rangifer_caribou_s_000041.png',\n",
              "  b'rangifer_tarandus_s_000490.png',\n",
              "  b'blenheim_spaniel_s_001178.png',\n",
              "  b'boat_s_001164.png',\n",
              "  b'fire_engine_s_000868.png',\n",
              "  b'ostrich_s_001376.png',\n",
              "  b'american_elk_s_000900.png',\n",
              "  b'studhorse_s_000117.png',\n",
              "  b'rana_catesbeiana_s_000078.png',\n",
              "  b'accentor_s_000964.png',\n",
              "  b'station_wagon_s_000086.png',\n",
              "  b'domestic_cat_s_002099.png',\n",
              "  b'red_deer_s_000334.png',\n",
              "  b'passenger_ship_s_001880.png',\n",
              "  b'tennessee_walking_horse_s_001241.png',\n",
              "  b'fallow_deer_s_001826.png',\n",
              "  b'capreolus_capreolus_s_000929.png',\n",
              "  b'cat_s_002055.png',\n",
              "  b'wagtail_s_001978.png',\n",
              "  b'jumbo_jet_s_000185.png',\n",
              "  b'lapdog_s_000946.png',\n",
              "  b'lippizan_s_000824.png',\n",
              "  b'compact_car_s_000267.png',\n",
              "  b'rangifer_tarandus_s_000163.png',\n",
              "  b'cassowary_s_001639.png',\n",
              "  b'meadow_pipit_s_001480.png',\n",
              "  b'twinjet_s_000834.png',\n",
              "  b'domestic_cat_s_001125.png',\n",
              "  b'quarter_horse_s_002056.png',\n",
              "  b'trailer_truck_s_000600.png',\n",
              "  b'moving_van_s_002396.png',\n",
              "  b'elk_s_001760.png',\n",
              "  b'garbage_truck_s_001329.png',\n",
              "  b'automobile_s_002304.png',\n",
              "  b'garbage_truck_s_000860.png',\n",
              "  b'jetliner_s_000399.png',\n",
              "  b'alauda_arvensis_s_000388.png',\n",
              "  b'bufo_viridis_s_001033.png',\n",
              "  b'roe_deer_s_000980.png',\n",
              "  b'green_frog_s_001974.png',\n",
              "  b'attack_aircraft_s_000273.png',\n",
              "  b'bufo_americanus_s_000308.png',\n",
              "  b'cervid_s_000245.png',\n",
              "  b'car_s_000036.png',\n",
              "  b'dive_bomber_s_000551.png',\n",
              "  b'airbus_s_001238.png',\n",
              "  b'capreolus_capreolus_s_001305.png',\n",
              "  b'boat_s_001208.png',\n",
              "  b'roe_deer_s_001125.png',\n",
              "  b'green_frog_s_000375.png',\n",
              "  b'arabian_s_000781.png',\n",
              "  b'bufo_bufo_s_001806.png',\n",
              "  b'rangifer_caribou_s_000058.png',\n",
              "  b'barking_frog_s_000033.png',\n",
              "  b'compact_car_s_001847.png',\n",
              "  b'twinjet_s_001143.png',\n",
              "  b'stallion_s_000876.png',\n",
              "  b'dinghy_s_000063.png',\n",
              "  b'puppy_s_000543.png',\n",
              "  b'walking_horse_s_001363.png',\n",
              "  b'jumbojet_s_001203.png',\n",
              "  b'airliner_s_001478.png',\n",
              "  b'pekingese_s_000580.png',\n",
              "  b'dump_truck_s_000028.png',\n",
              "  b'felis_domesticus_s_000020.png',\n",
              "  b'camion_s_000782.png',\n",
              "  b'quarter_horse_s_000613.png',\n",
              "  b'trucking_rig_s_000136.png',\n",
              "  b'scow_s_001230.png',\n",
              "  b'bufo_viridis_s_001184.png',\n",
              "  b'arabian_s_002488.png',\n",
              "  b'rhea_americana_s_000202.png',\n",
              "  b'sea_boat_s_000203.png',\n",
              "  b'deer_s_000164.png',\n",
              "  b'automobile_s_001271.png',\n",
              "  b'toad_frog_s_000358.png',\n",
              "  b'coupe_s_001016.png',\n",
              "  b'lorry_s_000192.png',\n",
              "  b'house_cat_s_000876.png',\n",
              "  b'houseboat_s_000028.png',\n",
              "  b'coupe_s_001121.png',\n",
              "  b'muntjac_s_001695.png',\n",
              "  b'convertible_s_001493.png',\n",
              "  b'dog_s_000546.png',\n",
              "  b'rana_pipiens_s_000950.png',\n",
              "  b'dump_truck_s_000054.png',\n",
              "  b'cruiser_s_000489.png',\n",
              "  b'broodmare_s_000809.png',\n",
              "  b'houseboat_s_000011.png',\n",
              "  b'moose_s_001568.png',\n",
              "  b'jumbo_jet_s_000868.png',\n",
              "  b'domestic_cat_s_001046.png',\n",
              "  b'passenger_ship_s_001315.png',\n",
              "  b'mule_deer_s_000456.png',\n",
              "  b'stealth_bomber_s_000449.png',\n",
              "  b'cat_s_000167.png',\n",
              "  b'puppy_s_001667.png',\n",
              "  b'truck_s_000697.png',\n",
              "  b'caribou_s_001967.png',\n",
              "  b'stealth_fighter_s_001204.png',\n",
              "  b'sparrow_s_000222.png',\n",
              "  b'fallow_deer_s_001823.png',\n",
              "  b'monoplane_s_001152.png',\n",
              "  b'stallion_s_000151.png',\n",
              "  b'moving_van_s_000538.png',\n",
              "  b'songbird_s_001989.png',\n",
              "  b'felis_catus_s_000338.png',\n",
              "  b'spadefoot_s_000817.png',\n",
              "  b'attack_aircraft_s_000590.png',\n",
              "  b'maltese_dog_s_001074.png',\n",
              "  b'stealth_bomber_s_001587.png',\n",
              "  b'bird_s_000207.png',\n",
              "  b'quarter_horse_s_000315.png',\n",
              "  b'rana_catesbeiana_s_000142.png',\n",
              "  b'cat_s_001124.png',\n",
              "  b'buckskin_s_000161.png',\n",
              "  b'fire_engine_s_002303.png',\n",
              "  b'felis_domesticus_s_000391.png',\n",
              "  b'dawn_horse_s_001572.png',\n",
              "  b'nandu_s_002023.png',\n",
              "  b'japanese_spaniel_s_000319.png',\n",
              "  b'banana_boat_s_001294.png',\n",
              "  b'riding_horse_s_000024.png',\n",
              "  b'convertible_s_000682.png',\n",
              "  b'gelding_s_000271.png',\n",
              "  b'mutt_s_001983.png',\n",
              "  b'cat_s_000420.png',\n",
              "  b'stallion_s_000923.png',\n",
              "  b'sea_boat_s_001743.png',\n",
              "  b'trucking_rig_s_000833.png',\n",
              "  b'motorcar_s_000371.png',\n",
              "  ...],\n",
              " b'labels': [0,\n",
              "  6,\n",
              "  0,\n",
              "  2,\n",
              "  7,\n",
              "  2,\n",
              "  1,\n",
              "  2,\n",
              "  4,\n",
              "  1,\n",
              "  5,\n",
              "  6,\n",
              "  6,\n",
              "  3,\n",
              "  1,\n",
              "  3,\n",
              "  5,\n",
              "  5,\n",
              "  8,\n",
              "  1,\n",
              "  4,\n",
              "  2,\n",
              "  3,\n",
              "  2,\n",
              "  1,\n",
              "  2,\n",
              "  8,\n",
              "  9,\n",
              "  5,\n",
              "  0,\n",
              "  7,\n",
              "  6,\n",
              "  7,\n",
              "  6,\n",
              "  8,\n",
              "  8,\n",
              "  7,\n",
              "  4,\n",
              "  9,\n",
              "  1,\n",
              "  2,\n",
              "  6,\n",
              "  5,\n",
              "  9,\n",
              "  4,\n",
              "  2,\n",
              "  5,\n",
              "  1,\n",
              "  0,\n",
              "  1,\n",
              "  1,\n",
              "  9,\n",
              "  0,\n",
              "  7,\n",
              "  5,\n",
              "  3,\n",
              "  9,\n",
              "  6,\n",
              "  3,\n",
              "  3,\n",
              "  3,\n",
              "  4,\n",
              "  1,\n",
              "  5,\n",
              "  9,\n",
              "  7,\n",
              "  7,\n",
              "  2,\n",
              "  9,\n",
              "  0,\n",
              "  2,\n",
              "  8,\n",
              "  5,\n",
              "  9,\n",
              "  6,\n",
              "  7,\n",
              "  8,\n",
              "  4,\n",
              "  0,\n",
              "  4,\n",
              "  9,\n",
              "  2,\n",
              "  7,\n",
              "  1,\n",
              "  0,\n",
              "  5,\n",
              "  1,\n",
              "  8,\n",
              "  1,\n",
              "  6,\n",
              "  5,\n",
              "  9,\n",
              "  7,\n",
              "  0,\n",
              "  4,\n",
              "  5,\n",
              "  2,\n",
              "  3,\n",
              "  5,\n",
              "  5,\n",
              "  6,\n",
              "  0,\n",
              "  2,\n",
              "  1,\n",
              "  1,\n",
              "  5,\n",
              "  8,\n",
              "  5,\n",
              "  2,\n",
              "  4,\n",
              "  2,\n",
              "  2,\n",
              "  5,\n",
              "  3,\n",
              "  0,\n",
              "  3,\n",
              "  0,\n",
              "  2,\n",
              "  9,\n",
              "  1,\n",
              "  1,\n",
              "  7,\n",
              "  3,\n",
              "  8,\n",
              "  5,\n",
              "  4,\n",
              "  5,\n",
              "  9,\n",
              "  6,\n",
              "  5,\n",
              "  6,\n",
              "  4,\n",
              "  4,\n",
              "  5,\n",
              "  5,\n",
              "  1,\n",
              "  1,\n",
              "  5,\n",
              "  6,\n",
              "  2,\n",
              "  5,\n",
              "  0,\n",
              "  8,\n",
              "  6,\n",
              "  2,\n",
              "  2,\n",
              "  6,\n",
              "  8,\n",
              "  8,\n",
              "  6,\n",
              "  7,\n",
              "  4,\n",
              "  0,\n",
              "  4,\n",
              "  1,\n",
              "  5,\n",
              "  4,\n",
              "  2,\n",
              "  0,\n",
              "  3,\n",
              "  0,\n",
              "  9,\n",
              "  5,\n",
              "  7,\n",
              "  8,\n",
              "  1,\n",
              "  1,\n",
              "  7,\n",
              "  8,\n",
              "  8,\n",
              "  3,\n",
              "  0,\n",
              "  0,\n",
              "  4,\n",
              "  7,\n",
              "  9,\n",
              "  6,\n",
              "  0,\n",
              "  9,\n",
              "  9,\n",
              "  9,\n",
              "  2,\n",
              "  1,\n",
              "  1,\n",
              "  7,\n",
              "  4,\n",
              "  3,\n",
              "  7,\n",
              "  5,\n",
              "  5,\n",
              "  7,\n",
              "  9,\n",
              "  3,\n",
              "  6,\n",
              "  9,\n",
              "  7,\n",
              "  5,\n",
              "  7,\n",
              "  1,\n",
              "  7,\n",
              "  0,\n",
              "  5,\n",
              "  6,\n",
              "  7,\n",
              "  3,\n",
              "  0,\n",
              "  4,\n",
              "  5,\n",
              "  1,\n",
              "  1,\n",
              "  8,\n",
              "  8,\n",
              "  6,\n",
              "  3,\n",
              "  2,\n",
              "  9,\n",
              "  7,\n",
              "  8,\n",
              "  1,\n",
              "  3,\n",
              "  9,\n",
              "  8,\n",
              "  6,\n",
              "  9,\n",
              "  2,\n",
              "  4,\n",
              "  4,\n",
              "  1,\n",
              "  4,\n",
              "  2,\n",
              "  4,\n",
              "  5,\n",
              "  2,\n",
              "  0,\n",
              "  1,\n",
              "  5,\n",
              "  1,\n",
              "  2,\n",
              "  1,\n",
              "  2,\n",
              "  0,\n",
              "  2,\n",
              "  4,\n",
              "  4,\n",
              "  1,\n",
              "  1,\n",
              "  2,\n",
              "  9,\n",
              "  5,\n",
              "  6,\n",
              "  4,\n",
              "  2,\n",
              "  8,\n",
              "  7,\n",
              "  2,\n",
              "  7,\n",
              "  4,\n",
              "  0,\n",
              "  2,\n",
              "  6,\n",
              "  5,\n",
              "  8,\n",
              "  8,\n",
              "  9,\n",
              "  7,\n",
              "  7,\n",
              "  3,\n",
              "  0,\n",
              "  4,\n",
              "  1,\n",
              "  3,\n",
              "  0,\n",
              "  0,\n",
              "  8,\n",
              "  7,\n",
              "  5,\n",
              "  9,\n",
              "  8,\n",
              "  7,\n",
              "  5,\n",
              "  0,\n",
              "  1,\n",
              "  4,\n",
              "  5,\n",
              "  6,\n",
              "  9,\n",
              "  2,\n",
              "  2,\n",
              "  3,\n",
              "  4,\n",
              "  5,\n",
              "  4,\n",
              "  6,\n",
              "  1,\n",
              "  8,\n",
              "  0,\n",
              "  7,\n",
              "  0,\n",
              "  7,\n",
              "  8,\n",
              "  4,\n",
              "  5,\n",
              "  6,\n",
              "  8,\n",
              "  0,\n",
              "  3,\n",
              "  4,\n",
              "  4,\n",
              "  5,\n",
              "  9,\n",
              "  5,\n",
              "  3,\n",
              "  2,\n",
              "  1,\n",
              "  1,\n",
              "  2,\n",
              "  1,\n",
              "  2,\n",
              "  3,\n",
              "  7,\n",
              "  8,\n",
              "  0,\n",
              "  8,\n",
              "  6,\n",
              "  0,\n",
              "  2,\n",
              "  4,\n",
              "  9,\n",
              "  8,\n",
              "  8,\n",
              "  7,\n",
              "  0,\n",
              "  3,\n",
              "  2,\n",
              "  6,\n",
              "  8,\n",
              "  6,\n",
              "  5,\n",
              "  3,\n",
              "  3,\n",
              "  7,\n",
              "  4,\n",
              "  5,\n",
              "  9,\n",
              "  1,\n",
              "  4,\n",
              "  3,\n",
              "  3,\n",
              "  7,\n",
              "  5,\n",
              "  6,\n",
              "  9,\n",
              "  2,\n",
              "  4,\n",
              "  4,\n",
              "  0,\n",
              "  5,\n",
              "  8,\n",
              "  4,\n",
              "  5,\n",
              "  9,\n",
              "  3,\n",
              "  1,\n",
              "  9,\n",
              "  9,\n",
              "  2,\n",
              "  8,\n",
              "  6,\n",
              "  7,\n",
              "  9,\n",
              "  5,\n",
              "  2,\n",
              "  5,\n",
              "  8,\n",
              "  1,\n",
              "  5,\n",
              "  0,\n",
              "  2,\n",
              "  0,\n",
              "  9,\n",
              "  8,\n",
              "  5,\n",
              "  7,\n",
              "  0,\n",
              "  4,\n",
              "  7,\n",
              "  3,\n",
              "  5,\n",
              "  8,\n",
              "  3,\n",
              "  6,\n",
              "  2,\n",
              "  9,\n",
              "  5,\n",
              "  6,\n",
              "  5,\n",
              "  2,\n",
              "  7,\n",
              "  8,\n",
              "  1,\n",
              "  0,\n",
              "  7,\n",
              "  2,\n",
              "  2,\n",
              "  9,\n",
              "  2,\n",
              "  8,\n",
              "  1,\n",
              "  0,\n",
              "  7,\n",
              "  7,\n",
              "  8,\n",
              "  9,\n",
              "  4,\n",
              "  4,\n",
              "  0,\n",
              "  9,\n",
              "  7,\n",
              "  1,\n",
              "  7,\n",
              "  9,\n",
              "  7,\n",
              "  7,\n",
              "  8,\n",
              "  3,\n",
              "  4,\n",
              "  0,\n",
              "  6,\n",
              "  0,\n",
              "  0,\n",
              "  7,\n",
              "  7,\n",
              "  3,\n",
              "  8,\n",
              "  7,\n",
              "  4,\n",
              "  4,\n",
              "  2,\n",
              "  8,\n",
              "  1,\n",
              "  0,\n",
              "  5,\n",
              "  4,\n",
              "  8,\n",
              "  8,\n",
              "  1,\n",
              "  1,\n",
              "  7,\n",
              "  8,\n",
              "  4,\n",
              "  4,\n",
              "  2,\n",
              "  3,\n",
              "  2,\n",
              "  2,\n",
              "  7,\n",
              "  5,\n",
              "  1,\n",
              "  1,\n",
              "  3,\n",
              "  8,\n",
              "  3,\n",
              "  9,\n",
              "  1,\n",
              "  4,\n",
              "  9,\n",
              "  2,\n",
              "  0,\n",
              "  4,\n",
              "  6,\n",
              "  2,\n",
              "  1,\n",
              "  8,\n",
              "  5,\n",
              "  4,\n",
              "  2,\n",
              "  3,\n",
              "  5,\n",
              "  2,\n",
              "  3,\n",
              "  2,\n",
              "  6,\n",
              "  5,\n",
              "  8,\n",
              "  7,\n",
              "  6,\n",
              "  1,\n",
              "  0,\n",
              "  8,\n",
              "  1,\n",
              "  3,\n",
              "  6,\n",
              "  1,\n",
              "  2,\n",
              "  6,\n",
              "  1,\n",
              "  6,\n",
              "  0,\n",
              "  7,\n",
              "  4,\n",
              "  5,\n",
              "  4,\n",
              "  5,\n",
              "  9,\n",
              "  8,\n",
              "  2,\n",
              "  5,\n",
              "  4,\n",
              "  8,\n",
              "  8,\n",
              "  8,\n",
              "  2,\n",
              "  6,\n",
              "  2,\n",
              "  8,\n",
              "  8,\n",
              "  1,\n",
              "  0,\n",
              "  4,\n",
              "  5,\n",
              "  0,\n",
              "  0,\n",
              "  4,\n",
              "  5,\n",
              "  2,\n",
              "  9,\n",
              "  6,\n",
              "  4,\n",
              "  4,\n",
              "  8,\n",
              "  1,\n",
              "  2,\n",
              "  2,\n",
              "  8,\n",
              "  1,\n",
              "  0,\n",
              "  6,\n",
              "  0,\n",
              "  7,\n",
              "  0,\n",
              "  5,\n",
              "  3,\n",
              "  2,\n",
              "  5,\n",
              "  8,\n",
              "  1,\n",
              "  9,\n",
              "  4,\n",
              "  7,\n",
              "  7,\n",
              "  8,\n",
              "  4,\n",
              "  7,\n",
              "  1,\n",
              "  5,\n",
              "  9,\n",
              "  7,\n",
              "  8,\n",
              "  9,\n",
              "  4,\n",
              "  1,\n",
              "  4,\n",
              "  7,\n",
              "  6,\n",
              "  0,\n",
              "  9,\n",
              "  9,\n",
              "  5,\n",
              "  7,\n",
              "  6,\n",
              "  1,\n",
              "  3,\n",
              "  2,\n",
              "  3,\n",
              "  3,\n",
              "  0,\n",
              "  6,\n",
              "  8,\n",
              "  9,\n",
              "  5,\n",
              "  9,\n",
              "  7,\n",
              "  1,\n",
              "  6,\n",
              "  2,\n",
              "  4,\n",
              "  3,\n",
              "  3,\n",
              "  6,\n",
              "  4,\n",
              "  5,\n",
              "  0,\n",
              "  7,\n",
              "  4,\n",
              "  6,\n",
              "  0,\n",
              "  2,\n",
              "  0,\n",
              "  9,\n",
              "  7,\n",
              "  4,\n",
              "  8,\n",
              "  2,\n",
              "  6,\n",
              "  0,\n",
              "  0,\n",
              "  3,\n",
              "  8,\n",
              "  6,\n",
              "  0,\n",
              "  6,\n",
              "  3,\n",
              "  2,\n",
              "  1,\n",
              "  4,\n",
              "  9,\n",
              "  4,\n",
              "  7,\n",
              "  5,\n",
              "  9,\n",
              "  9,\n",
              "  6,\n",
              "  5,\n",
              "  9,\n",
              "  3,\n",
              "  6,\n",
              "  6,\n",
              "  4,\n",
              "  2,\n",
              "  5,\n",
              "  4,\n",
              "  2,\n",
              "  2,\n",
              "  8,\n",
              "  3,\n",
              "  0,\n",
              "  0,\n",
              "  9,\n",
              "  4,\n",
              "  8,\n",
              "  8,\n",
              "  1,\n",
              "  5,\n",
              "  0,\n",
              "  6,\n",
              "  0,\n",
              "  1,\n",
              "  8,\n",
              "  9,\n",
              "  9,\n",
              "  1,\n",
              "  7,\n",
              "  0,\n",
              "  3,\n",
              "  2,\n",
              "  4,\n",
              "  9,\n",
              "  5,\n",
              "  9,\n",
              "  7,\n",
              "  8,\n",
              "  1,\n",
              "  5,\n",
              "  2,\n",
              "  8,\n",
              "  2,\n",
              "  6,\n",
              "  0,\n",
              "  3,\n",
              "  2,\n",
              "  7,\n",
              "  7,\n",
              "  2,\n",
              "  1,\n",
              "  4,\n",
              "  9,\n",
              "  1,\n",
              "  4,\n",
              "  9,\n",
              "  7,\n",
              "  2,\n",
              "  4,\n",
              "  6,\n",
              "  3,\n",
              "  5,\n",
              "  6,\n",
              "  8,\n",
              "  3,\n",
              "  2,\n",
              "  5,\n",
              "  2,\n",
              "  8,\n",
              "  9,\n",
              "  1,\n",
              "  2,\n",
              "  0,\n",
              "  1,\n",
              "  9,\n",
              "  5,\n",
              "  0,\n",
              "  2,\n",
              "  5,\n",
              "  9,\n",
              "  5,\n",
              "  3,\n",
              "  2,\n",
              "  6,\n",
              "  4,\n",
              "  3,\n",
              "  0,\n",
              "  0,\n",
              "  5,\n",
              "  1,\n",
              "  5,\n",
              "  1,\n",
              "  4,\n",
              "  1,\n",
              "  9,\n",
              "  5,\n",
              "  4,\n",
              "  7,\n",
              "  3,\n",
              "  9,\n",
              "  5,\n",
              "  6,\n",
              "  4,\n",
              "  2,\n",
              "  6,\n",
              "  9,\n",
              "  9,\n",
              "  0,\n",
              "  2,\n",
              "  5,\n",
              "  9,\n",
              "  4,\n",
              "  5,\n",
              "  9,\n",
              "  3,\n",
              "  1,\n",
              "  6,\n",
              "  2,\n",
              "  6,\n",
              "  5,\n",
              "  0,\n",
              "  0,\n",
              "  8,\n",
              "  2,\n",
              "  1,\n",
              "  6,\n",
              "  0,\n",
              "  1,\n",
              "  2,\n",
              "  1,\n",
              "  3,\n",
              "  3,\n",
              "  8,\n",
              "  3,\n",
              "  5,\n",
              "  9,\n",
              "  6,\n",
              "  7,\n",
              "  7,\n",
              "  8,\n",
              "  5,\n",
              "  9,\n",
              "  2,\n",
              "  5,\n",
              "  2,\n",
              "  1,\n",
              "  0,\n",
              "  8,\n",
              "  9,\n",
              "  3,\n",
              "  9,\n",
              "  3,\n",
              "  9,\n",
              "  9,\n",
              "  3,\n",
              "  2,\n",
              "  3,\n",
              "  9,\n",
              "  7,\n",
              "  1,\n",
              "  1,\n",
              "  3,\n",
              "  9,\n",
              "  2,\n",
              "  2,\n",
              "  8,\n",
              "  3,\n",
              "  4,\n",
              "  2,\n",
              "  1,\n",
              "  5,\n",
              "  4,\n",
              "  2,\n",
              "  9,\n",
              "  7,\n",
              "  6,\n",
              "  4,\n",
              "  6,\n",
              "  4,\n",
              "  4,\n",
              "  7,\n",
              "  1,\n",
              "  7,\n",
              "  3,\n",
              "  8,\n",
              "  8,\n",
              "  3,\n",
              "  1,\n",
              "  0,\n",
              "  6,\n",
              "  6,\n",
              "  1,\n",
              "  4,\n",
              "  6,\n",
              "  3,\n",
              "  2,\n",
              "  5,\n",
              "  0,\n",
              "  1,\n",
              "  4,\n",
              "  9,\n",
              "  7,\n",
              "  7,\n",
              "  4,\n",
              "  0,\n",
              "  6,\n",
              "  0,\n",
              "  0,\n",
              "  5,\n",
              "  4,\n",
              "  6,\n",
              "  2,\n",
              "  8,\n",
              "  2,\n",
              "  0,\n",
              "  3,\n",
              "  3,\n",
              "  1,\n",
              "  4,\n",
              "  6,\n",
              "  9,\n",
              "  8,\n",
              "  7,\n",
              "  8,\n",
              "  5,\n",
              "  3,\n",
              "  2,\n",
              "  9,\n",
              "  1,\n",
              "  7,\n",
              "  9,\n",
              "  8,\n",
              "  2,\n",
              "  1,\n",
              "  4,\n",
              "  2,\n",
              "  8,\n",
              "  8,\n",
              "  9,\n",
              "  3,\n",
              "  8,\n",
              "  6,\n",
              "  1,\n",
              "  3,\n",
              "  5,\n",
              "  3,\n",
              "  4,\n",
              "  4,\n",
              "  5,\n",
              "  8,\n",
              "  9,\n",
              "  2,\n",
              "  4,\n",
              "  7,\n",
              "  6,\n",
              "  2,\n",
              "  1,\n",
              "  3,\n",
              "  4,\n",
              "  8,\n",
              "  7,\n",
              "  4,\n",
              "  4,\n",
              "  3,\n",
              "  2,\n",
              "  0,\n",
              "  5,\n",
              "  7,\n",
              "  1,\n",
              "  4,\n",
              "  2,\n",
              "  2,\n",
              "  0,\n",
              "  3,\n",
              "  7,\n",
              "  9,\n",
              "  9,\n",
              "  4,\n",
              "  9,\n",
              "  1,\n",
              "  9,\n",
              "  0,\n",
              "  2,\n",
              "  6,\n",
              "  4,\n",
              "  6,\n",
              "  0,\n",
              "  6,\n",
              "  4,\n",
              "  1,\n",
              "  0,\n",
              "  0,\n",
              "  4,\n",
              "  8,\n",
              "  4,\n",
              "  6,\n",
              "  7,\n",
              "  6,\n",
              "  4,\n",
              "  6,\n",
              "  1,\n",
              "  0,\n",
              "  7,\n",
              "  8,\n",
              "  5,\n",
              "  7,\n",
              "  0,\n",
              "  0,\n",
              "  5,\n",
              "  9,\n",
              "  3,\n",
              "  9,\n",
              "  7,\n",
              "  9,\n",
              "  8,\n",
              "  6,\n",
              "  7,\n",
              "  2,\n",
              "  8,\n",
              "  4,\n",
              "  1,\n",
              "  6,\n",
              "  1,\n",
              "  9,\n",
              "  3,\n",
              "  8,\n",
              "  1,\n",
              "  4,\n",
              "  1,\n",
              "  5,\n",
              "  6,\n",
              "  9,\n",
              "  8,\n",
              "  7,\n",
              "  8,\n",
              "  4,\n",
              "  0,\n",
              "  3,\n",
              "  8,\n",
              "  4,\n",
              "  0,\n",
              "  3,\n",
              "  5,\n",
              "  9,\n",
              "  4,\n",
              "  0,\n",
              "  2,\n",
              "  4,\n",
              "  0,\n",
              "  7,\n",
              "  9,\n",
              "  2,\n",
              "  3,\n",
              "  6,\n",
              "  0,\n",
              "  5,\n",
              "  0,\n",
              "  2,\n",
              "  7,\n",
              "  6,\n",
              "  3,\n",
              "  7,\n",
              "  9,\n",
              "  3,\n",
              "  7,\n",
              "  2,\n",
              "  5,\n",
              "  8,\n",
              "  7,\n",
              "  1,\n",
              "  7,\n",
              "  5,\n",
              "  3,\n",
              "  7,\n",
              "  8,\n",
              "  9,\n",
              "  1,\n",
              "  ...]}"
            ]
          },
          "metadata": {
            "tags": []
          },
          "execution_count": 6
        }
      ]
    },
    {
      "cell_type": "code",
      "metadata": {
        "colab": {
          "base_uri": "https://localhost:8080/"
        },
        "id": "Qv-363Gi0mjS",
        "outputId": "ff283a80-f354-4847-bdad-2129daf261b1"
      },
      "source": [
        "# in the above dictionary we can see the keys of different elements\n",
        "# b'data' is the key for the image data\n",
        "# b'labels' is the key for the target values\n",
        "xt1 = x1[b'data']\n",
        "xt1"
      ],
      "execution_count": null,
      "outputs": [
        {
          "output_type": "execute_result",
          "data": {
            "text/plain": [
              "array([[178, 178, 178, ...,  80,  80,  77],\n",
              "       [ 29,  22,  25, ...,  29,  31,  30],\n",
              "       [ 36,  33,  21, ..., 173, 170, 170],\n",
              "       ...,\n",
              "       [167, 164, 151, ..., 132, 142, 130],\n",
              "       [ 45,  46,  46, ...,  30,  34,  24],\n",
              "       [235, 239, 239, ..., 182, 175, 174]], dtype=uint8)"
            ]
          },
          "metadata": {
            "tags": []
          },
          "execution_count": 7
        }
      ]
    },
    {
      "cell_type": "code",
      "metadata": {
        "id": "K92vtKD600Zz"
      },
      "source": [
        "# unpickling all the data batches \n",
        "xt1 = unpickle(path + 'data_batch_1')[b'data']\n",
        "xt2 = unpickle(path + 'data_batch_2')[b'data']\n",
        "xt3 = unpickle(path + 'data_batch_3')[b'data']\n",
        "xt4 = unpickle(path + 'data_batch_4')[b'data']\n",
        "xt5 = unpickle(path + 'data_batch_5')[b'data']\n",
        "yt1 = unpickle(path + 'data_batch_1')[b'labels']\n",
        "yt2 = unpickle(path + 'data_batch_2')[b'labels']\n",
        "yt3 = unpickle(path + 'data_batch_3')[b'labels']\n",
        "yt4 = unpickle(path + 'data_batch_4')[b'labels']\n",
        "yt5 = unpickle(path + 'data_batch_5')[b'labels']"
      ],
      "execution_count": null,
      "outputs": []
    },
    {
      "cell_type": "code",
      "metadata": {
        "id": "YoD2D88D2ejp"
      },
      "source": [
        "# concatenating the training data batches\n",
        "x_train = np.concatenate((xt1,xt2,xt3,xt4,xt5))\n",
        "y_train = np.concatenate((yt1,yt2,yt3,yt4,yt5))"
      ],
      "execution_count": null,
      "outputs": []
    },
    {
      "cell_type": "code",
      "metadata": {
        "colab": {
          "base_uri": "https://localhost:8080/"
        },
        "id": "wAcf7XDs3ASS",
        "outputId": "717e7f69-6276-4968-97b2-44e35aceed81"
      },
      "source": [
        "x_train.shape"
      ],
      "execution_count": null,
      "outputs": [
        {
          "output_type": "execute_result",
          "data": {
            "text/plain": [
              "(50000, 3072)"
            ]
          },
          "metadata": {
            "tags": []
          },
          "execution_count": 10
        }
      ]
    },
    {
      "cell_type": "code",
      "metadata": {
        "colab": {
          "base_uri": "https://localhost:8080/"
        },
        "id": "Wv6HePpH3Cp6",
        "outputId": "e8471794-2cc0-4c10-fc00-5394e5b0e231"
      },
      "source": [
        "y_train.shape"
      ],
      "execution_count": null,
      "outputs": [
        {
          "output_type": "execute_result",
          "data": {
            "text/plain": [
              "(50000,)"
            ]
          },
          "metadata": {
            "tags": []
          },
          "execution_count": 11
        }
      ]
    },
    {
      "cell_type": "code",
      "metadata": {
        "colab": {
          "base_uri": "https://localhost:8080/"
        },
        "id": "921yRfF-3NhY",
        "outputId": "c54efaa4-d743-4f21-8d06-7643d630e92a"
      },
      "source": [
        "# reshaping the target variable array into the linear array\n",
        "y_train.reshape(50000)"
      ],
      "execution_count": null,
      "outputs": [
        {
          "output_type": "execute_result",
          "data": {
            "text/plain": [
              "array([0, 6, 0, ..., 9, 1, 1])"
            ]
          },
          "metadata": {
            "tags": []
          },
          "execution_count": 12
        }
      ]
    },
    {
      "cell_type": "code",
      "metadata": {
        "id": "meiJDij43cxQ"
      },
      "source": [
        "#unpickling the test batch\n",
        "x_test = unpickle(path + 'test_batch')[b'data']\n",
        "y_test = unpickle(path + 'test_batch')[b'labels']"
      ],
      "execution_count": null,
      "outputs": []
    },
    {
      "cell_type": "code",
      "metadata": {
        "colab": {
          "base_uri": "https://localhost:8080/"
        },
        "id": "V_1CRPMD8mG-",
        "outputId": "663036de-a99f-4ebf-91c5-3472e25e2e09"
      },
      "source": [
        "print(x_test.shape)\n",
        "print(y_test)"
      ],
      "execution_count": null,
      "outputs": [
        {
          "output_type": "stream",
          "text": [
            "(10000, 3072)\n",
            "[3, 8, 8, 0, 6, 6, 1, 6, 3, 1, 0, 9, 5, 7, 9, 8, 5, 7, 8, 6, 7, 0, 4, 9, 5, 2, 4, 0, 9, 6, 6, 5, 4, 5, 9, 2, 4, 1, 9, 5, 4, 6, 5, 6, 0, 9, 3, 9, 7, 6, 9, 8, 0, 3, 8, 8, 7, 7, 4, 6, 7, 3, 6, 3, 6, 2, 1, 2, 3, 7, 2, 6, 8, 8, 0, 2, 9, 3, 3, 8, 8, 1, 1, 7, 2, 5, 2, 7, 8, 9, 0, 3, 8, 6, 4, 6, 6, 0, 0, 7, 4, 5, 6, 3, 1, 1, 3, 6, 8, 7, 4, 0, 6, 2, 1, 3, 0, 4, 2, 7, 8, 3, 1, 2, 8, 0, 8, 3, 5, 2, 4, 1, 8, 9, 1, 2, 9, 7, 2, 9, 6, 5, 6, 3, 8, 7, 6, 2, 5, 2, 8, 9, 6, 0, 0, 5, 2, 9, 5, 4, 2, 1, 6, 6, 8, 4, 8, 4, 5, 0, 9, 9, 9, 8, 9, 9, 3, 7, 5, 0, 0, 5, 2, 2, 3, 8, 6, 3, 4, 0, 5, 8, 0, 1, 7, 2, 8, 8, 7, 8, 5, 1, 8, 7, 1, 3, 0, 5, 7, 9, 7, 4, 5, 9, 8, 0, 7, 9, 8, 2, 7, 6, 9, 4, 3, 9, 6, 4, 7, 6, 5, 1, 5, 8, 8, 0, 4, 0, 5, 5, 1, 1, 8, 9, 0, 3, 1, 9, 2, 2, 5, 3, 9, 9, 4, 0, 3, 0, 0, 9, 8, 1, 5, 7, 0, 8, 2, 4, 7, 0, 2, 3, 6, 3, 8, 5, 0, 3, 4, 3, 9, 0, 6, 1, 0, 9, 1, 0, 7, 9, 1, 2, 6, 9, 3, 4, 6, 0, 0, 6, 6, 6, 3, 2, 6, 1, 8, 2, 1, 6, 8, 6, 8, 0, 4, 0, 7, 7, 5, 5, 3, 5, 2, 3, 4, 1, 7, 5, 4, 6, 1, 9, 3, 6, 6, 9, 3, 8, 0, 7, 2, 6, 2, 5, 8, 5, 4, 6, 8, 9, 9, 1, 0, 2, 2, 7, 3, 2, 8, 0, 9, 5, 8, 1, 9, 4, 1, 3, 8, 1, 4, 7, 9, 4, 2, 7, 0, 7, 0, 6, 6, 9, 0, 9, 2, 8, 7, 2, 2, 5, 1, 2, 6, 2, 9, 6, 2, 3, 0, 3, 9, 8, 7, 8, 8, 4, 0, 1, 8, 2, 7, 9, 3, 6, 1, 9, 0, 7, 3, 7, 4, 5, 0, 0, 2, 9, 3, 4, 0, 6, 2, 5, 3, 7, 3, 7, 2, 5, 3, 1, 1, 4, 9, 9, 5, 7, 5, 0, 2, 2, 2, 9, 7, 3, 9, 4, 3, 5, 4, 6, 5, 6, 1, 4, 3, 4, 4, 3, 7, 8, 3, 7, 8, 0, 5, 7, 6, 0, 5, 4, 8, 6, 8, 5, 5, 9, 9, 9, 5, 0, 1, 0, 8, 1, 1, 8, 0, 2, 2, 0, 4, 6, 5, 4, 9, 4, 7, 9, 9, 4, 5, 6, 6, 1, 5, 3, 8, 9, 5, 8, 5, 7, 0, 7, 0, 5, 0, 0, 4, 6, 9, 0, 9, 5, 6, 6, 6, 2, 9, 0, 1, 7, 6, 7, 5, 9, 1, 6, 2, 5, 5, 5, 8, 5, 9, 4, 6, 4, 3, 2, 0, 7, 6, 2, 2, 3, 9, 7, 9, 2, 6, 7, 1, 3, 6, 6, 8, 9, 7, 5, 4, 0, 8, 4, 0, 9, 3, 4, 8, 9, 6, 9, 2, 6, 1, 4, 7, 3, 5, 3, 8, 5, 0, 2, 1, 6, 4, 3, 3, 9, 6, 9, 8, 8, 5, 8, 6, 6, 2, 1, 7, 7, 1, 2, 7, 9, 9, 4, 4, 1, 2, 5, 6, 8, 7, 6, 8, 3, 0, 5, 5, 3, 0, 7, 9, 1, 3, 4, 4, 5, 3, 9, 5, 6, 9, 2, 1, 1, 4, 1, 9, 4, 7, 6, 3, 8, 9, 0, 1, 3, 6, 3, 6, 3, 2, 0, 3, 1, 0, 5, 9, 6, 4, 8, 9, 6, 9, 6, 3, 0, 3, 2, 2, 7, 8, 3, 8, 2, 7, 5, 7, 2, 4, 8, 7, 4, 2, 9, 8, 8, 6, 8, 8, 7, 4, 3, 3, 8, 4, 9, 4, 8, 8, 1, 8, 2, 1, 3, 6, 5, 4, 2, 7, 9, 9, 4, 1, 4, 1, 3, 2, 7, 0, 7, 9, 7, 6, 6, 2, 5, 9, 2, 9, 1, 2, 2, 6, 8, 2, 1, 3, 6, 6, 0, 1, 2, 7, 0, 5, 4, 6, 1, 6, 4, 0, 2, 2, 6, 0, 5, 9, 1, 7, 6, 7, 0, 3, 9, 6, 8, 3, 0, 3, 4, 7, 7, 1, 4, 7, 2, 7, 1, 4, 7, 4, 4, 8, 4, 7, 7, 5, 3, 7, 2, 0, 8, 9, 5, 8, 3, 6, 2, 0, 8, 7, 3, 7, 6, 5, 3, 1, 3, 2, 2, 5, 4, 1, 2, 9, 2, 7, 0, 7, 2, 1, 3, 2, 0, 2, 4, 7, 9, 8, 9, 0, 7, 7, 0, 7, 8, 4, 6, 3, 3, 0, 1, 3, 7, 0, 1, 3, 1, 4, 2, 3, 8, 4, 2, 3, 7, 8, 4, 3, 0, 9, 0, 0, 1, 0, 4, 4, 6, 7, 6, 1, 1, 3, 7, 3, 5, 2, 6, 6, 5, 8, 7, 1, 6, 8, 8, 5, 3, 0, 4, 0, 1, 3, 8, 8, 0, 6, 9, 9, 9, 5, 5, 8, 6, 0, 0, 4, 2, 3, 2, 7, 2, 2, 5, 9, 8, 9, 1, 7, 4, 0, 3, 0, 1, 3, 8, 3, 9, 6, 1, 4, 7, 0, 3, 7, 8, 9, 1, 1, 6, 6, 6, 6, 9, 1, 9, 9, 4, 2, 1, 7, 0, 6, 8, 1, 9, 2, 9, 0, 4, 7, 8, 3, 1, 2, 0, 1, 5, 8, 4, 6, 3, 8, 1, 3, 8, 5, 0, 8, 4, 8, 1, 1, 8, 9, 6, 0, 8, 6, 1, 3, 4, 1, 6, 0, 5, 1, 1, 0, 0, 3, 5, 0, 0, 6, 6, 3, 3, 6, 3, 6, 6, 0, 7, 2, 2, 7, 5, 5, 2, 8, 5, 2, 1, 1, 4, 3, 2, 0, 3, 1, 5, 3, 7, 6, 8, 9, 1, 6, 4, 9, 3, 9, 0, 9, 6, 3, 6, 0, 7, 3, 8, 0, 0, 0, 6, 6, 6, 9, 2, 5, 4, 4, 6, 3, 6, 0, 8, 6, 0, 6, 2, 7, 5, 1, 2, 7, 8, 8, 0, 9, 4, 9, 7, 2, 0, 2, 8, 3, 8, 9, 1, 5, 5, 4, 7, 5, 3, 8, 3, 3, 6, 2, 8, 4, 3, 7, 1, 2, 4, 1, 6, 9, 0, 5, 8, 6, 1, 8, 6, 1, 4, 2, 6, 2, 7, 2, 2, 0, 8, 6, 9, 1, 7, 1, 8, 8, 0, 7, 3, 8, 0, 3, 4, 3, 7, 7, 9, 2, 3, 1, 9, 1, 9, 6, 3, 3, 3, 1, 0, 6, 1, 4, 1, 0, 0, 1, 1, 6, 5, 4, 6, 2, 0, 7, 9, 8, 7, 2, 0, 6, 8, 1, 4, 3, 7, 0, 6, 1, 8, 5, 7, 8, 4, 8, 3, 9, 9, 9, 8, 7, 6, 6, 3, 5, 1, 5, 9, 1, 4, 1, 5, 7, 0, 1, 5, 2, 0, 8, 8, 5, 6, 7, 3, 2, 4, 7, 2, 5, 8, 2, 4, 9, 2, 1, 8, 1, 9, 8, 8, 8, 9, 0, 4, 3, 3, 1, 8, 4, 6, 3, 3, 5, 2, 2, 8, 3, 8, 9, 5, 8, 9, 8, 9, 1, 6, 5, 9, 4, 4, 8, 0, 7, 2, 9, 7, 4, 1, 6, 4, 4, 9, 1, 2, 5, 6, 0, 8, 6, 1, 9, 4, 5, 9, 5, 0, 7, 2, 0, 0, 4, 2, 6, 6, 5, 5, 2, 8, 1, 7, 3, 1, 4, 5, 6, 5, 1, 4, 7, 0, 9, 4, 3, 8, 2, 8, 4, 7, 2, 3, 1, 5, 2, 9, 8, 9, 7, 9, 5, 1, 4, 0, 8, 2, 3, 8, 9, 1, 1, 3, 2, 4, 9, 3, 1, 7, 4, 6, 2, 8, 9, 5, 3, 9, 5, 5, 6, 7, 2, 4, 6, 3, 1, 0, 7, 2, 5, 4, 7, 6, 1, 1, 9, 8, 1, 0, 1, 3, 1, 1, 1, 7, 3, 9, 6, 8, 4, 6, 8, 4, 9, 4, 7, 9, 7, 6, 8, 4, 9, 7, 0, 1, 6, 1, 5, 9, 0, 4, 3, 4, 1, 3, 0, 8, 4, 6, 2, 2, 6, 5, 3, 6, 2, 1, 1, 8, 6, 0, 4, 0, 1, 9, 7, 1, 3, 7, 7, 8, 7, 7, 3, 9, 7, 7, 7, 2, 1, 2, 8, 6, 4, 0, 7, 9, 8, 6, 8, 4, 9, 1, 7, 2, 2, 8, 5, 8, 1, 2, 2, 4, 1, 2, 5, 2, 8, 1, 8, 1, 8, 6, 0, 2, 4, 1, 3, 6, 7, 7, 4, 4, 3, 3, 4, 5, 2, 4, 3, 7, 8, 4, 4, 4, 5, 4, 3, 2, 8, 4, 5, 5, 4, 1, 4, 2, 5, 1, 6, 4, 3, 4, 4, 0, 8, 8, 4, 5, 7, 5, 6, 9, 1, 6, 7, 2, 0, 1, 4, 5, 6, 0, 0, 2, 7, 5, 6, 0, 6, 2, 9, 1, 7, 7, 5, 2, 5, 6, 4, 1, 4, 3, 3, 3, 0, 3, 5, 5, 8, 9, 7, 3, 1, 3, 3, 3, 4, 4, 2, 3, 3, 8, 1, 7, 7, 0, 7, 4, 5, 1, 4, 2, 4, 3, 9, 9, 4, 9, 9, 1, 8, 1, 6, 7, 5, 5, 4, 9, 7, 6, 5, 9, 2, 4, 0, 7, 8, 5, 5, 0, 0, 9, 9, 8, 2, 5, 4, 8, 3, 6, 3, 6, 0, 6, 6, 6, 9, 6, 6, 8, 6, 2, 4, 5, 8, 1, 2, 7, 6, 5, 7, 8, 1, 8, 0, 8, 6, 9, 2, 8, 9, 4, 0, 9, 4, 9, 5, 7, 5, 5, 9, 5, 3, 0, 1, 9, 7, 2, 4, 1, 0, 8, 0, 3, 1, 7, 0, 0, 4, 8, 6, 2, 4, 0, 0, 9, 0, 8, 4, 5, 9, 3, 9, 0, 5, 6, 5, 0, 1, 4, 8, 1, 0, 5, 2, 1, 0, 2, 8, 1, 5, 6, 7, 7, 2, 6, 2, 5, 0, 1, 4, 2, 5, 4, 6, 2, 2, 1, 7, 2, 8, 5, 5, 3, 0, 4, 8, 3, 7, 6, 3, 8, 1, 0, 1, 3, 3, 0, 7, 4, 9, 5, 3, 6, 0, 1, 4, 4, 4, 4, 2, 2, 5, 8, 1, 5, 9, 8, 1, 1, 5, 3, 9, 9, 7, 6, 5, 0, 8, 4, 7, 0, 9, 2, 8, 4, 7, 1, 3, 9, 6, 8, 9, 0, 4, 9, 6, 7, 8, 9, 4, 8, 9, 7, 2, 5, 3, 7, 1, 0, 2, 9, 5, 5, 8, 5, 4, 2, 8, 3, 5, 5, 7, 7, 8, 6, 2, 8, 2, 3, 5, 6, 8, 0, 2, 3, 7, 0, 1, 9, 1, 3, 7, 5, 8, 3, 2, 9, 6, 8, 6, 9, 3, 8, 9, 8, 0, 7, 8, 5, 0, 0, 1, 3, 9, 1, 5, 3, 4, 4, 0, 9, 9, 9, 9, 8, 2, 4, 2, 2, 5, 1, 9, 1, 0, 9, 4, 2, 1, 6, 0, 3, 7, 6, 3, 1, 8, 6, 5, 7, 2, 8, 4, 4, 8, 3, 5, 0, 5, 7, 4, 4, 2, 2, 7, 3, 6, 0, 2, 7, 6, 2, 3, 0, 7, 7, 8, 1, 1, 4, 6, 0, 6, 6, 5, 5, 6, 3, 9, 3, 6, 8, 7, 6, 4, 9, 5, 6, 4, 1, 6, 3, 8, 2, 3, 9, 8, 5, 1, 5, 4, 5, 7, 5, 7, 8, 9, 1, 7, 2, 5, 6, 8, 4, 6, 5, 3, 9, 9, 8, 5, 5, 6, 4, 5, 9, 7, 3, 4, 1, 4, 2, 3, 6, 5, 5, 2, 8, 0, 0, 1, 8, 3, 1, 3, 5, 8, 3, 8, 5, 8, 6, 3, 5, 5, 5, 0, 9, 5, 5, 7, 1, 8, 2, 2, 7, 3, 4, 2, 9, 6, 2, 2, 4, 3, 0, 2, 0, 1, 3, 2, 2, 7, 0, 1, 0, 7, 7, 2, 0, 1, 6, 5, 0, 2, 2, 0, 1, 2, 6, 0, 1, 6, 6, 5, 3, 4, 0, 0, 9, 1, 0, 2, 5, 9, 7, 8, 6, 4, 6, 0, 2, 0, 1, 9, 2, 4, 9, 0, 7, 2, 3, 4, 8, 0, 2, 6, 8, 9, 7, 1, 9, 3, 7, 2, 7, 9, 6, 9, 5, 7, 8, 5, 9, 8, 3, 9, 8, 0, 5, 5, 7, 1, 2, 0, 7, 5, 8, 2, 2, 5, 3, 9, 3, 1, 9, 3, 1, 4, 3, 4, 4, 9, 0, 9, 5, 9, 2, 9, 4, 0, 2, 8, 4, 8, 6, 8, 2, 0, 5, 9, 6, 9, 5, 1, 3, 4, 4, 2, 7, 2, 4, 4, 0, 2, 8, 4, 5, 1, 2, 6, 8, 1, 7, 2, 8, 7, 4, 3, 3, 0, 3, 7, 2, 5, 6, 1, 7, 9, 0, 2, 3, 9, 8, 9, 5, 0, 0, 7, 6, 3, 3, 8, 1, 4, 0, 1, 5, 4, 3, 2, 6, 0, 8, 8, 6, 3, 3, 2, 9, 7, 5, 1, 6, 0, 5, 9, 9, 4, 5, 9, 4, 8, 3, 3, 2, 5, 1, 9, 5, 5, 8, 1, 8, 9, 7, 0, 6, 3, 2, 0, 2, 6, 9, 3, 9, 1, 6, 6, 7, 2, 6, 3, 2, 5, 5, 2, 7, 5, 2, 0, 8, 0, 7, 7, 1, 7, 4, 0, 2, 2, 6, 1, 5, 9, 7, 6, 2, 7, 0, 5, 6, 0, 1, 1, 8, 4, 5, 3, 1, 2, 4, 8, 9, 8, 1, 7, 2, 7, 2, 3, 2, 6, 7, 9, 4, 0, 1, 0, 4, 5, 0, 8, 0, 7, 6, 1, 0, 8, 5, 9, 2, 5, 4, 4, 9, 0, 6, 1, 2, 5, 1, 6, 7, 1, 5, 8, 8, 0, 3, 9, 4, 0, 3, 4, 9, 2, 4, 3, 0, 6, 4, 5, 6, 6, 7, 8, 4, 8, 8, 3, 2, 8, 0, 2, 5, 6, 8, 7, 8, 9, 9, 0, 6, 6, 8, 1, 1, 7, 4, 4, 2, 3, 6, 9, 6, 2, 4, 1, 8, 2, 3, 1, 6, 8, 6, 8, 5, 9, 0, 1, 0, 2, 9, 2, 9, 0, 9, 7, 8, 5, 0, 6, 6, 8, 1, 6, 5, 8, 7, 9, 2, 1, 6, 7, 5, 6, 3, 0, 9, 8, 9, 5, 9, 9, 9, 3, 6, 4, 4, 8, 8, 1, 7, 3, 0, 6, 2, 4, 8, 2, 2, 9, 2, 2, 9, 7, 4, 1, 9, 1, 4, 3, 5, 3, 8, 9, 3, 6, 2, 0, 8, 9, 0, 5, 1, 5, 8, 2, 1, 2, 3, 2, 4, 8, 4, 0, 6, 4, 2, 9, 8, 4, 7, 6, 2, 4, 7, 7, 6, 4, 2, 2, 3, 2, 4, 9, 0, 0, 9, 6, 5, 8, 5, 2, 4, 8, 8, 6, 4, 5, 7, 6, 3, 7, 0, 4, 0, 5, 8, 2, 8, 0, 4, 9, 2, 3, 6, 8, 1, 6, 0, 8, 4, 3, 1, 4, 5, 2, 4, 3, 6, 0, 7, 1, 3, 5, 7, 1, 8, 0, 4, 8, 2, 7, 7, 0, 2, 2, 4, 3, 3, 1, 6, 1, 6, 4, 6, 7, 4, 7, 3, 8, 1, 3, 1, 4, 6, 5, 5, 7, 4, 5, 4, 9, 7, 7, 2, 3, 3, 6, 7, 4, 1, 6, 1, 0, 6, 9, 6, 0, 2, 0, 2, 4, 7, 0, 0, 0, 0, 7, 5, 3, 2, 7, 8, 5, 5, 2, 2, 8, 9, 1, 2, 2, 0, 3, 4, 9, 1, 6, 9, 0, 8, 3, 6, 4, 6, 7, 5, 1, 8, 9, 0, 5, 0, 5, 4, 3, 8, 5, 2, 0, 8, 5, 9, 2, 5, 6, 5, 7, 3, 7, 2, 8, 8, 4, 2, 1, 6, 2, 9, 9, 8, 2, 3, 1, 0, 5, 2, 3, 7, 9, 5, 9, 1, 1, 3, 2, 7, 4, 4, 1, 9, 4, 5, 5, 2, 7, 7, 6, 1, 2, 3, 7, 5, 4, 3, 7, 7, 0, 0, 1, 4, 4, 3, 7, 9, 8, 7, 0, 9, 0, 3, 7, 6, 3, 8, 4, 5, 6, 5, 3, 4, 2, 9, 2, 4, 9, 2, 0, 1, 1, 3, 7, 9, 5, 1, 6, 0, 3, 3, 7, 2, 4, 5, 2, 3, 6, 3, 3, 0, 4, 4, 3, 8, 1, 2, 3, 2, 7, 1, 4, 5, 6, 8, 6, 6, 5, 4, 2, 9, 9, 3, 2, 0, 4, 1, 5, 5, 6, 6, 5, 6, 9, 7, 9, 4, 8, 3, 1, 9, 8, 1, 9, 0, 3, 0, 4, 7, 7, 2, 6, 5, 6, 9, 7, 7, 5, 7, 0, 8, 6, 7, 8, 3, 8, 9, 3, 2, 9, 2, 7, 4, 1, 9, 7, 0, 8, 1, 2, 0, 6, 5, 1, 4, 2, 8, 2, 8, 3, 3, 1, 4, 9, 8, 1, 1, 7, 9, 9, 4, 6, 8, 5, 3, 2, 2, 3, 8, 5, 1, 9, 7, 9, 1, 5, 3, 1, 0, 3, 8, 9, 2, 0, 8, 0, 7, 9, 4, 8, 3, 0, 7, 0, 7, 0, 5, 5, 4, 3, 0, 9, 9, 0, 2, 2, 0, 8, 4, 4, 5, 2, 2, 1, 1, 5, 5, 4, 3, 4, 0, 8, 4, 8, 2, 5, 6, 5, 1, 7, 2, 4, 0, 5, 6, 8, 7, 6, 3, 1, 3, 6, 6, 4, 5, 5, 5, 1, 8, 7, 3, 0, 2, 5, 1, 1, 1, 6, 7, 2, 1, 2, 3, 9, 8, 3, 1, 7, 4, 8, 4, 7, 5, 8, 6, 0, 3, 0, 8, 3, 4, 4, 9, 4, 6, 1, 5, 7, 7, 9, 0, 1, 3, 1, 3, 2, 4, 0, 7, 8, 3, 1, 6, 2, 1, 8, 8, 1, 9, 7, 5, 3, 2, 9, 0, 6, 8, 4, 1, 5, 7, 2, 4, 7, 0, 4, 9, 0, 7, 0, 6, 7, 1, 8, 5, 8, 8, 7, 0, 0, 3, 2, 5, 7, 0, 6, 4, 4, 9, 1, 8, 6, 3, 9, 4, 9, 3, 3, 7, 5, 9, 7, 7, 4, 5, 8, 2, 8, 9, 5, 3, 1, 9, 2, 2, 0, 1, 1, 8, 1, 1, 9, 8, 9, 9, 0, 2, 6, 9, 1, 9, 0, 1, 9, 2, 9, 9, 9, 0, 9, 9, 2, 1, 7, 0, 5, 6, 3, 9, 8, 3, 0, 2, 7, 7, 4, 8, 3, 0, 5, 2, 3, 5, 7, 6, 6, 6, 5, 6, 5, 4, 5, 8, 8, 0, 9, 7, 9, 0, 6, 9, 6, 1, 4, 7, 9, 0, 3, 5, 4, 7, 6, 9, 8, 2, 3, 9, 3, 3, 7, 8, 3, 5, 5, 9, 6, 1, 4, 7, 4, 8, 7, 7, 1, 3, 0, 3, 2, 5, 4, 9, 3, 5, 4, 7, 0, 3, 7, 0, 2, 1, 5, 8, 7, 3, 5, 7, 8, 5, 7, 8, 1, 5, 4, 7, 0, 8, 3, 2, 9, 7, 4, 1, 6, 5, 9, 8, 5, 5, 4, 1, 0, 9, 4, 4, 3, 0, 4, 8, 0, 8, 2, 9, 5, 9, 7, 4, 6, 7, 9, 2, 9, 3, 7, 7, 8, 2, 2, 0, 2, 5, 3, 6, 4, 7, 2, 3, 7, 8, 7, 2, 5, 0, 0, 7, 0, 9, 6, 1, 0, 3, 9, 7, 4, 9, 1, 6, 8, 1, 2, 3, 3, 5, 4, 8, 9, 7, 4, 4, 1, 2, 4, 9, 8, 7, 9, 5, 1, 2, 1, 6, 6, 4, 5, 7, 4, 5, 8, 5, 2, 8, 7, 8, 2, 3, 6, 1, 3, 3, 1, 5, 1, 9, 0, 9, 2, 0, 6, 2, 4, 8, 5, 7, 6, 1, 2, 9, 4, 5, 0, 3, 3, 7, 7, 7, 1, 4, 5, 0, 2, 8, 5, 0, 0, 6, 2, 0, 8, 4, 5, 4, 5, 6, 4, 7, 9, 4, 2, 0, 6, 4, 0, 0, 6, 4, 6, 1, 9, 5, 5, 2, 2, 6, 3, 4, 5, 9, 1, 7, 2, 3, 9, 6, 5, 0, 2, 9, 7, 1, 7, 2, 2, 0, 8, 6, 4, 3, 2, 7, 7, 0, 4, 1, 6, 5, 1, 3, 0, 3, 9, 0, 0, 2, 5, 0, 4, 0, 1, 9, 8, 4, 9, 4, 2, 4, 3, 3, 4, 0, 4, 3, 2, 8, 9, 1, 5, 8, 1, 8, 2, 4, 5, 2, 4, 1, 1, 6, 6, 8, 5, 2, 2, 5, 0, 8, 2, 3, 6, 2, 9, 6, 1, 4, 5, 9, 0, 1, 0, 0, 8, 1, 1, 6, 6, 9, 5, 4, 1, 7, 8, 6, 9, 1, 7, 6, 0, 9, 3, 5, 3, 2, 5, 3, 4, 9, 7, 1, 4, 4, 6, 1, 3, 8, 8, 0, 6, 7, 7, 6, 7, 2, 3, 2, 2, 6, 2, 7, 4, 0, 3, 6, 2, 6, 3, 3, 0, 9, 5, 1, 1, 5, 3, 6, 4, 3, 4, 1, 0, 4, 5, 5, 2, 8, 9, 4, 3, 1, 8, 0, 1, 3, 3, 4, 4, 2, 9, 7, 6, 8, 1, 8, 9, 1, 3, 1, 7, 3, 0, 0, 2, 8, 3, 9, 2, 7, 2, 6, 0, 1, 6, 1, 6, 7, 5, 5, 2, 5, 9, 4, 0, 2, 3, 4, 9, 4, 1, 0, 0, 2, 3, 8, 9, 2, 8, 9, 5, 7, 9, 1, 4, 6, 2, 8, 4, 4, 8, 9, 3, 1, 1, 6, 5, 8, 4, 6, 4, 5, 2, 6, 4, 2, 3, 1, 3, 6, 8, 5, 2, 2, 7, 1, 6, 2, 5, 9, 2, 8, 1, 6, 9, 2, 7, 5, 3, 2, 9, 7, 0, 2, 9, 3, 4, 1, 7, 9, 5, 8, 9, 7, 3, 4, 0, 9, 7, 4, 2, 4, 7, 0, 1, 8, 1, 0, 4, 6, 1, 9, 9, 2, 1, 2, 5, 6, 9, 7, 7, 3, 4, 2, 0, 2, 5, 6, 7, 3, 7, 9, 4, 2, 0, 6, 1, 7, 5, 6, 5, 3, 9, 2, 7, 8, 5, 9, 5, 8, 5, 4, 3, 7, 9, 8, 1, 2, 2, 8, 9, 3, 0, 8, 4, 0, 2, 0, 1, 4, 1, 8, 5, 5, 7, 9, 8, 3, 7, 9, 1, 5, 6, 9, 8, 7, 2, 0, 9, 0, 8, 5, 9, 4, 2, 9, 8, 1, 9, 1, 8, 3, 7, 6, 4, 2, 3, 7, 0, 3, 5, 8, 8, 8, 7, 9, 6, 2, 7, 4, 5, 7, 6, 7, 1, 7, 3, 6, 8, 2, 6, 6, 7, 1, 5, 9, 7, 1, 7, 0, 1, 6, 3, 3, 9, 0, 1, 2, 3, 2, 2, 5, 4, 9, 8, 7, 4, 4, 9, 7, 6, 7, 7, 1, 2, 3, 5, 1, 9, 0, 3, 3, 1, 5, 6, 6, 2, 4, 6, 8, 8, 9, 6, 6, 1, 0, 7, 5, 8, 2, 1, 5, 8, 1, 4, 7, 5, 0, 3, 9, 9, 5, 2, 8, 4, 1, 9, 0, 4, 4, 8, 2, 9, 0, 7, 9, 8, 7, 1, 3, 2, 9, 9, 5, 9, 7, 6, 7, 7, 1, 1, 2, 4, 2, 0, 6, 8, 7, 6, 2, 2, 9, 8, 2, 4, 2, 0, 5, 8, 6, 8, 2, 7, 7, 3, 1, 8, 1, 6, 5, 9, 7, 8, 9, 6, 4, 8, 1, 9, 4, 0, 4, 1, 4, 3, 6, 2, 2, 7, 0, 0, 7, 0, 7, 4, 3, 6, 7, 7, 4, 5, 4, 3, 5, 5, 4, 7, 1, 0, 7, 7, 1, 6, 5, 0, 7, 7, 4, 6, 1, 8, 5, 9, 3, 5, 6, 2, 2, 7, 3, 5, 8, 1, 0, 6, 8, 7, 8, 8, 5, 7, 5, 4, 9, 7, 3, 3, 8, 8, 3, 9, 4, 7, 2, 0, 8, 0, 7, 3, 3, 2, 5, 2, 4, 4, 0, 4, 8, 2, 4, 0, 6, 4, 5, 6, 0, 8, 8, 0, 6, 1, 1, 6, 1, 4, 2, 1, 1, 2, 4, 4, 5, 5, 8, 8, 5, 1, 8, 2, 3, 3, 9, 6, 6, 5, 0, 7, 3, 3, 2, 7, 4, 5, 6, 0, 2, 1, 8, 1, 0, 9, 3, 1, 0, 5, 4, 2, 3, 3, 6, 7, 6, 0, 0, 5, 7, 4, 7, 7, 0, 6, 1, 3, 9, 0, 9, 0, 3, 8, 4, 8, 8, 4, 1, 0, 2, 2, 4, 1, 1, 2, 4, 3, 4, 1, 4, 7, 1, 0, 0, 9, 0, 4, 2, 8, 8, 5, 5, 0, 4, 0, 8, 6, 2, 5, 9, 2, 9, 1, 1, 5, 4, 7, 5, 8, 6, 2, 1, 5, 5, 3, 4, 1, 8, 9, 9, 8, 9, 8, 6, 8, 5, 8, 9, 4, 6, 2, 6, 3, 7, 4, 0, 0, 1, 7, 5, 1, 5, 9, 3, 1, 6, 8, 7, 3, 6, 9, 1, 2, 0, 1, 7, 2, 6, 1, 9, 0, 0, 8, 9, 9, 2, 8, 6, 2, 5, 6, 0, 3, 3, 0, 7, 4, 7, 5, 0, 1, 6, 8, 8, 1, 2, 1, 5, 4, 5, 9, 6, 7, 1, 0, 6, 9, 2, 7, 7, 3, 9, 9, 1, 9, 7, 0, 1, 3, 5, 4, 6, 3, 8, 8, 0, 4, 8, 3, 6, 7, 0, 0, 4, 5, 2, 6, 8, 4, 9, 9, 9, 2, 0, 4, 2, 8, 1, 1, 0, 0, 3, 7, 4, 1, 1, 9, 7, 7, 4, 6, 8, 6, 0, 2, 8, 5, 3, 5, 3, 5, 7, 9, 8, 4, 4, 3, 1, 4, 8, 3, 6, 5, 3, 0, 8, 9, 5, 7, 6, 2, 0, 4, 9, 9, 0, 5, 2, 3, 6, 1, 1, 0, 2, 8, 2, 1, 1, 7, 5, 2, 3, 4, 1, 2, 9, 2, 1, 3, 4, 8, 9, 0, 0, 4, 9, 0, 2, 2, 0, 6, 8, 7, 3, 3, 8, 9, 0, 2, 5, 3, 6, 1, 3, 9, 5, 0, 5, 4, 4, 0, 1, 1, 6, 1, 7, 9, 9, 6, 2, 4, 3, 8, 3, 4, 7, 0, 2, 8, 4, 8, 3, 8, 8, 8, 3, 3, 5, 7, 7, 0, 4, 1, 5, 9, 7, 0, 6, 8, 4, 9, 0, 1, 8, 9, 6, 3, 9, 2, 4, 4, 0, 3, 3, 5, 4, 5, 1, 1, 8, 2, 2, 9, 3, 7, 8, 9, 2, 3, 1, 7, 3, 2, 3, 0, 1, 9, 5, 5, 3, 4, 5, 2, 0, 0, 3, 1, 3, 4, 7, 4, 2, 8, 4, 8, 9, 9, 4, 2, 4, 3, 6, 4, 6, 4, 6, 6, 3, 8, 7, 4, 8, 0, 5, 9, 3, 9, 0, 7, 5, 1, 9, 7, 9, 1, 8, 4, 2, 1, 6, 4, 3, 0, 1, 4, 8, 6, 1, 7, 1, 3, 5, 4, 3, 3, 9, 7, 8, 2, 5, 5, 4, 5, 4, 5, 7, 2, 5, 5, 1, 7, 7, 8, 3, 6, 0, 2, 5, 2, 3, 7, 4, 2, 1, 6, 8, 6, 8, 3, 2, 7, 7, 9, 7, 1, 4, 7, 4, 6, 1, 7, 3, 0, 0, 6, 6, 8, 6, 6, 0, 3, 4, 7, 4, 9, 4, 9, 9, 3, 4, 1, 4, 0, 3, 7, 1, 2, 2, 8, 4, 7, 8, 5, 5, 6, 5, 6, 0, 6, 4, 9, 3, 2, 7, 3, 8, 3, 9, 4, 1, 6, 9, 9, 4, 3, 9, 8, 1, 6, 9, 5, 9, 0, 9, 7, 2, 2, 4, 2, 6, 4, 8, 1, 9, 5, 6, 5, 1, 8, 6, 6, 7, 6, 5, 0, 2, 7, 6, 1, 2, 3, 1, 6, 4, 9, 0, 3, 9, 1, 0, 5, 3, 1, 6, 9, 8, 9, 0, 6, 1, 6, 2, 3, 5, 6, 9, 0, 7, 2, 4, 0, 3, 6, 8, 6, 9, 1, 9, 0, 6, 4, 5, 9, 5, 4, 1, 9, 2, 0, 7, 3, 5, 1, 8, 3, 0, 5, 2, 8, 8, 3, 9, 6, 0, 3, 5, 3, 4, 1, 5, 0, 7, 3, 9, 4, 5, 3, 1, 4, 2, 4, 9, 9, 7, 1, 7, 0, 1, 2, 1, 5, 3, 8, 4, 1, 5, 1, 9, 9, 7, 0, 1, 7, 6, 2, 6, 5, 0, 3, 1, 3, 8, 9, 9, 0, 8, 8, 7, 9, 2, 9, 1, 3, 6, 7, 6, 0, 8, 6, 2, 4, 2, 3, 5, 5, 4, 1, 6, 7, 1, 6, 1, 7, 1, 6, 2, 3, 0, 4, 2, 9, 7, 5, 5, 6, 0, 8, 8, 1, 1, 3, 5, 6, 5, 3, 8, 7, 5, 0, 7, 7, 5, 7, 1, 9, 9, 1, 9, 9, 3, 5, 5, 3, 0, 3, 0, 6, 6, 5, 6, 8, 9, 4, 5, 1, 1, 2, 7, 9, 0, 1, 2, 5, 4, 4, 7, 4, 8, 3, 3, 5, 3, 5, 7, 0, 1, 2, 9, 8, 1, 7, 3, 5, 9, 1, 9, 1, 1, 3, 6, 7, 4, 8, 3, 5, 6, 7, 0, 1, 7, 7, 2, 3, 3, 5, 1, 7, 6, 8, 4, 4, 5, 7, 3, 4, 7, 7, 3, 6, 0, 7, 2, 6, 7, 4, 1, 8, 0, 2, 2, 1, 5, 4, 0, 9, 3, 4, 4, 2, 3, 8, 5, 0, 0, 4, 6, 3, 9, 2, 0, 5, 7, 5, 5, 1, 7, 3, 1, 6, 7, 9, 0, 1, 2, 1, 4, 6, 1, 5, 9, 5, 0, 4, 9, 4, 9, 7, 1, 6, 8, 0, 6, 5, 0, 8, 1, 7, 5, 6, 9, 3, 2, 3, 9, 8, 6, 1, 0, 9, 0, 9, 8, 7, 7, 5, 2, 3, 5, 5, 7, 8, 7, 6, 9, 1, 9, 8, 6, 5, 6, 7, 5, 6, 7, 2, 5, 9, 6, 6, 7, 0, 1, 0, 1, 3, 2, 5, 6, 1, 2, 5, 1, 9, 9, 8, 6, 8, 6, 8, 9, 0, 4, 0, 3, 3, 6, 4, 9, 9, 7, 2, 3, 5, 6, 4, 6, 0, 3, 7, 5, 0, 2, 9, 2, 7, 2, 9, 2, 4, 0, 6, 6, 3, 4, 5, 5, 9, 1, 1, 4, 4, 3, 5, 4, 8, 0, 0, 3, 9, 4, 7, 4, 2, 8, 3, 6, 3, 1, 9, 6, 3, 8, 3, 8, 4, 7, 5, 7, 5, 3, 1, 2, 6, 1, 3, 2, 0, 7, 5, 0, 0, 0, 1, 4, 3, 5, 8, 4, 3, 1, 7, 1, 0, 4, 2, 4, 1, 4, 0, 1, 2, 1, 7, 7, 9, 8, 7, 5, 4, 0, 9, 0, 0, 8, 2, 0, 0, 2, 4, 8, 6, 2, 4, 6, 3, 5, 1, 5, 3, 7, 2, 2, 9, 8, 0, 0, 0, 3, 4, 4, 6, 1, 6, 7, 4, 4, 3, 9, 4, 0, 8, 0, 4, 6, 5, 7, 9, 7, 0, 5, 7, 7, 3, 1, 9, 3, 0, 9, 5, 3, 7, 9, 4, 4, 1, 7, 7, 1, 4, 1, 2, 8, 7, 0, 0, 4, 7, 2, 9, 7, 6, 9, 3, 5, 8, 0, 3, 6, 8, 3, 2, 4, 7, 1, 1, 3, 9, 7, 5, 1, 0, 8, 7, 0, 1, 6, 9, 3, 2, 7, 7, 8, 1, 0, 3, 4, 6, 7, 5, 2, 0, 1, 5, 5, 1, 4, 1, 3, 0, 8, 6, 2, 1, 3, 6, 4, 1, 9, 0, 4, 1, 0, 1, 9, 8, 6, 9, 2, 4, 7, 2, 2, 7, 4, 9, 1, 3, 2, 6, 3, 4, 4, 9, 4, 8, 2, 6, 6, 1, 6, 3, 6, 5, 8, 4, 6, 7, 1, 9, 3, 6, 7, 6, 0, 7, 1, 9, 5, 2, 6, 7, 7, 6, 5, 9, 1, 5, 6, 0, 2, 0, 9, 1, 8, 3, 5, 0, 0, 0, 5, 7, 7, 8, 5, 5, 5, 1, 6, 1, 5, 1, 0, 6, 2, 3, 2, 1, 7, 5, 1, 9, 8, 3, 6, 9, 7, 3, 0, 2, 3, 9, 4, 4, 3, 9, 6, 8, 6, 6, 8, 5, 4, 3, 6, 7, 7, 4, 3, 9, 6, 2, 4, 0, 1, 3, 6, 4, 9, 2, 6, 0, 3, 8, 7, 5, 3, 3, 8, 3, 2, 6, 3, 6, 2, 7, 4, 5, 7, 9, 0, 0, 6, 7, 2, 8, 5, 5, 7, 5, 5, 9, 4, 6, 4, 7, 3, 3, 6, 4, 1, 6, 3, 1, 6, 7, 0, 5, 0, 1, 9, 7, 3, 5, 2, 3, 9, 5, 6, 4, 0, 0, 0, 8, 0, 3, 2, 4, 5, 3, 7, 9, 6, 9, 3, 1, 2, 6, 7, 4, 5, 1, 3, 7, 6, 9, 5, 8, 5, 8, 5, 8, 5, 6, 5, 0, 8, 3, 8, 1, 8, 1, 5, 0, 9, 8, 6, 3, 6, 3, 4, 4, 7, 4, 7, 4, 3, 2, 4, 5, 5, 7, 5, 4, 5, 8, 0, 5, 4, 0, 5, 4, 3, 3, 2, 4, 2, 9, 4, 8, 8, 6, 2, 6, 1, 7, 0, 4, 3, 8, 5, 9, 7, 6, 7, 1, 0, 2, 3, 5, 6, 7, 1, 6, 2, 8, 3, 7, 2, 5, 7, 5, 7, 7, 1, 7, 4, 3, 3, 4, 0, 4, 2, 7, 0, 2, 2, 6, 6, 2, 5, 2, 6, 0, 6, 1, 2, 9, 0, 0, 1, 5, 5, 1, 6, 7, 8, 5, 6, 3, 3, 6, 0, 9, 9, 2, 2, 6, 1, 4, 6, 2, 5, 7, 8, 8, 5, 6, 4, 3, 2, 3, 4, 4, 4, 8, 9, 2, 6, 0, 9, 7, 9, 8, 7, 7, 3, 8, 2, 9, 3, 5, 7, 5, 8, 7, 3, 7, 0, 7, 1, 6, 2, 4, 0, 0, 2, 9, 8, 2, 8, 7, 7, 5, 5, 0, 1, 2, 9, 6, 1, 0, 1, 0, 6, 5, 0, 5, 7, 4, 4, 8, 3, 5, 3, 7, 2, 5, 8, 3, 5, 7, 3, 7, 0, 5, 4, 5, 6, 9, 3, 5, 3, 8, 2, 4, 2, 2, 6, 7, 6, 0, 5, 5, 8, 4, 5, 6, 1, 3, 5, 4, 7, 3, 0, 7, 2, 0, 1, 2, 4, 9, 6, 4, 5, 9, 7, 7, 6, 7, 4, 3, 1, 6, 9, 4, 8, 0, 3, 1, 6, 4, 4, 2, 1, 4, 6, 3, 0, 8, 9, 7, 6, 8, 4, 8, 1, 4, 5, 9, 4, 7, 1, 4, 5, 3, 1, 2, 6, 4, 7, 1, 5, 9, 3, 1, 4, 8, 7, 7, 0, 4, 3, 4, 6, 7, 7, 5, 4, 4, 4, 3, 6, 6, 1, 9, 9, 7, 9, 4, 3, 2, 9, 8, 5, 0, 6, 9, 0, 9, 7, 8, 5, 4, 4, 9, 4, 2, 6, 6, 9, 9, 7, 9, 9, 0, 5, 1, 1, 8, 6, 9, 9, 5, 6, 5, 5, 9, 7, 9, 4, 5, 4, 3, 3, 9, 8, 8, 3, 4, 8, 4, 0, 4, 0, 7, 2, 8, 0, 2, 0, 7, 4, 0, 6, 3, 3, 1, 7, 4, 6, 5, 0, 4, 9, 5, 6, 6, 3, 0, 5, 2, 6, 3, 3, 8, 0, 8, 5, 4, 2, 9, 5, 0, 5, 4, 8, 2, 7, 6, 5, 7, 8, 2, 0, 1, 8, 2, 4, 8, 4, 3, 0, 4, 0, 1, 9, 3, 0, 3, 6, 5, 5, 2, 8, 5, 0, 8, 7, 5, 2, 4, 3, 7, 0, 2, 3, 1, 0, 0, 2, 1, 2, 1, 4, 6, 7, 1, 0, 5, 2, 5, 9, 2, 5, 6, 7, 1, 9, 3, 6, 1, 0, 2, 9, 4, 2, 9, 3, 8, 2, 9, 8, 5, 1, 0, 1, 5, 2, 5, 6, 8, 8, 3, 5, 0, 4, 1, 3, 7, 0, 3, 3, 9, 2, 3, 9, 9, 8, 5, 9, 7, 2, 0, 9, 4, 7, 1, 7, 6, 4, 4, 8, 9, 0, 7, 1, 2, 4, 0, 3, 7, 5, 1, 9, 3, 5, 2, 4, 1, 1, 3, 3, 9, 2, 5, 8, 0, 8, 1, 5, 1, 5, 9, 0, 9, 2, 4, 0, 6, 9, 1, 1, 3, 4, 9, 5, 3, 3, 3, 3, 4, 1, 5, 9, 8, 7, 4, 8, 7, 3, 5, 2, 5, 8, 9, 7, 2, 0, 0, 7, 5, 3, 5, 7, 4, 6, 2, 8, 2, 7, 7, 6, 1, 3, 8, 6, 2, 0, 4, 4, 8, 6, 4, 0, 2, 5, 4, 1, 2, 5, 4, 6, 9, 5, 0, 5, 2, 0, 8, 2, 6, 4, 7, 9, 5, 7, 2, 6, 2, 1, 9, 9, 7, 2, 5, 1, 8, 1, 6, 3, 0, 8, 8, 5, 6, 9, 9, 9, 6, 3, 0, 8, 8, 5, 3, 3, 1, 1, 0, 7, 0, 6, 0, 4, 4, 6, 5, 3, 2, 9, 6, 6, 7, 9, 7, 7, 0, 8, 4, 2, 7, 7, 7, 4, 0, 1, 6, 0, 5, 3, 0, 2, 4, 9, 7, 3, 3, 2, 8, 8, 5, 3, 8, 0, 8, 0, 0, 0, 2, 2, 7, 0, 7, 7, 7, 2, 2, 0, 4, 0, 3, 7, 8, 4, 7, 9, 6, 1, 1, 6, 9, 3, 8, 9, 5, 8, 3, 9, 4, 3, 7, 5, 5, 2, 7, 5, 7, 9, 6, 3, 0, 8, 4, 5, 6, 1, 0, 4, 8, 4, 7, 1, 3, 2, 0, 9, 1, 8, 8, 6, 8, 1, 7, 1, 0, 9, 7, 6, 4, 5, 8, 2, 1, 2, 5, 8, 1, 1, 8, 8, 0, 9, 0, 0, 4, 3, 3, 5, 6, 6, 3, 1, 4, 4, 7, 8, 0, 1, 4, 8, 4, 6, 2, 2, 2, 6, 3, 4, 0, 8, 1, 3, 8, 3, 8, 9, 1, 6, 1, 9, 8, 2, 0, 4, 7, 4, 0, 0, 7, 6, 8, 9, 8, 6, 2, 8, 8, 0, 1, 1, 0, 7, 7, 4, 4, 7, 7, 2, 6, 6, 7, 4, 5, 4, 0, 9, 4, 7, 2, 5, 3, 2, 2, 7, 6, 2, 6, 4, 9, 6, 8, 3, 8, 5, 5, 2, 3, 4, 5, 2, 7, 5, 1, 5, 3, 7, 8, 8, 9, 6, 0, 9, 2, 6, 0, 0, 1, 4, 1, 3, 5, 1, 8, 9, 6, 2, 6, 9, 5, 6, 5, 9, 1, 4, 2, 8, 9, 5, 4, 7, 0, 3, 7, 1, 6, 9, 1, 1, 4, 0, 5, 1, 6, 3, 0, 2, 5, 5, 5, 2, 8, 2, 3, 1, 6, 2, 7, 0, 8, 9, 2, 6, 4, 7, 5, 5, 8, 8, 7, 8, 5, 7, 4, 4, 0, 0, 7, 0, 4, 0, 4, 4, 2, 5, 4, 0, 7, 7, 7, 0, 4, 6, 2, 9, 1, 1, 5, 0, 9, 1, 0, 6, 5, 3, 0, 9, 0, 6, 2, 0, 4, 1, 6, 7, 6, 1, 0, 4, 6, 0, 4, 4, 2, 7, 6, 5, 3, 5, 9, 4, 5, 2, 0, 5, 7, 2, 3, 9, 4, 5, 8, 1, 9, 3, 1, 8, 5, 8, 6, 6, 3, 4, 0, 2, 3, 2, 6, 1, 8, 2, 1, 3, 6, 2, 2, 3, 3, 5, 0, 2, 1, 2, 8, 0, 8, 2, 2, 7, 3, 5, 9, 8, 3, 6, 1, 0, 8, 6, 3, 5, 8, 9, 4, 8, 0, 0, 2, 9, 1, 8, 3, 7, 2, 8, 0, 9, 4, 8, 9, 4, 8, 9, 5, 4, 8, 1, 5, 5, 7, 2, 5, 8, 8, 1, 2, 3, 1, 5, 0, 2, 3, 0, 8, 2, 2, 8, 7, 3, 5, 3, 9, 6, 3, 5, 1, 1, 7, 7, 3, 3, 8, 9, 6, 0, 8, 0, 6, 6, 4, 6, 9, 1, 1, 7, 0, 6, 8, 9, 0, 6, 9, 0, 1, 1, 7, 2, 1, 0, 4, 5, 0, 3, 6, 3, 3, 8, 1, 8, 1, 3, 1, 5, 4, 5, 1, 8, 9, 1, 3, 1, 7, 2, 9, 8, 9, 4, 6, 0, 9, 4, 0, 4, 6, 2, 1, 3, 0, 8, 5, 6, 0, 3, 4, 6, 9, 5, 7, 9, 0, 3, 6, 5, 7, 0, 5, 1, 2, 2, 9, 7, 0, 0, 1, 4, 4, 5, 5, 9, 6, 3, 6, 2, 6, 9, 3, 2, 3, 2, 4, 9, 5, 2, 1, 6, 6, 4, 7, 6, 3, 3, 8, 1, 4, 6, 4, 4, 5, 6, 2, 0, 5, 2, 7, 5, 2, 5, 2, 5, 9, 0, 6, 7, 9, 8, 3, 2, 1, 4, 3, 4, 5, 5, 6, 8, 6, 0, 8, 9, 8, 0, 7, 7, 6, 6, 7, 5, 9, 8, 7, 9, 5, 6, 0, 4, 8, 2, 0, 9, 1, 3, 9, 8, 3, 7, 4, 5, 0, 2, 1, 9, 1, 0, 5, 8, 4, 7, 3, 1, 4, 5, 3, 1, 0, 8, 8, 8, 2, 1, 3, 7, 3, 1, 6, 9, 1, 6, 0, 7, 7, 1, 3, 3, 3, 1, 0, 2, 7, 1, 2, 2, 9, 6, 3, 5, 9, 4, 8, 0, 4, 8, 0, 1, 3, 7, 0, 4, 7, 4, 8, 6, 4, 3, 9, 8, 2, 2, 8, 3, 1, 1, 2, 8, 2, 6, 9, 4, 8, 4, 4, 1, 5, 2, 6, 9, 2, 0, 7, 1, 8, 9, 3, 9, 9, 0, 7, 7, 5, 4, 2, 6, 4, 5, 7, 7, 8, 7, 2, 6, 2, 2, 4, 4, 0, 7, 1, 3, 9, 6, 0, 0, 2, 3, 8, 2, 2, 4, 3, 5, 2, 9, 1, 0, 0, 6, 5, 5, 7, 9, 9, 6, 5, 5, 0, 5, 7, 1, 6, 6, 4, 1, 4, 4, 1, 5, 0, 0, 4, 5, 8, 4, 8, 3, 0, 5, 0, 5, 3, 1, 6, 7, 0, 9, 1, 5, 7, 6, 5, 5, 5, 6, 0, 0, 1, 7, 5, 1, 9, 2, 4, 1, 3, 7, 8, 2, 0, 9, 6, 6, 0, 6, 5, 8, 2, 7, 4, 0, 2, 7, 7, 8, 8, 7, 0, 4, 9, 1, 4, 4, 3, 5, 4, 6, 2, 3, 1, 0, 3, 3, 3, 6, 3, 1, 2, 8, 9, 7, 9, 3, 8, 7, 3, 1, 7, 7, 3, 2, 2, 8, 9, 5, 9, 2, 1, 7, 4, 4, 0, 5, 7, 1, 5, 4, 0, 8, 4, 9, 8, 7, 8, 4, 2, 3, 4, 0, 5, 4, 1, 8, 2, 5, 4, 5, 2, 5, 3, 7, 9, 7, 1, 4, 1, 3, 1, 4, 5, 5, 1, 7, 1, 3, 0, 1, 2, 5, 7, 0, 6, 3, 5, 7, 5, 5, 8, 9, 4, 6, 3, 6, 6, 8, 2, 6, 4, 8, 4, 1, 3, 1, 2, 3, 3, 0, 1, 6, 4, 2, 8, 2, 4, 3, 1, 4, 4, 4, 4, 1, 5, 5, 7, 6, 5, 4, 5, 6, 5, 6, 2, 4, 7, 7, 4, 6, 5, 0, 2, 3, 9, 2, 3, 8, 0, 7, 0, 6, 8, 1, 2, 8, 9, 1, 5, 4, 2, 3, 5, 5, 3, 6, 5, 0, 3, 2, 1, 3, 3, 7, 7, 4, 9, 4, 3, 9, 5, 1, 7, 6, 6, 4, 8, 5, 1, 2, 8, 4, 5, 3, 3, 3, 0, 4, 8, 7, 7, 9, 4, 8, 4, 5, 9, 1, 8, 3, 1, 3, 8, 0, 3, 5, 4, 6, 9, 2, 7, 2, 0, 5, 2, 9, 7, 5, 0, 7, 0, 3, 5, 5, 3, 8, 7, 7, 9, 6, 5, 8, 9, 0, 1, 9, 4, 0, 0, 1, 7, 2, 2, 8, 5, 9, 8, 2, 8, 0, 6, 6, 8, 6, 9, 6, 1, 1, 5, 3, 5, 0, 7, 6, 1, 4, 4, 1, 1, 8, 1, 1, 2, 3, 4, 9, 9, 5, 2, 7, 3, 3, 6, 9, 6, 9, 8, 8, 6, 7, 4, 7, 2, 3, 8, 0, 9, 0, 7, 8, 1, 2, 3, 2, 4, 2, 9, 0, 3, 8, 9, 6, 5, 5, 2, 4, 1, 0, 6, 1, 8, 4, 5, 5, 5, 0, 8, 9, 0, 5, 7, 9, 6, 3, 4, 6, 4, 9, 7, 1, 2, 5, 2, 8, 0, 2, 2, 9, 8, 1, 9, 7, 7, 3, 1, 4, 1, 1, 3, 8, 8, 1, 9, 3, 8, 9, 5, 1, 1, 6, 2, 7, 2, 6, 2, 6, 9, 6, 0, 1, 3, 9, 3, 8, 8, 8, 2, 9, 1, 2, 6, 0, 5, 0, 7, 7, 7, 9, 4, 5, 0, 2, 3, 5, 5, 8, 9, 1, 2, 7, 1, 3, 4, 6, 9, 1, 0, 7, 1, 9, 5, 8, 1, 9, 9, 7, 9, 8, 3, 0, 2, 6, 0, 2, 2, 4, 0, 8, 4, 8, 1, 2, 7, 2, 7, 9, 5, 2, 2, 9, 2, 6, 5, 7, 2, 5, 6, 5, 1, 8, 2, 6, 8, 6, 3, 0, 8, 0, 0, 9, 9, 6, 8, 0, 6, 6, 0, 7, 9, 8, 0, 5, 0, 9, 6, 0, 4, 7, 1, 7, 8, 8, 2, 3, 9, 6, 5, 5, 3, 1, 5, 3, 0, 2, 5, 2, 7, 3, 8, 4, 4, 6, 1, 9, 4, 1, 7, 0, 1, 4, 3, 0, 2, 9, 4, 5, 0, 3, 4, 7, 2, 3, 0, 1, 3, 7, 9, 9, 0, 7, 5, 6, 7, 1, 2, 2, 7, 4, 6, 8, 4, 9, 8, 4, 9, 2, 3, 4, 0, 2, 5, 6, 0, 5, 3, 5, 8, 3, 7, 4, 9, 5, 6, 3, 8, 6, 9, 8, 5, 5, 8, 3, 5, 9, 0, 4, 2, 0, 5, 9, 9, 3, 8, 0, 6, 0, 2, 3, 7, 0, 0, 6, 9, 1, 5, 2, 2, 7, 9, 3, 9, 3, 5, 2, 2, 2, 8, 8, 5, 0, 0, 7, 0, 3, 1, 6, 5, 0, 9, 2, 6, 7, 4, 2, 0, 0, 5, 3, 3, 2, 6, 4, 2, 7, 8, 0, 1, 0, 1, 3, 6, 4, 8, 0, 6, 0, 9, 1, 6, 2, 1, 0, 1, 3, 0, 3, 7, 9, 9, 3, 7, 5, 7, 1, 6, 6, 1, 1, 1, 4, 4, 2, 1, 7, 0, 1, 2, 1, 1, 3, 2, 6, 9, 1, 3, 2, 0, 8, 7, 3, 4, 6, 4, 6, 9, 4, 8, 9, 3, 0, 5, 7, 2, 0, 2, 9, 9, 3, 8, 7, 1, 1, 2, 2, 2, 5, 9, 1, 2, 6, 1, 2, 1, 8, 9, 2, 3, 1, 9, 9, 4, 4, 5, 5, 0, 3, 3, 7, 1, 7, 7, 9, 8, 6, 3, 5, 5, 1, 6, 2, 7, 8, 4, 3, 3, 5, 9, 6, 8, 5, 1, 0, 6, 7, 0, 9, 6, 2, 0, 8, 7, 1, 2, 6, 9, 1, 6, 4, 7, 1, 9, 0, 0, 5, 2, 8, 3, 8, 2, 8, 4, 0, 8, 3, 6, 1, 2, 3, 0, 5, 0, 4, 1, 7, 2, 0, 1, 3, 9, 1, 6, 1, 6, 1, 2, 8, 7, 0, 9, 5, 8, 0, 0, 1, 7, 9, 7, 1, 9, 2, 1, 9, 4, 3, 6, 0, 2, 0, 0, 9, 9, 8, 9, 4, 5, 4, 3, 0, 7, 8, 7, 3, 7, 5, 4, 6, 5, 9, 5, 2, 4, 2, 7, 9, 6, 7, 4, 7, 1, 2, 3, 1, 1, 3, 6, 8, 3, 7, 7, 0, 8, 1, 5, 2, 5, 5, 3, 6, 3, 5, 9, 8, 4, 6, 8, 0, 4, 1, 7, 8, 4, 9, 7, 2, 6, 3, 8, 8, 6, 7, 3, 8, 1, 1, 5, 3, 7, 9, 9, 9, 8, 5, 9, 9, 6, 8, 8, 4, 8, 1, 0, 1, 8, 8, 6, 5, 9, 0, 6, 1, 2, 6, 6, 3, 5, 6, 5, 5, 3, 3, 6, 8, 9, 4, 4, 3, 8, 3, 6, 0, 8, 5, 7, 8, 4, 6, 5, 3, 1, 8, 3, 0, 4, 4, 3, 3, 5, 3, 3, 2, 7, 7, 8, 2, 0, 5, 5, 6, 1, 1, 3, 9, 9, 3, 6, 7, 1, 8, 3, 9, 8, 7, 8, 8, 0, 3, 2, 4, 8, 7, 5, 7, 1, 8, 7, 3, 5, 4, 4, 3, 8, 6, 1, 1, 6, 3, 2, 2, 8, 9, 8, 3, 3, 8, 1, 1, 0, 5, 2, 0, 5, 0, 5, 8, 6, 3, 9, 6, 6, 3, 9, 4, 8, 3, 4, 3, 1, 1, 2, 9, 7, 8, 5, 5, 8, 6, 9, 0, 8, 3, 5, 1, 3, 3, 5, 5, 3, 8, 1, 4, 6, 4, 2, 4, 3, 8, 9, 6, 6, 6, 5, 5, 2, 7, 7, 4, 4, 9, 3, 8, 3, 7, 7, 8, 5, 3, 9, 1, 6, 7, 3, 3, 3, 8, 5, 6, 1, 3, 7, 9, 6, 1, 6, 4, 9, 0, 5, 7, 4, 9, 1, 0, 0, 2, 7, 8, 3, 2, 7, 6, 1, 6, 6, 4, 4, 2, 1, 8, 4, 4, 7, 8, 5, 8, 9, 4, 3, 2, 2, 9, 3, 0, 1, 1, 1, 1, 6, 8, 7, 1, 3, 0, 4, 5, 0, 3, 0, 6, 2, 0, 9, 8, 6, 8, 5, 8, 2, 9, 6, 0, 6, 1, 8, 7, 3, 2, 2, 6, 5, 6, 9, 2, 5, 4, 9, 8, 5, 3, 9, 3, 5, 7, 1, 8, 5, 8, 6, 2, 5, 1, 3, 0, 4, 1, 9, 5, 4, 9, 2, 1, 4, 2, 5, 9, 8, 7, 2, 1, 6, 9, 7, 3, 6, 5, 8, 0, 2, 2, 4, 9, 0, 5, 5, 4, 2, 3, 1, 0, 3, 0, 4, 4, 9, 1, 3, 3, 0, 2, 1, 1, 0, 4, 1, 9, 4, 8, 1, 1, 1, 5, 9, 8, 1, 6, 7, 2, 9, 9, 7, 8, 8, 1, 9, 7, 8, 9, 1, 6, 6, 3, 3, 1, 3, 0, 8, 8, 3, 6, 6, 7, 1, 0, 7, 6, 4, 8, 2, 0, 6, 6, 8, 6, 3, 1, 1, 8, 6, 7, 0, 5, 4, 3, 2, 1, 7, 8, 2, 0, 1, 7, 4, 8, 7, 6, 6, 7, 0, 6, 4, 9, 2, 3, 2, 1, 3, 8, 6, 8, 1, 9, 6, 7, 6, 5, 0, 6, 0, 1, 3, 1, 1, 5, 3, 4, 3, 3, 8, 1, 6, 6, 1, 8, 8, 6, 2, 7, 4, 6, 8, 9, 3, 3, 5, 5, 3, 1, 4, 1, 9, 5, 1, 7, 7, 7, 5, 2, 3, 3, 6, 6, 6, 4, 0, 7, 1, 7, 3, 0, 8, 1, 2, 4, 1, 2, 2, 4, 9, 8, 2, 8, 7, 6, 3, 4, 7, 2, 3, 1, 5, 3, 0, 4, 3, 4, 9, 4, 7, 9, 1, 7, 8, 3, 1, 8, 3, 2, 5, 7, 2, 7, 9, 6, 8, 6, 8, 6, 5, 9, 0, 4, 8, 5, 6, 4, 3, 8, 0, 4, 8, 6, 7, 2, 7, 1, 7, 4, 1, 2, 4, 2, 2, 8, 7, 2, 2, 6, 7, 5, 6, 8, 9, 9, 6, 5, 2, 9, 8, 7, 2, 3, 3, 7, 4, 3, 2, 1, 9, 0, 1, 5, 3, 2, 6, 5, 9, 1, 5, 4, 3, 6, 2, 8, 9, 7, 8, 0, 8, 9, 1, 2, 5, 7, 2, 0, 6, 6, 1, 6, 3, 1, 5, 0, 3, 7, 4, 6, 5, 6, 4, 8, 3, 4, 5, 5, 0, 6, 6, 7, 5, 0, 9, 9, 6, 1, 0, 4, 6, 3, 6, 9, 3, 6, 6, 8, 2, 1, 0, 1, 9, 3, 7, 4, 3, 0, 2, 7, 6, 4, 3, 0, 8, 2, 0, 0, 9, 6, 6, 6, 8, 7, 4, 1, 8, 1, 2, 2, 4, 8, 5, 2, 6, 5, 3, 9, 1, 0, 7, 2, 4, 4, 0, 0, 6, 2, 2, 4, 0, 5, 9, 7, 1, 8, 4, 5, 5, 9, 8, 5, 7, 8, 0, 9, 8, 9, 1, 6, 3, 8, 0, 3, 4, 4, 8, 4, 8, 9, 8, 6, 0, 0, 8, 2, 7, 4, 2, 5, 6, 0, 5, 8, 4, 1, 9, 0, 1, 4, 4, 8, 4, 9, 6, 0, 7, 7, 6, 8, 9, 6, 2, 0, 4, 9, 4, 9, 3, 9, 6, 6, 7, 0, 9, 7, 1, 8, 6, 0, 6, 7, 4, 1, 9, 4, 6, 7, 9, 8, 3, 9, 2, 1, 2, 7, 6, 1, 0, 0, 5, 6, 0, 4, 3, 2, 8, 8, 0, 6, 9, 5, 2, 8, 7, 0, 6, 5, 9, 7, 2, 3, 6, 9, 6, 2, 2, 4, 1, 0, 5, 0, 8, 9, 3, 5, 9, 3, 8, 1, 6, 3, 7, 5, 6, 2, 0, 2, 8, 2, 8, 7, 7, 8, 1, 0, 8, 9, 7, 0, 3, 8, 0, 5, 9, 5, 8, 4, 2, 0, 9, 2, 2, 4, 4, 9, 2, 2, 2, 5, 1, 3, 2, 0, 0, 4, 0, 6, 5, 8, 0, 5, 8, 6, 4, 8, 5, 2, 9, 7, 9, 7, 1, 0, 1, 9, 6, 9, 2, 7, 9, 4, 4, 0, 6, 2, 4, 1, 3, 7, 2, 8, 5, 9, 0, 3, 2, 3, 2, 7, 6, 3, 2, 5, 9, 0, 5, 9, 9, 8, 7, 7, 4, 8, 6, 5, 2, 3, 1, 0, 4, 1, 8, 8, 4, 9, 4, 4, 3, 3, 9, 2, 0, 1, 1, 8, 4, 4, 8, 3, 2, 9, 5, 7, 6, 2, 5, 4, 7, 3, 3, 9, 0, 1, 5, 9, 3, 7, 6, 0, 4, 2, 2, 5, 6, 3, 8, 9, 5, 6, 1, 4, 5, 4, 6, 7, 2, 1, 0, 2, 0, 4, 9, 8, 8, 9, 1, 1, 5, 0, 0, 8, 7, 1, 7, 4, 5, 4, 3, 3, 2, 0, 6, 6, 0, 1, 3, 9, 8, 3, 7, 8, 9, 4, 8, 9, 0, 9, 7, 1, 6, 2, 9, 5, 6, 9, 3, 9, 8, 7, 7, 1, 6, 5, 3, 1, 3, 1, 2, 7, 1, 8, 2, 0, 9, 7, 9, 8, 8, 6, 7, 3, 7, 1, 3, 9, 0, 9, 3, 6, 7, 2, 7, 3, 0, 5, 9, 7, 5, 5, 0, 6, 5, 1, 8, 2, 7, 5, 9, 0, 0, 0, 8, 8, 7, 3, 7, 8, 9, 3, 7, 9, 7, 8, 7, 9, 8, 5, 4, 8, 3, 7, 6, 3, 8, 2, 1, 9, 5, 7, 3, 9, 5, 5, 8, 7, 3, 5, 3, 5, 9, 7, 6, 7, 3, 6, 4, 3, 9, 4, 2, 1, 9, 6, 0, 2, 6, 7, 4, 7, 9, 0, 7, 4, 3, 5, 3, 1, 1, 2, 6, 8, 2, 1, 7, 8, 5, 9, 6, 1, 1, 5, 0, 6, 0, 9, 2, 6, 5, 8, 9, 5, 5, 6, 2, 9, 1, 5, 8, 8, 7, 1, 7, 3, 5, 4, 9, 7, 5, 2, 9, 9, 4, 7, 4, 1, 3, 8, 7, 9, 0, 4, 5, 7, 5, 2, 8, 7, 6, 9, 6, 9, 3, 8, 5, 6, 6, 9, 5, 7, 8, 0, 5, 0, 7, 4, 8, 2, 5, 1, 3, 2, 2, 6, 2, 1, 7, 4, 6, 3, 1, 3, 7, 2, 1, 3, 7, 0, 8, 4, 4, 5, 7, 9, 5, 4, 3, 9, 6, 8, 2, 3, 3, 1, 6, 1, 7, 0, 3, 4, 2, 9, 4, 5, 8, 2, 7, 0, 9, 6, 8, 0, 8, 2, 8, 5, 7, 7, 2, 2, 0, 0, 0, 7, 4, 1, 6, 6, 8, 8, 9, 0, 9, 0, 1, 3, 3, 0, 9, 6, 6, 2, 6, 3, 4, 0, 8, 4, 1, 4, 0, 6, 5, 0, 9, 9, 9, 9, 1, 2, 3, 5, 4, 2, 9, 6, 0, 9, 6, 6, 8, 0, 6, 1, 4, 6, 8, 0, 5, 4, 1, 2, 0, 9, 6, 4, 2, 4, 6, 5, 9, 7, 7, 4, 6, 5, 0, 1, 9, 0, 3, 1, 9, 0, 9, 7, 8, 6, 7, 6, 8, 2, 4, 5, 3, 0, 3, 2, 1, 7, 5, 9, 3, 4, 5, 7, 1, 5, 0, 1, 1, 1, 9, 7, 5, 4, 9, 7, 8, 1, 0, 2, 8, 5, 6, 7, 0, 1, 4, 8, 4, 4, 6, 6, 5, 8, 1, 8, 4, 6, 5, 9, 2, 2, 1, 4, 9, 1, 6, 7, 2, 0, 1, 7, 6, 5, 2, 2, 5, 6, 0, 9, 0, 1, 5, 3, 3, 5, 8, 7, 5, 6, 5, 8, 0, 5, 9, 4, 6, 5, 1, 1, 0, 3, 3, 9, 4, 8, 1, 7, 7, 9, 9, 4, 3, 6, 3, 2, 8, 2, 7, 6, 7, 0, 2, 1, 2, 9, 4, 6, 9, 6, 1, 0, 1, 8, 7, 0, 0, 4, 7, 4, 2, 6, 9, 5, 9, 0, 7, 4, 5, 8, 1, 4, 7, 9, 9, 8, 8, 6, 3, 7, 0, 8, 9, 6, 2, 4, 6, 2, 9, 7, 4, 6, 8, 5, 6, 1, 3, 5, 9, 9, 1, 3, 2, 0, 3, 0, 2, 0, 7, 3, 9, 3, 5, 7, 6, 5, 9, 5, 6, 1, 2, 4, 0, 2, 7, 8, 4, 4, 0, 9, 5, 9, 2, 9, 3, 2, 4, 3, 2, 2, 8, 8, 6, 8, 1, 6, 8, 9, 8, 2, 1, 4, 9, 1, 5, 7, 1, 6, 0, 1, 5, 2, 8, 1, 1, 3, 8, 1, 3, 1, 8, 5, 1, 9, 0, 3, 0, 4, 0, 5, 1, 2, 0, 4, 9, 5, 1, 2, 2, 7, 8, 7, 2, 4, 5, 3, 4, 0, 6, 1, 5, 9, 8, 0, 2, 0, 7, 6, 0, 5, 9, 7, 5, 0, 4, 6, 0, 6, 3, 6, 8, 1, 1, 8, 9, 7, 2, 9, 0, 2, 2, 9, 0, 6, 5, 7, 7, 9, 1, 7, 9, 8, 4, 5, 0, 8, 0, 2, 5, 2, 1, 4, 4, 8, 9, 7, 8, 3, 6, 6, 0, 1, 1, 1, 8, 1, 4, 4, 0, 7, 8, 2, 1, 2, 5, 4, 6, 0, 5, 7, 4, 4, 3, 9, 5, 8, 8, 0, 8, 7, 4, 1, 8, 4, 9, 5, 4, 1, 7, 7, 7, 7, 0, 3, 8, 3, 3, 0, 5, 7, 0, 8, 0, 0, 9, 2, 2, 3, 4, 8, 2, 2, 6, 3, 3, 6, 2, 9, 4, 0, 1, 7, 5, 5, 7, 3, 0, 4, 2, 0, 7, 5, 8, 0, 8, 2, 7, 0, 3, 5, 3, 8, 3, 5, 1, 7]\n"
          ],
          "name": "stdout"
        }
      ]
    },
    {
      "cell_type": "code",
      "metadata": {
        "colab": {
          "base_uri": "https://localhost:8080/"
        },
        "id": "PjKr7t6y8yGV",
        "outputId": "2e30e09d-ab6f-4033-8c89-60bfaa3d77d3"
      },
      "source": [
        "y_test = np.array(y_test)\n",
        "y_test.shape"
      ],
      "execution_count": null,
      "outputs": [
        {
          "output_type": "execute_result",
          "data": {
            "text/plain": [
              "(10000,)"
            ]
          },
          "metadata": {
            "tags": []
          },
          "execution_count": 15
        }
      ]
    },
    {
      "cell_type": "code",
      "metadata": {
        "colab": {
          "base_uri": "https://localhost:8080/"
        },
        "id": "iRgzPZxL84M1",
        "outputId": "05d0481e-65df-4425-b673-fda74b776273"
      },
      "source": [
        "#reshaping the test target variable into linear array\n",
        "y_test.reshape(10000)"
      ],
      "execution_count": null,
      "outputs": [
        {
          "output_type": "execute_result",
          "data": {
            "text/plain": [
              "array([3, 8, 8, ..., 5, 1, 7])"
            ]
          },
          "metadata": {
            "tags": []
          },
          "execution_count": 16
        }
      ]
    },
    {
      "cell_type": "code",
      "metadata": {
        "id": "v_FMjQRdvSku"
      },
      "source": [
        "#from keras.datasets import cifar10\n",
        "#(x_train,y_train),(x_test,y_test) = cifar10.load_data()"
      ],
      "execution_count": null,
      "outputs": []
    },
    {
      "cell_type": "code",
      "metadata": {
        "id": "4gT_GvAvvSps"
      },
      "source": [
        "#print(x_train.shape)\n",
        "#print(y_train.shape)"
      ],
      "execution_count": null,
      "outputs": []
    },
    {
      "cell_type": "code",
      "metadata": {
        "id": "Kz3bzEompYyi"
      },
      "source": [
        ""
      ],
      "execution_count": null,
      "outputs": []
    },
    {
      "cell_type": "code",
      "metadata": {
        "id": "-HAaDOfzwGhJ"
      },
      "source": [
        "#shape of the data is (50000, 32, 32, 3) implies dataset has 32*32=1024 pixel values for each r,g,b\n",
        "#reshape the data to train with random forest model\n",
        "#x_train = x_train.reshape(x_train.shape[0],(x_train.shape[1]*x_train.shape[2]*x_train.shape[3]))\n",
        "#x_test = x_test.reshape(x_test.shape[0],(x_test.shape[1]*x_test.shape[2]*x_test.shape[3]))"
      ],
      "execution_count": null,
      "outputs": []
    },
    {
      "cell_type": "code",
      "metadata": {
        "colab": {
          "base_uri": "https://localhost:8080/"
        },
        "id": "5R2f_y1xwGiq",
        "outputId": "ac9a9c87-b1ae-457e-fc30-2575308a280a"
      },
      "source": [
        "print(x_train.shape)\n",
        "print(x_test.shape)"
      ],
      "execution_count": null,
      "outputs": [
        {
          "output_type": "stream",
          "text": [
            "(50000, 3072)\n",
            "(10000, 3072)\n"
          ],
          "name": "stdout"
        }
      ]
    },
    {
      "cell_type": "code",
      "metadata": {
        "id": "OlWc0MgoG3fr"
      },
      "source": [
        "size =  (128,128)"
      ],
      "execution_count": null,
      "outputs": []
    },
    {
      "cell_type": "code",
      "metadata": {
        "colab": {
          "base_uri": "https://localhost:8080/",
          "height": 1000
        },
        "id": "vvEOAxRs4AFo",
        "outputId": "f5ed3d2e-fd78-499c-96dc-8024930efd2c"
      },
      "source": [
        "# displaying images of all different classes\n",
        "from PIL import Image\n",
        "from IPython.display import display\n",
        "ind = []\n",
        "for i in range(10):\n",
        "  ind.append(list(y_train).index(i))\n",
        "print(ind)\n",
        "for index in ind:\n",
        "  tem_img = x_train[index,:]\n",
        "  r = tem_img[:1024].reshape(32,32)\n",
        "  g = tem_img[1024:2048].reshape(32,32)\n",
        "  b = tem_img[2048:].reshape(32,32)\n",
        "  rgb = np.dstack([r, g, b])\n",
        "  img = Image.fromarray(np.array(rgb),'RGB')\n",
        "  img = img.resize(size)\n",
        "  display(img)\n",
        "  print(\"\")"
      ],
      "execution_count": null,
      "outputs": [
        {
          "output_type": "stream",
          "text": [
            "[0, 6, 3, 13, 8, 10, 1, 4, 18, 27]\n"
          ],
          "name": "stdout"
        },
        {
          "output_type": "display_data",
          "data": {
            "image/png": "[encoded data removed]",
            "text/plain": [
              "<PIL.Image.Image image mode=RGB size=128x128 at 0x7FE6E3849FD0>"
            ]
          },
          "metadata": {
            "tags": []
          }
        },
        {
          "output_type": "stream",
          "text": [
            "\n"
          ],
          "name": "stdout"
        },
        {
          "output_type": "display_data",
          "data": {
            "image/png": "[encoded data removed]",
            "text/plain": [
              "<PIL.Image.Image image mode=RGB size=128x128 at 0x7FE6E3849FD0>"
            ]
          },
          "metadata": {
            "tags": []
          }
        },
        {
          "output_type": "stream",
          "text": [
            "\n"
          ],
          "name": "stdout"
        },
        {
          "output_type": "display_data",
          "data": {
            "image/png": "[encoded data removed]",
            "text/plain": [
              "<PIL.Image.Image image mode=RGB size=128x128 at 0x7FE6E3849FD0>"
            ]
          },
          "metadata": {
            "tags": []
          }
        },
        {
          "output_type": "stream",
          "text": [
            "\n"
          ],
          "name": "stdout"
        },
        {
          "output_type": "display_data",
          "data": {
            "image/png": "[encoded data removed]",
            "text/plain": [
              "<PIL.Image.Image image mode=RGB size=128x128 at 0x7FE6E3706490>"
            ]
          },
          "metadata": {
            "tags": []
          }
        },
        {
          "output_type": "stream",
          "text": [
            "\n"
          ],
          "name": "stdout"
        },
        {
          "output_type": "display_data",
          "data": {
            "image/png": "[encoded data removed]",
            "text/plain": [
              "<PIL.Image.Image image mode=RGB size=128x128 at 0x7FE6E3706490>"
            ]
          },
          "metadata": {
            "tags": []
          }
        },
        {
          "output_type": "stream",
          "text": [
            "\n"
          ],
          "name": "stdout"
        },
        {
          "output_type": "display_data",
          "data": {
            "image/png": "[encoded data removed]",
            "text/plain": [
              "<PIL.Image.Image image mode=RGB size=128x128 at 0x7FE6E3706490>"
            ]
          },
          "metadata": {
            "tags": []
          }
        },
        {
          "output_type": "stream",
          "text": [
            "\n"
          ],
          "name": "stdout"
        },
        {
          "output_type": "display_data",
          "data": {
            "image/png": "[encoded data removed]",
            "text/plain": [
              "<PIL.Image.Image image mode=RGB size=128x128 at 0x7FE6E3706490>"
            ]
          },
          "metadata": {
            "tags": []
          }
        },
        {
          "output_type": "stream",
          "text": [
            "\n"
          ],
          "name": "stdout"
        },
        {
          "output_type": "display_data",
          "data": {
            "image/png": "[encoded data removed]",
            "text/plain": [
              "<PIL.Image.Image image mode=RGB size=128x128 at 0x7FE6E3706490>"
            ]
          },
          "metadata": {
            "tags": []
          }
        },
        {
          "output_type": "stream",
          "text": [
            "\n"
          ],
          "name": "stdout"
        },
        {
          "output_type": "display_data",
          "data": {
            "image/png": "[encoded data removed]",
            "text/plain": [
              "<PIL.Image.Image image mode=RGB size=128x128 at 0x7FE6E3706490>"
            ]
          },
          "metadata": {
            "tags": []
          }
        },
        {
          "output_type": "stream",
          "text": [
            "\n"
          ],
          "name": "stdout"
        },
        {
          "output_type": "display_data",
          "data": {
            "image/png": "[encoded data removed]",
            "text/plain": [
              "<PIL.Image.Image image mode=RGB size=128x128 at 0x7FE6E3706490>"
            ]
          },
          "metadata": {
            "tags": []
          }
        },
        {
          "output_type": "stream",
          "text": [
            "\n"
          ],
          "name": "stdout"
        }
      ]
    },
    {
      "cell_type": "code",
      "metadata": {
        "id": "BkSQOnH9W_Pc"
      },
      "source": [
        "# standard scaling the data\n",
        "from sklearn.preprocessing import StandardScaler\n",
        "scaler = StandardScaler()\n",
        "x_train = scaler.fit_transform(x_train)\n",
        "x_test = scaler.fit_transform(x_test)"
      ],
      "execution_count": null,
      "outputs": []
    },
    {
      "cell_type": "code",
      "metadata": {
        "id": "OpXwrrw5wGn1"
      },
      "source": [
        "#max value of ecah of r,g,b is 255\n",
        "#normalise the data\n",
        "#max_rgb = 255\n",
        "#x_train = x_train/max_rgb\n",
        "#x_test = x_test/max_rgb"
      ],
      "execution_count": null,
      "outputs": []
    },
    {
      "cell_type": "code",
      "metadata": {
        "colab": {
          "base_uri": "https://localhost:8080/",
          "height": 422
        },
        "id": "vSSH75blp08F",
        "outputId": "8d461136-5903-4c58-aea7-34643078ed7a"
      },
      "source": [
        "df = pd.DataFrame(x_train)\n",
        "df"
      ],
      "execution_count": null,
      "outputs": [
        {
          "output_type": "execute_result",
          "data": {
            "text/html": [
              "<div>\n",
              "<style scoped>\n",
              "    .dataframe tbody tr th:only-of-type {\n",
              "        vertical-align: middle;\n",
              "    }\n",
              "\n",
              "    .dataframe tbody tr th {\n",
              "        vertical-align: top;\n",
              "    }\n",
              "\n",
              "    .dataframe thead th {\n",
              "        text-align: right;\n",
              "    }\n",
              "</style>\n",
              "<table border=\"1\" class=\"dataframe\">\n",
              "  <thead>\n",
              "    <tr style=\"text-align: right;\">\n",
              "      <th></th>\n",
              "      <th>0</th>\n",
              "      <th>1</th>\n",
              "      <th>2</th>\n",
              "      <th>3</th>\n",
              "      <th>4</th>\n",
              "      <th>5</th>\n",
              "      <th>6</th>\n",
              "      <th>7</th>\n",
              "      <th>8</th>\n",
              "      <th>9</th>\n",
              "      <th>10</th>\n",
              "      <th>11</th>\n",
              "      <th>12</th>\n",
              "      <th>13</th>\n",
              "      <th>14</th>\n",
              "      <th>15</th>\n",
              "      <th>16</th>\n",
              "      <th>17</th>\n",
              "      <th>18</th>\n",
              "      <th>19</th>\n",
              "      <th>20</th>\n",
              "      <th>21</th>\n",
              "      <th>22</th>\n",
              "      <th>23</th>\n",
              "      <th>24</th>\n",
              "      <th>25</th>\n",
              "      <th>26</th>\n",
              "      <th>27</th>\n",
              "      <th>28</th>\n",
              "      <th>29</th>\n",
              "      <th>30</th>\n",
              "      <th>31</th>\n",
              "      <th>32</th>\n",
              "      <th>33</th>\n",
              "      <th>34</th>\n",
              "      <th>35</th>\n",
              "      <th>36</th>\n",
              "      <th>37</th>\n",
              "      <th>38</th>\n",
              "      <th>39</th>\n",
              "      <th>...</th>\n",
              "      <th>3032</th>\n",
              "      <th>3033</th>\n",
              "      <th>3034</th>\n",
              "      <th>3035</th>\n",
              "      <th>3036</th>\n",
              "      <th>3037</th>\n",
              "      <th>3038</th>\n",
              "      <th>3039</th>\n",
              "      <th>3040</th>\n",
              "      <th>3041</th>\n",
              "      <th>3042</th>\n",
              "      <th>3043</th>\n",
              "      <th>3044</th>\n",
              "      <th>3045</th>\n",
              "      <th>3046</th>\n",
              "      <th>3047</th>\n",
              "      <th>3048</th>\n",
              "      <th>3049</th>\n",
              "      <th>3050</th>\n",
              "      <th>3051</th>\n",
              "      <th>3052</th>\n",
              "      <th>3053</th>\n",
              "      <th>3054</th>\n",
              "      <th>3055</th>\n",
              "      <th>3056</th>\n",
              "      <th>3057</th>\n",
              "      <th>3058</th>\n",
              "      <th>3059</th>\n",
              "      <th>3060</th>\n",
              "      <th>3061</th>\n",
              "      <th>3062</th>\n",
              "      <th>3063</th>\n",
              "      <th>3064</th>\n",
              "      <th>3065</th>\n",
              "      <th>3066</th>\n",
              "      <th>3067</th>\n",
              "      <th>3068</th>\n",
              "      <th>3069</th>\n",
              "      <th>3070</th>\n",
              "      <th>3071</th>\n",
              "    </tr>\n",
              "  </thead>\n",
              "  <tbody>\n",
              "    <tr>\n",
              "      <th>0</th>\n",
              "      <td>0.644198</td>\n",
              "      <td>0.660106</td>\n",
              "      <td>0.648403</td>\n",
              "      <td>0.642271</td>\n",
              "      <td>0.650404</td>\n",
              "      <td>0.642623</td>\n",
              "      <td>0.637020</td>\n",
              "      <td>0.644036</td>\n",
              "      <td>0.637580</td>\n",
              "      <td>0.631833</td>\n",
              "      <td>0.627374</td>\n",
              "      <td>0.624360</td>\n",
              "      <td>0.622165</td>\n",
              "      <td>0.623488</td>\n",
              "      <td>0.623709</td>\n",
              "      <td>0.623209</td>\n",
              "      <td>0.623974</td>\n",
              "      <td>0.609990</td>\n",
              "      <td>0.610524</td>\n",
              "      <td>0.612243</td>\n",
              "      <td>0.600144</td>\n",
              "      <td>0.602512</td>\n",
              "      <td>0.590240</td>\n",
              "      <td>0.594528</td>\n",
              "      <td>0.601195</td>\n",
              "      <td>0.593561</td>\n",
              "      <td>0.585696</td>\n",
              "      <td>0.580540</td>\n",
              "      <td>0.560213</td>\n",
              "      <td>0.538596</td>\n",
              "      <td>0.517525</td>\n",
              "      <td>0.476122</td>\n",
              "      <td>0.686302</td>\n",
              "      <td>0.690416</td>\n",
              "      <td>0.694298</td>\n",
              "      <td>0.692485</td>\n",
              "      <td>0.688409</td>\n",
              "      <td>0.694489</td>\n",
              "      <td>0.688793</td>\n",
              "      <td>0.682974</td>\n",
              "      <td>...</td>\n",
              "      <td>-0.206730</td>\n",
              "      <td>-0.160593</td>\n",
              "      <td>-0.114092</td>\n",
              "      <td>-0.228446</td>\n",
              "      <td>-0.296150</td>\n",
              "      <td>-0.300650</td>\n",
              "      <td>-0.336773</td>\n",
              "      <td>-0.346735</td>\n",
              "      <td>-0.354165</td>\n",
              "      <td>-0.369218</td>\n",
              "      <td>-0.309591</td>\n",
              "      <td>-0.399532</td>\n",
              "      <td>-0.398548</td>\n",
              "      <td>-0.397397</td>\n",
              "      <td>-0.380152</td>\n",
              "      <td>-0.331832</td>\n",
              "      <td>-0.347457</td>\n",
              "      <td>-0.410332</td>\n",
              "      <td>-0.347114</td>\n",
              "      <td>-0.392493</td>\n",
              "      <td>-0.421649</td>\n",
              "      <td>-0.499859</td>\n",
              "      <td>-0.406588</td>\n",
              "      <td>-0.343772</td>\n",
              "      <td>-0.389176</td>\n",
              "      <td>-0.391483</td>\n",
              "      <td>-0.392422</td>\n",
              "      <td>-0.411019</td>\n",
              "      <td>-0.415703</td>\n",
              "      <td>-0.465655</td>\n",
              "      <td>-0.449873</td>\n",
              "      <td>-0.479519</td>\n",
              "      <td>-0.433511</td>\n",
              "      <td>-0.434063</td>\n",
              "      <td>-0.463972</td>\n",
              "      <td>-0.495981</td>\n",
              "      <td>-0.525727</td>\n",
              "      <td>-0.523775</td>\n",
              "      <td>-0.521939</td>\n",
              "      <td>-0.568440</td>\n",
              "    </tr>\n",
              "    <tr>\n",
              "      <th>1</th>\n",
              "      <td>-1.386526</td>\n",
              "      <td>-1.494063</td>\n",
              "      <td>-1.468727</td>\n",
              "      <td>-1.497038</td>\n",
              "      <td>-1.457115</td>\n",
              "      <td>-1.260220</td>\n",
              "      <td>-0.554895</td>\n",
              "      <td>0.069052</td>\n",
              "      <td>-0.023398</td>\n",
              "      <td>-0.029655</td>\n",
              "      <td>0.105545</td>\n",
              "      <td>0.003469</td>\n",
              "      <td>-0.098802</td>\n",
              "      <td>-0.368413</td>\n",
              "      <td>-0.880329</td>\n",
              "      <td>-1.023241</td>\n",
              "      <td>-0.340532</td>\n",
              "      <td>0.624159</td>\n",
              "      <td>0.936237</td>\n",
              "      <td>0.895119</td>\n",
              "      <td>0.712982</td>\n",
              "      <td>0.969015</td>\n",
              "      <td>1.012523</td>\n",
              "      <td>1.044859</td>\n",
              "      <td>1.008707</td>\n",
              "      <td>0.986547</td>\n",
              "      <td>0.949894</td>\n",
              "      <td>0.957565</td>\n",
              "      <td>0.921323</td>\n",
              "      <td>0.912619</td>\n",
              "      <td>0.931268</td>\n",
              "      <td>0.941719</td>\n",
              "      <td>-1.363680</td>\n",
              "      <td>-1.425149</td>\n",
              "      <td>-1.583535</td>\n",
              "      <td>-1.586165</td>\n",
              "      <td>-1.477273</td>\n",
              "      <td>-1.179583</td>\n",
              "      <td>-0.550691</td>\n",
              "      <td>-0.258155</td>\n",
              "      <td>...</td>\n",
              "      <td>-1.402003</td>\n",
              "      <td>-1.354713</td>\n",
              "      <td>-1.336117</td>\n",
              "      <td>-1.276668</td>\n",
              "      <td>-1.216417</td>\n",
              "      <td>-1.233785</td>\n",
              "      <td>-1.187497</td>\n",
              "      <td>-1.202161</td>\n",
              "      <td>-1.391546</td>\n",
              "      <td>-1.166043</td>\n",
              "      <td>-1.095522</td>\n",
              "      <td>-1.096085</td>\n",
              "      <td>-0.879964</td>\n",
              "      <td>-1.082210</td>\n",
              "      <td>-1.580791</td>\n",
              "      <td>-1.408558</td>\n",
              "      <td>-1.035644</td>\n",
              "      <td>-0.989627</td>\n",
              "      <td>-1.366046</td>\n",
              "      <td>-1.506855</td>\n",
              "      <td>-1.457872</td>\n",
              "      <td>-1.536067</td>\n",
              "      <td>-1.710553</td>\n",
              "      <td>-1.725920</td>\n",
              "      <td>-1.692334</td>\n",
              "      <td>-1.695634</td>\n",
              "      <td>-1.585773</td>\n",
              "      <td>-1.524026</td>\n",
              "      <td>-1.495444</td>\n",
              "      <td>-1.529129</td>\n",
              "      <td>-1.541586</td>\n",
              "      <td>-1.506773</td>\n",
              "      <td>-1.506073</td>\n",
              "      <td>-1.444647</td>\n",
              "      <td>-1.394597</td>\n",
              "      <td>-1.364530</td>\n",
              "      <td>-1.314584</td>\n",
              "      <td>-1.310916</td>\n",
              "      <td>-1.274450</td>\n",
              "      <td>-1.280805</td>\n",
              "    </tr>\n",
              "    <tr>\n",
              "      <th>2</th>\n",
              "      <td>-1.291123</td>\n",
              "      <td>-1.342167</td>\n",
              "      <td>-1.524077</td>\n",
              "      <td>-1.552604</td>\n",
              "      <td>-1.122145</td>\n",
              "      <td>-1.106314</td>\n",
              "      <td>-1.606585</td>\n",
              "      <td>-1.571756</td>\n",
              "      <td>-1.626622</td>\n",
              "      <td>-1.620040</td>\n",
              "      <td>-1.586873</td>\n",
              "      <td>-1.576979</td>\n",
              "      <td>-1.526598</td>\n",
              "      <td>-1.530353</td>\n",
              "      <td>-1.561404</td>\n",
              "      <td>-1.505821</td>\n",
              "      <td>-1.517798</td>\n",
              "      <td>-1.529476</td>\n",
              "      <td>-1.513690</td>\n",
              "      <td>-1.537612</td>\n",
              "      <td>-1.501465</td>\n",
              "      <td>-1.427353</td>\n",
              "      <td>-1.464873</td>\n",
              "      <td>-1.460108</td>\n",
              "      <td>-1.492570</td>\n",
              "      <td>-1.567862</td>\n",
              "      <td>-1.571481</td>\n",
              "      <td>-1.555935</td>\n",
              "      <td>-1.509223</td>\n",
              "      <td>-1.456192</td>\n",
              "      <td>-1.440855</td>\n",
              "      <td>-1.386266</td>\n",
              "      <td>-1.033481</td>\n",
              "      <td>-1.146785</td>\n",
              "      <td>-1.611484</td>\n",
              "      <td>-1.347047</td>\n",
              "      <td>-0.585521</td>\n",
              "      <td>-0.483905</td>\n",
              "      <td>-1.661952</td>\n",
              "      <td>-1.712625</td>\n",
              "      <td>...</td>\n",
              "      <td>1.130089</td>\n",
              "      <td>1.096376</td>\n",
              "      <td>1.060931</td>\n",
              "      <td>1.023163</td>\n",
              "      <td>0.982864</td>\n",
              "      <td>0.959081</td>\n",
              "      <td>0.900644</td>\n",
              "      <td>0.875303</td>\n",
              "      <td>0.758389</td>\n",
              "      <td>0.810695</td>\n",
              "      <td>0.830779</td>\n",
              "      <td>0.823307</td>\n",
              "      <td>0.843817</td>\n",
              "      <td>0.878845</td>\n",
              "      <td>0.914043</td>\n",
              "      <td>0.963360</td>\n",
              "      <td>0.997635</td>\n",
              "      <td>1.030078</td>\n",
              "      <td>1.048040</td>\n",
              "      <td>1.082860</td>\n",
              "      <td>1.148386</td>\n",
              "      <td>1.164355</td>\n",
              "      <td>1.164456</td>\n",
              "      <td>1.164026</td>\n",
              "      <td>1.180893</td>\n",
              "      <td>1.211209</td>\n",
              "      <td>1.193478</td>\n",
              "      <td>1.172273</td>\n",
              "      <td>1.133492</td>\n",
              "      <td>1.113916</td>\n",
              "      <td>1.109717</td>\n",
              "      <td>1.076926</td>\n",
              "      <td>1.043205</td>\n",
              "      <td>1.042945</td>\n",
              "      <td>1.025030</td>\n",
              "      <td>0.977450</td>\n",
              "      <td>0.943712</td>\n",
              "      <td>0.911599</td>\n",
              "      <td>0.860224</td>\n",
              "      <td>0.841134</td>\n",
              "    </tr>\n",
              "    <tr>\n",
              "      <th>3</th>\n",
              "      <td>-1.372897</td>\n",
              "      <td>-1.176461</td>\n",
              "      <td>-1.205815</td>\n",
              "      <td>-1.135856</td>\n",
              "      <td>-0.856961</td>\n",
              "      <td>-0.966399</td>\n",
              "      <td>-1.466360</td>\n",
              "      <td>-0.954700</td>\n",
              "      <td>-0.670313</td>\n",
              "      <td>-0.677068</td>\n",
              "      <td>-1.135562</td>\n",
              "      <td>-1.816869</td>\n",
              "      <td>-1.823467</td>\n",
              "      <td>-1.856263</td>\n",
              "      <td>-1.901941</td>\n",
              "      <td>-1.903240</td>\n",
              "      <td>-1.914948</td>\n",
              "      <td>-1.883692</td>\n",
              "      <td>-1.853564</td>\n",
              "      <td>-1.848775</td>\n",
              "      <td>-1.854084</td>\n",
              "      <td>-1.850242</td>\n",
              "      <td>-1.830852</td>\n",
              "      <td>-1.840074</td>\n",
              "      <td>-1.857925</td>\n",
              "      <td>-1.876636</td>\n",
              "      <td>-1.865641</td>\n",
              "      <td>-1.849177</td>\n",
              "      <td>-1.814777</td>\n",
              "      <td>-1.816363</td>\n",
              "      <td>-1.220192</td>\n",
              "      <td>0.448734</td>\n",
              "      <td>-1.322405</td>\n",
              "      <td>-0.743157</td>\n",
              "      <td>-1.010583</td>\n",
              "      <td>-0.742220</td>\n",
              "      <td>-0.458128</td>\n",
              "      <td>-0.867238</td>\n",
              "      <td>-1.476742</td>\n",
              "      <td>-0.942611</td>\n",
              "      <td>...</td>\n",
              "      <td>-0.678548</td>\n",
              "      <td>-0.710517</td>\n",
              "      <td>-0.396098</td>\n",
              "      <td>-0.431832</td>\n",
              "      <td>-0.140173</td>\n",
              "      <td>0.025947</td>\n",
              "      <td>-0.259434</td>\n",
              "      <td>-0.087052</td>\n",
              "      <td>0.472734</td>\n",
              "      <td>-0.093394</td>\n",
              "      <td>-0.093845</td>\n",
              "      <td>-0.198305</td>\n",
              "      <td>-0.181134</td>\n",
              "      <td>-0.148374</td>\n",
              "      <td>-0.224225</td>\n",
              "      <td>-0.206994</td>\n",
              "      <td>-0.159770</td>\n",
              "      <td>-0.128513</td>\n",
              "      <td>-0.111975</td>\n",
              "      <td>-0.141369</td>\n",
              "      <td>-0.170443</td>\n",
              "      <td>-0.154456</td>\n",
              "      <td>-0.155221</td>\n",
              "      <td>-0.061060</td>\n",
              "      <td>-0.028060</td>\n",
              "      <td>-0.014379</td>\n",
              "      <td>-0.062681</td>\n",
              "      <td>-0.160200</td>\n",
              "      <td>-0.149679</td>\n",
              "      <td>-0.168508</td>\n",
              "      <td>-0.169147</td>\n",
              "      <td>-0.246052</td>\n",
              "      <td>-0.215890</td>\n",
              "      <td>-0.107566</td>\n",
              "      <td>-0.076211</td>\n",
              "      <td>-0.154766</td>\n",
              "      <td>-0.108097</td>\n",
              "      <td>-0.122488</td>\n",
              "      <td>-0.230149</td>\n",
              "      <td>0.492529</td>\n",
              "    </tr>\n",
              "    <tr>\n",
              "      <th>4</th>\n",
              "      <td>-1.304752</td>\n",
              "      <td>-0.693154</td>\n",
              "      <td>-0.583130</td>\n",
              "      <td>-1.108073</td>\n",
              "      <td>-1.191931</td>\n",
              "      <td>-1.316186</td>\n",
              "      <td>-1.171887</td>\n",
              "      <td>-0.772388</td>\n",
              "      <td>-0.009335</td>\n",
              "      <td>-0.001507</td>\n",
              "      <td>-0.402181</td>\n",
              "      <td>-0.687977</td>\n",
              "      <td>-0.749085</td>\n",
              "      <td>-0.580963</td>\n",
              "      <td>0.581142</td>\n",
              "      <td>1.190950</td>\n",
              "      <td>1.063676</td>\n",
              "      <td>0.411629</td>\n",
              "      <td>-0.225000</td>\n",
              "      <td>0.371799</td>\n",
              "      <td>0.346258</td>\n",
              "      <td>0.109142</td>\n",
              "      <td>0.407250</td>\n",
              "      <td>0.847839</td>\n",
              "      <td>0.868185</td>\n",
              "      <td>0.804089</td>\n",
              "      <td>0.739780</td>\n",
              "      <td>0.650359</td>\n",
              "      <td>0.504658</td>\n",
              "      <td>0.344658</td>\n",
              "      <td>0.089992</td>\n",
              "      <td>0.311793</td>\n",
              "      <td>-1.377438</td>\n",
              "      <td>-0.924094</td>\n",
              "      <td>-0.619299</td>\n",
              "      <td>-0.756286</td>\n",
              "      <td>-1.066784</td>\n",
              "      <td>-1.435138</td>\n",
              "      <td>-1.191803</td>\n",
              "      <td>-0.928352</td>\n",
              "      <td>...</td>\n",
              "      <td>0.029179</td>\n",
              "      <td>-0.034896</td>\n",
              "      <td>0.042578</td>\n",
              "      <td>0.053166</td>\n",
              "      <td>0.031402</td>\n",
              "      <td>0.134812</td>\n",
              "      <td>-0.151160</td>\n",
              "      <td>-0.591142</td>\n",
              "      <td>0.322388</td>\n",
              "      <td>0.427607</td>\n",
              "      <td>0.615033</td>\n",
              "      <td>0.653038</td>\n",
              "      <td>0.766169</td>\n",
              "      <td>0.801026</td>\n",
              "      <td>1.007599</td>\n",
              "      <td>1.041384</td>\n",
              "      <td>0.809948</td>\n",
              "      <td>0.497752</td>\n",
              "      <td>0.201542</td>\n",
              "      <td>0.094059</td>\n",
              "      <td>0.159264</td>\n",
              "      <td>0.159547</td>\n",
              "      <td>0.253251</td>\n",
              "      <td>0.237359</td>\n",
              "      <td>0.238851</td>\n",
              "      <td>0.331300</td>\n",
              "      <td>0.486889</td>\n",
              "      <td>0.545227</td>\n",
              "      <td>0.444961</td>\n",
              "      <td>0.644737</td>\n",
              "      <td>1.016142</td>\n",
              "      <td>0.501041</td>\n",
              "      <td>-0.091535</td>\n",
              "      <td>-0.449610</td>\n",
              "      <td>-0.510503</td>\n",
              "      <td>-0.232315</td>\n",
              "      <td>-0.154500</td>\n",
              "      <td>-0.107054</td>\n",
              "      <td>-0.061218</td>\n",
              "      <td>-0.341089</td>\n",
              "    </tr>\n",
              "    <tr>\n",
              "      <th>...</th>\n",
              "      <td>...</td>\n",
              "      <td>...</td>\n",
              "      <td>...</td>\n",
              "      <td>...</td>\n",
              "      <td>...</td>\n",
              "      <td>...</td>\n",
              "      <td>...</td>\n",
              "      <td>...</td>\n",
              "      <td>...</td>\n",
              "      <td>...</td>\n",
              "      <td>...</td>\n",
              "      <td>...</td>\n",
              "      <td>...</td>\n",
              "      <td>...</td>\n",
              "      <td>...</td>\n",
              "      <td>...</td>\n",
              "      <td>...</td>\n",
              "      <td>...</td>\n",
              "      <td>...</td>\n",
              "      <td>...</td>\n",
              "      <td>...</td>\n",
              "      <td>...</td>\n",
              "      <td>...</td>\n",
              "      <td>...</td>\n",
              "      <td>...</td>\n",
              "      <td>...</td>\n",
              "      <td>...</td>\n",
              "      <td>...</td>\n",
              "      <td>...</td>\n",
              "      <td>...</td>\n",
              "      <td>...</td>\n",
              "      <td>...</td>\n",
              "      <td>...</td>\n",
              "      <td>...</td>\n",
              "      <td>...</td>\n",
              "      <td>...</td>\n",
              "      <td>...</td>\n",
              "      <td>...</td>\n",
              "      <td>...</td>\n",
              "      <td>...</td>\n",
              "      <td>...</td>\n",
              "      <td>...</td>\n",
              "      <td>...</td>\n",
              "      <td>...</td>\n",
              "      <td>...</td>\n",
              "      <td>...</td>\n",
              "      <td>...</td>\n",
              "      <td>...</td>\n",
              "      <td>...</td>\n",
              "      <td>...</td>\n",
              "      <td>...</td>\n",
              "      <td>...</td>\n",
              "      <td>...</td>\n",
              "      <td>...</td>\n",
              "      <td>...</td>\n",
              "      <td>...</td>\n",
              "      <td>...</td>\n",
              "      <td>...</td>\n",
              "      <td>...</td>\n",
              "      <td>...</td>\n",
              "      <td>...</td>\n",
              "      <td>...</td>\n",
              "      <td>...</td>\n",
              "      <td>...</td>\n",
              "      <td>...</td>\n",
              "      <td>...</td>\n",
              "      <td>...</td>\n",
              "      <td>...</td>\n",
              "      <td>...</td>\n",
              "      <td>...</td>\n",
              "      <td>...</td>\n",
              "      <td>...</td>\n",
              "      <td>...</td>\n",
              "      <td>...</td>\n",
              "      <td>...</td>\n",
              "      <td>...</td>\n",
              "      <td>...</td>\n",
              "      <td>...</td>\n",
              "      <td>...</td>\n",
              "      <td>...</td>\n",
              "      <td>...</td>\n",
              "    </tr>\n",
              "    <tr>\n",
              "      <th>49995</th>\n",
              "      <td>0.194440</td>\n",
              "      <td>0.287269</td>\n",
              "      <td>0.343979</td>\n",
              "      <td>0.322764</td>\n",
              "      <td>0.287520</td>\n",
              "      <td>0.278844</td>\n",
              "      <td>0.328524</td>\n",
              "      <td>0.377580</td>\n",
              "      <td>0.370376</td>\n",
              "      <td>0.364423</td>\n",
              "      <td>0.373511</td>\n",
              "      <td>0.412692</td>\n",
              "      <td>0.395979</td>\n",
              "      <td>0.382598</td>\n",
              "      <td>0.368306</td>\n",
              "      <td>0.367725</td>\n",
              "      <td>0.340296</td>\n",
              "      <td>0.298280</td>\n",
              "      <td>0.355619</td>\n",
              "      <td>0.414230</td>\n",
              "      <td>0.416782</td>\n",
              "      <td>0.405164</td>\n",
              "      <td>0.421326</td>\n",
              "      <td>0.439727</td>\n",
              "      <td>0.418518</td>\n",
              "      <td>0.368997</td>\n",
              "      <td>0.333558</td>\n",
              "      <td>0.273334</td>\n",
              "      <td>0.240770</td>\n",
              "      <td>0.233837</td>\n",
              "      <td>0.214114</td>\n",
              "      <td>0.161159</td>\n",
              "      <td>0.314828</td>\n",
              "      <td>0.370298</td>\n",
              "      <td>0.344937</td>\n",
              "      <td>0.298645</td>\n",
              "      <td>0.292075</td>\n",
              "      <td>0.311156</td>\n",
              "      <td>0.346866</td>\n",
              "      <td>0.440562</td>\n",
              "      <td>...</td>\n",
              "      <td>-0.741457</td>\n",
              "      <td>-0.804789</td>\n",
              "      <td>-0.819106</td>\n",
              "      <td>-0.822960</td>\n",
              "      <td>-0.873266</td>\n",
              "      <td>-0.907188</td>\n",
              "      <td>-0.847207</td>\n",
              "      <td>-0.850825</td>\n",
              "      <td>-0.699959</td>\n",
              "      <td>-0.752307</td>\n",
              "      <td>-0.802724</td>\n",
              "      <td>-0.724590</td>\n",
              "      <td>-0.662551</td>\n",
              "      <td>-0.770931</td>\n",
              "      <td>-0.692006</td>\n",
              "      <td>-0.675136</td>\n",
              "      <td>-0.660269</td>\n",
              "      <td>-0.629525</td>\n",
              "      <td>-0.582252</td>\n",
              "      <td>-0.549446</td>\n",
              "      <td>-0.594353</td>\n",
              "      <td>-0.609760</td>\n",
              "      <td>-0.642244</td>\n",
              "      <td>-0.642190</td>\n",
              "      <td>-0.593285</td>\n",
              "      <td>-0.548609</td>\n",
              "      <td>-0.596548</td>\n",
              "      <td>-0.599132</td>\n",
              "      <td>-0.650429</td>\n",
              "      <td>-0.653327</td>\n",
              "      <td>-0.652619</td>\n",
              "      <td>-0.712986</td>\n",
              "      <td>-0.775487</td>\n",
              "      <td>-0.822749</td>\n",
              "      <td>-0.789691</td>\n",
              "      <td>-0.852707</td>\n",
              "      <td>-0.881486</td>\n",
              "      <td>-0.894194</td>\n",
              "      <td>-0.936588</td>\n",
              "      <td>-0.917044</td>\n",
              "    </tr>\n",
              "    <tr>\n",
              "      <th>49996</th>\n",
              "      <td>1.693632</td>\n",
              "      <td>1.709572</td>\n",
              "      <td>1.713887</td>\n",
              "      <td>1.698033</td>\n",
              "      <td>1.697185</td>\n",
              "      <td>1.691985</td>\n",
              "      <td>1.688710</td>\n",
              "      <td>1.667788</td>\n",
              "      <td>1.678269</td>\n",
              "      <td>1.673323</td>\n",
              "      <td>1.671031</td>\n",
              "      <td>1.668584</td>\n",
              "      <td>1.654137</td>\n",
              "      <td>1.672068</td>\n",
              "      <td>1.673698</td>\n",
              "      <td>1.673530</td>\n",
              "      <td>1.673585</td>\n",
              "      <td>1.672639</td>\n",
              "      <td>1.672632</td>\n",
              "      <td>1.687171</td>\n",
              "      <td>1.672105</td>\n",
              "      <td>1.659733</td>\n",
              "      <td>1.674100</td>\n",
              "      <td>1.635918</td>\n",
              "      <td>1.458374</td>\n",
              "      <td>1.169005</td>\n",
              "      <td>0.837833</td>\n",
              "      <td>0.524684</td>\n",
              "      <td>0.157437</td>\n",
              "      <td>-0.154039</td>\n",
              "      <td>-0.227211</td>\n",
              "      <td>-0.167498</td>\n",
              "      <td>1.704413</td>\n",
              "      <td>1.734280</td>\n",
              "      <td>1.742381</td>\n",
              "      <td>1.733350</td>\n",
              "      <td>1.721708</td>\n",
              "      <td>1.730908</td>\n",
              "      <td>1.743066</td>\n",
              "      <td>1.709659</td>\n",
              "      <td>...</td>\n",
              "      <td>-0.694276</td>\n",
              "      <td>-0.631956</td>\n",
              "      <td>-0.725104</td>\n",
              "      <td>-0.541348</td>\n",
              "      <td>-0.483323</td>\n",
              "      <td>-0.502829</td>\n",
              "      <td>-0.506918</td>\n",
              "      <td>-0.713346</td>\n",
              "      <td>-0.775131</td>\n",
              "      <td>-0.782954</td>\n",
              "      <td>-0.756493</td>\n",
              "      <td>-0.709111</td>\n",
              "      <td>-0.678080</td>\n",
              "      <td>-0.646420</td>\n",
              "      <td>-0.629636</td>\n",
              "      <td>-0.628322</td>\n",
              "      <td>-0.582066</td>\n",
              "      <td>-0.613868</td>\n",
              "      <td>-0.629279</td>\n",
              "      <td>-0.643617</td>\n",
              "      <td>-0.688555</td>\n",
              "      <td>-0.735361</td>\n",
              "      <td>-0.673665</td>\n",
              "      <td>-0.705015</td>\n",
              "      <td>-0.750292</td>\n",
              "      <td>-0.784299</td>\n",
              "      <td>-0.784972</td>\n",
              "      <td>-0.818599</td>\n",
              "      <td>-0.759968</td>\n",
              "      <td>-0.919195</td>\n",
              "      <td>-0.886558</td>\n",
              "      <td>-0.821937</td>\n",
              "      <td>-0.775487</td>\n",
              "      <td>-0.713917</td>\n",
              "      <td>-0.774180</td>\n",
              "      <td>-0.589040</td>\n",
              "      <td>-0.494792</td>\n",
              "      <td>-0.539209</td>\n",
              "      <td>-0.506582</td>\n",
              "      <td>-0.583596</td>\n",
              "    </tr>\n",
              "    <tr>\n",
              "      <th>49997</th>\n",
              "      <td>-1.304752</td>\n",
              "      <td>-1.245505</td>\n",
              "      <td>-1.233490</td>\n",
              "      <td>-1.288664</td>\n",
              "      <td>-1.247759</td>\n",
              "      <td>-1.232237</td>\n",
              "      <td>-1.199932</td>\n",
              "      <td>-1.165060</td>\n",
              "      <td>-1.148468</td>\n",
              "      <td>-1.113368</td>\n",
              "      <td>-1.093251</td>\n",
              "      <td>-1.083089</td>\n",
              "      <td>-1.102500</td>\n",
              "      <td>-1.062743</td>\n",
              "      <td>-1.036409</td>\n",
              "      <td>-0.994854</td>\n",
              "      <td>-0.936257</td>\n",
              "      <td>-0.934392</td>\n",
              "      <td>-0.961394</td>\n",
              "      <td>-0.505115</td>\n",
              "      <td>0.416782</td>\n",
              "      <td>0.997207</td>\n",
              "      <td>1.279969</td>\n",
              "      <td>1.481117</td>\n",
              "      <td>1.374062</td>\n",
              "      <td>1.421638</td>\n",
              "      <td>1.580238</td>\n",
              "      <td>1.320626</td>\n",
              "      <td>0.532436</td>\n",
              "      <td>-0.444945</td>\n",
              "      <td>-0.709910</td>\n",
              "      <td>-0.564625</td>\n",
              "      <td>-1.005965</td>\n",
              "      <td>-1.188539</td>\n",
              "      <td>-1.122378</td>\n",
              "      <td>-1.107930</td>\n",
              "      <td>-1.095094</td>\n",
              "      <td>-1.066003</td>\n",
              "      <td>-1.006593</td>\n",
              "      <td>-0.985390</td>\n",
              "      <td>...</td>\n",
              "      <td>-0.065184</td>\n",
              "      <td>-0.019184</td>\n",
              "      <td>-0.223761</td>\n",
              "      <td>-0.369252</td>\n",
              "      <td>-0.498921</td>\n",
              "      <td>-0.627247</td>\n",
              "      <td>-0.924546</td>\n",
              "      <td>-1.247987</td>\n",
              "      <td>-0.639821</td>\n",
              "      <td>-0.399865</td>\n",
              "      <td>-0.140077</td>\n",
              "      <td>-0.105431</td>\n",
              "      <td>-0.181134</td>\n",
              "      <td>-0.210630</td>\n",
              "      <td>-0.271003</td>\n",
              "      <td>-0.441065</td>\n",
              "      <td>-0.566426</td>\n",
              "      <td>-0.645182</td>\n",
              "      <td>-0.597928</td>\n",
              "      <td>-0.675007</td>\n",
              "      <td>-0.641454</td>\n",
              "      <td>-0.421358</td>\n",
              "      <td>-0.343746</td>\n",
              "      <td>-0.280947</td>\n",
              "      <td>-0.294972</td>\n",
              "      <td>-0.265781</td>\n",
              "      <td>-0.329615</td>\n",
              "      <td>-0.254257</td>\n",
              "      <td>-0.180976</td>\n",
              "      <td>-0.277983</td>\n",
              "      <td>-0.356297</td>\n",
              "      <td>-0.308310</td>\n",
              "      <td>-0.153712</td>\n",
              "      <td>-0.169756</td>\n",
              "      <td>-0.277846</td>\n",
              "      <td>-0.325374</td>\n",
              "      <td>-0.417453</td>\n",
              "      <td>-0.570078</td>\n",
              "      <td>-0.736942</td>\n",
              "      <td>-0.977671</td>\n",
              "    </tr>\n",
              "    <tr>\n",
              "      <th>49998</th>\n",
              "      <td>0.794117</td>\n",
              "      <td>0.770576</td>\n",
              "      <td>0.745265</td>\n",
              "      <td>0.725620</td>\n",
              "      <td>0.692275</td>\n",
              "      <td>0.670606</td>\n",
              "      <td>0.651043</td>\n",
              "      <td>0.644036</td>\n",
              "      <td>0.651643</td>\n",
              "      <td>0.631833</td>\n",
              "      <td>0.613270</td>\n",
              "      <td>0.624360</td>\n",
              "      <td>0.664575</td>\n",
              "      <td>0.694338</td>\n",
              "      <td>0.680465</td>\n",
              "      <td>0.679983</td>\n",
              "      <td>0.680710</td>\n",
              "      <td>0.680834</td>\n",
              "      <td>0.695493</td>\n",
              "      <td>0.711250</td>\n",
              "      <td>0.741191</td>\n",
              "      <td>0.729378</td>\n",
              "      <td>0.731001</td>\n",
              "      <td>0.721183</td>\n",
              "      <td>0.727664</td>\n",
              "      <td>0.705843</td>\n",
              "      <td>0.669742</td>\n",
              "      <td>0.608468</td>\n",
              "      <td>0.587991</td>\n",
              "      <td>0.607860</td>\n",
              "      <td>0.572691</td>\n",
              "      <td>0.530898</td>\n",
              "      <td>0.878917</td>\n",
              "      <td>0.857434</td>\n",
              "      <td>0.834043</td>\n",
              "      <td>0.819077</td>\n",
              "      <td>0.801647</td>\n",
              "      <td>0.779675</td>\n",
              "      <td>0.774274</td>\n",
              "      <td>0.768531</td>\n",
              "      <td>...</td>\n",
              "      <td>0.500998</td>\n",
              "      <td>0.640725</td>\n",
              "      <td>0.731925</td>\n",
              "      <td>0.788487</td>\n",
              "      <td>0.780094</td>\n",
              "      <td>0.741350</td>\n",
              "      <td>0.668628</td>\n",
              "      <td>0.615620</td>\n",
              "      <td>0.863631</td>\n",
              "      <td>0.734078</td>\n",
              "      <td>0.537981</td>\n",
              "      <td>0.204148</td>\n",
              "      <td>-0.072427</td>\n",
              "      <td>-0.288449</td>\n",
              "      <td>-0.489301</td>\n",
              "      <td>-0.659531</td>\n",
              "      <td>-0.722832</td>\n",
              "      <td>-0.786091</td>\n",
              "      <td>-0.880094</td>\n",
              "      <td>-0.973217</td>\n",
              "      <td>-1.049663</td>\n",
              "      <td>-1.017963</td>\n",
              "      <td>-0.940742</td>\n",
              "      <td>-0.830665</td>\n",
              "      <td>-0.797394</td>\n",
              "      <td>-0.658598</td>\n",
              "      <td>-0.392422</td>\n",
              "      <td>-0.160200</td>\n",
              "      <td>0.257180</td>\n",
              "      <td>0.550901</td>\n",
              "      <td>0.719820</td>\n",
              "      <td>0.812330</td>\n",
              "      <td>0.887761</td>\n",
              "      <td>0.887470</td>\n",
              "      <td>0.900946</td>\n",
              "      <td>0.853371</td>\n",
              "      <td>0.789034</td>\n",
              "      <td>0.849863</td>\n",
              "      <td>0.875582</td>\n",
              "      <td>0.856290</td>\n",
              "    </tr>\n",
              "    <tr>\n",
              "      <th>49999</th>\n",
              "      <td>1.339278</td>\n",
              "      <td>1.461014</td>\n",
              "      <td>1.423301</td>\n",
              "      <td>1.378526</td>\n",
              "      <td>1.445958</td>\n",
              "      <td>1.524087</td>\n",
              "      <td>1.576530</td>\n",
              "      <td>1.569620</td>\n",
              "      <td>1.509509</td>\n",
              "      <td>1.419988</td>\n",
              "      <td>1.360755</td>\n",
              "      <td>1.358139</td>\n",
              "      <td>1.371405</td>\n",
              "      <td>1.360328</td>\n",
              "      <td>1.290594</td>\n",
              "      <td>1.190950</td>\n",
              "      <td>1.106228</td>\n",
              "      <td>1.049219</td>\n",
              "      <td>1.021206</td>\n",
              "      <td>1.022413</td>\n",
              "      <td>1.051496</td>\n",
              "      <td>1.081785</td>\n",
              "      <td>1.082903</td>\n",
              "      <td>1.101150</td>\n",
              "      <td>1.135176</td>\n",
              "      <td>1.154969</td>\n",
              "      <td>1.216040</td>\n",
              "      <td>1.180987</td>\n",
              "      <td>1.143544</td>\n",
              "      <td>1.189673</td>\n",
              "      <td>1.248470</td>\n",
              "      <td>1.256682</td>\n",
              "      <td>1.264149</td>\n",
              "      <td>1.525508</td>\n",
              "      <td>1.434944</td>\n",
              "      <td>1.423904</td>\n",
              "      <td>1.452767</td>\n",
              "      <td>1.532143</td>\n",
              "      <td>1.586350</td>\n",
              "      <td>1.581323</td>\n",
              "      <td>...</td>\n",
              "      <td>0.972816</td>\n",
              "      <td>0.986391</td>\n",
              "      <td>1.013930</td>\n",
              "      <td>1.023163</td>\n",
              "      <td>0.904875</td>\n",
              "      <td>1.021290</td>\n",
              "      <td>1.318272</td>\n",
              "      <td>1.425220</td>\n",
              "      <td>-0.023405</td>\n",
              "      <td>-0.062747</td>\n",
              "      <td>-0.047614</td>\n",
              "      <td>-0.058994</td>\n",
              "      <td>-0.087957</td>\n",
              "      <td>-0.039427</td>\n",
              "      <td>-0.099483</td>\n",
              "      <td>-0.191389</td>\n",
              "      <td>-0.331816</td>\n",
              "      <td>-0.535585</td>\n",
              "      <td>-0.597928</td>\n",
              "      <td>-0.784874</td>\n",
              "      <td>-0.688555</td>\n",
              "      <td>-0.311457</td>\n",
              "      <td>-0.328035</td>\n",
              "      <td>-0.328066</td>\n",
              "      <td>-0.122264</td>\n",
              "      <td>0.032759</td>\n",
              "      <td>-0.046979</td>\n",
              "      <td>0.090619</td>\n",
              "      <td>0.178938</td>\n",
              "      <td>0.269393</td>\n",
              "      <td>0.345518</td>\n",
              "      <td>0.423219</td>\n",
              "      <td>0.514696</td>\n",
              "      <td>0.685353</td>\n",
              "      <td>0.838905</td>\n",
              "      <td>0.884391</td>\n",
              "      <td>0.928244</td>\n",
              "      <td>0.911599</td>\n",
              "      <td>0.737365</td>\n",
              "      <td>0.704723</td>\n",
              "    </tr>\n",
              "  </tbody>\n",
              "</table>\n",
              "<p>50000 rows × 3072 columns</p>\n",
              "</div>"
            ],
            "text/plain": [
              "           0         1         2     ...      3069      3070      3071\n",
              "0      0.644198  0.660106  0.648403  ... -0.523775 -0.521939 -0.568440\n",
              "1     -1.386526 -1.494063 -1.468727  ... -1.310916 -1.274450 -1.280805\n",
              "2     -1.291123 -1.342167 -1.524077  ...  0.911599  0.860224  0.841134\n",
              "3     -1.372897 -1.176461 -1.205815  ... -0.122488 -0.230149  0.492529\n",
              "4     -1.304752 -0.693154 -0.583130  ... -0.107054 -0.061218 -0.341089\n",
              "...         ...       ...       ...  ...       ...       ...       ...\n",
              "49995  0.194440  0.287269  0.343979  ... -0.894194 -0.936588 -0.917044\n",
              "49996  1.693632  1.709572  1.713887  ... -0.539209 -0.506582 -0.583596\n",
              "49997 -1.304752 -1.245505 -1.233490  ... -0.570078 -0.736942 -0.977671\n",
              "49998  0.794117  0.770576  0.745265  ...  0.849863  0.875582  0.856290\n",
              "49999  1.339278  1.461014  1.423301  ...  0.911599  0.737365  0.704723\n",
              "\n",
              "[50000 rows x 3072 columns]"
            ]
          },
          "metadata": {
            "tags": []
          },
          "execution_count": 21
        }
      ]
    },
    {
      "cell_type": "code",
      "metadata": {
        "id": "Y3wmDXtVdmJ-"
      },
      "source": [
        "#mixing the train and test data for applying lda"
      ],
      "execution_count": null,
      "outputs": []
    },
    {
      "cell_type": "code",
      "metadata": {
        "id": "D3KCJJ0Eq8hD"
      },
      "source": [
        "xtes = pd.DataFrame(x_test)"
      ],
      "execution_count": null,
      "outputs": []
    },
    {
      "cell_type": "code",
      "metadata": {
        "id": "YiTRbRevcXdg"
      },
      "source": [
        "df = pd.concat([df,xtes])"
      ],
      "execution_count": null,
      "outputs": []
    },
    {
      "cell_type": "code",
      "metadata": {
        "colab": {
          "base_uri": "https://localhost:8080/"
        },
        "id": "ZYiSKVKIb675",
        "outputId": "20b2328a-a45f-44d2-c90c-3c3c62b39199"
      },
      "source": [
        "df.shape"
      ],
      "execution_count": null,
      "outputs": [
        {
          "output_type": "execute_result",
          "data": {
            "text/plain": [
              "(60000, 3072)"
            ]
          },
          "metadata": {
            "tags": []
          },
          "execution_count": 24
        }
      ]
    },
    {
      "cell_type": "code",
      "metadata": {
        "id": "74aFFLRQsgJh"
      },
      "source": [
        "dfy = pd.DataFrame(y_train)\n",
        "dfy1 = pd.DataFrame(y_test)\n",
        "dfy = pd.concat([dfy,dfy1])"
      ],
      "execution_count": null,
      "outputs": []
    },
    {
      "cell_type": "code",
      "metadata": {
        "colab": {
          "base_uri": "https://localhost:8080/"
        },
        "id": "tpvga4MQbD6x",
        "outputId": "9721008a-7a61-4fe2-9f8c-ad9eb101bdf7"
      },
      "source": [
        "dfy.shape"
      ],
      "execution_count": null,
      "outputs": [
        {
          "output_type": "execute_result",
          "data": {
            "text/plain": [
              "(60000, 1)"
            ]
          },
          "metadata": {
            "tags": []
          },
          "execution_count": 26
        }
      ]
    },
    {
      "cell_type": "code",
      "metadata": {
        "id": "1ieMXULVqdMx"
      },
      "source": [
        "df.insert(loc=0, column='target', value=dfy.values)"
      ],
      "execution_count": null,
      "outputs": []
    },
    {
      "cell_type": "code",
      "metadata": {
        "colab": {
          "base_uri": "https://localhost:8080/",
          "height": 244
        },
        "id": "TG_bcGdgto-t",
        "outputId": "ed47ede5-e875-497f-8f6d-cff56a4e56bc"
      },
      "source": [
        "df.head()"
      ],
      "execution_count": null,
      "outputs": [
        {
          "output_type": "execute_result",
          "data": {
            "text/html": [
              "<div>\n",
              "<style scoped>\n",
              "    .dataframe tbody tr th:only-of-type {\n",
              "        vertical-align: middle;\n",
              "    }\n",
              "\n",
              "    .dataframe tbody tr th {\n",
              "        vertical-align: top;\n",
              "    }\n",
              "\n",
              "    .dataframe thead th {\n",
              "        text-align: right;\n",
              "    }\n",
              "</style>\n",
              "<table border=\"1\" class=\"dataframe\">\n",
              "  <thead>\n",
              "    <tr style=\"text-align: right;\">\n",
              "      <th></th>\n",
              "      <th>target</th>\n",
              "      <th>0</th>\n",
              "      <th>1</th>\n",
              "      <th>2</th>\n",
              "      <th>3</th>\n",
              "      <th>4</th>\n",
              "      <th>5</th>\n",
              "      <th>6</th>\n",
              "      <th>7</th>\n",
              "      <th>8</th>\n",
              "      <th>9</th>\n",
              "      <th>10</th>\n",
              "      <th>11</th>\n",
              "      <th>12</th>\n",
              "      <th>13</th>\n",
              "      <th>14</th>\n",
              "      <th>15</th>\n",
              "      <th>16</th>\n",
              "      <th>17</th>\n",
              "      <th>18</th>\n",
              "      <th>19</th>\n",
              "      <th>20</th>\n",
              "      <th>21</th>\n",
              "      <th>22</th>\n",
              "      <th>23</th>\n",
              "      <th>24</th>\n",
              "      <th>25</th>\n",
              "      <th>26</th>\n",
              "      <th>27</th>\n",
              "      <th>28</th>\n",
              "      <th>29</th>\n",
              "      <th>30</th>\n",
              "      <th>31</th>\n",
              "      <th>32</th>\n",
              "      <th>33</th>\n",
              "      <th>34</th>\n",
              "      <th>35</th>\n",
              "      <th>36</th>\n",
              "      <th>37</th>\n",
              "      <th>38</th>\n",
              "      <th>...</th>\n",
              "      <th>3032</th>\n",
              "      <th>3033</th>\n",
              "      <th>3034</th>\n",
              "      <th>3035</th>\n",
              "      <th>3036</th>\n",
              "      <th>3037</th>\n",
              "      <th>3038</th>\n",
              "      <th>3039</th>\n",
              "      <th>3040</th>\n",
              "      <th>3041</th>\n",
              "      <th>3042</th>\n",
              "      <th>3043</th>\n",
              "      <th>3044</th>\n",
              "      <th>3045</th>\n",
              "      <th>3046</th>\n",
              "      <th>3047</th>\n",
              "      <th>3048</th>\n",
              "      <th>3049</th>\n",
              "      <th>3050</th>\n",
              "      <th>3051</th>\n",
              "      <th>3052</th>\n",
              "      <th>3053</th>\n",
              "      <th>3054</th>\n",
              "      <th>3055</th>\n",
              "      <th>3056</th>\n",
              "      <th>3057</th>\n",
              "      <th>3058</th>\n",
              "      <th>3059</th>\n",
              "      <th>3060</th>\n",
              "      <th>3061</th>\n",
              "      <th>3062</th>\n",
              "      <th>3063</th>\n",
              "      <th>3064</th>\n",
              "      <th>3065</th>\n",
              "      <th>3066</th>\n",
              "      <th>3067</th>\n",
              "      <th>3068</th>\n",
              "      <th>3069</th>\n",
              "      <th>3070</th>\n",
              "      <th>3071</th>\n",
              "    </tr>\n",
              "  </thead>\n",
              "  <tbody>\n",
              "    <tr>\n",
              "      <th>0</th>\n",
              "      <td>0</td>\n",
              "      <td>0.644198</td>\n",
              "      <td>0.660106</td>\n",
              "      <td>0.648403</td>\n",
              "      <td>0.642271</td>\n",
              "      <td>0.650404</td>\n",
              "      <td>0.642623</td>\n",
              "      <td>0.637020</td>\n",
              "      <td>0.644036</td>\n",
              "      <td>0.637580</td>\n",
              "      <td>0.631833</td>\n",
              "      <td>0.627374</td>\n",
              "      <td>0.624360</td>\n",
              "      <td>0.622165</td>\n",
              "      <td>0.623488</td>\n",
              "      <td>0.623709</td>\n",
              "      <td>0.623209</td>\n",
              "      <td>0.623974</td>\n",
              "      <td>0.609990</td>\n",
              "      <td>0.610524</td>\n",
              "      <td>0.612243</td>\n",
              "      <td>0.600144</td>\n",
              "      <td>0.602512</td>\n",
              "      <td>0.590240</td>\n",
              "      <td>0.594528</td>\n",
              "      <td>0.601195</td>\n",
              "      <td>0.593561</td>\n",
              "      <td>0.585696</td>\n",
              "      <td>0.580540</td>\n",
              "      <td>0.560213</td>\n",
              "      <td>0.538596</td>\n",
              "      <td>0.517525</td>\n",
              "      <td>0.476122</td>\n",
              "      <td>0.686302</td>\n",
              "      <td>0.690416</td>\n",
              "      <td>0.694298</td>\n",
              "      <td>0.692485</td>\n",
              "      <td>0.688409</td>\n",
              "      <td>0.694489</td>\n",
              "      <td>0.688793</td>\n",
              "      <td>...</td>\n",
              "      <td>-0.206730</td>\n",
              "      <td>-0.160593</td>\n",
              "      <td>-0.114092</td>\n",
              "      <td>-0.228446</td>\n",
              "      <td>-0.296150</td>\n",
              "      <td>-0.300650</td>\n",
              "      <td>-0.336773</td>\n",
              "      <td>-0.346735</td>\n",
              "      <td>-0.354165</td>\n",
              "      <td>-0.369218</td>\n",
              "      <td>-0.309591</td>\n",
              "      <td>-0.399532</td>\n",
              "      <td>-0.398548</td>\n",
              "      <td>-0.397397</td>\n",
              "      <td>-0.380152</td>\n",
              "      <td>-0.331832</td>\n",
              "      <td>-0.347457</td>\n",
              "      <td>-0.410332</td>\n",
              "      <td>-0.347114</td>\n",
              "      <td>-0.392493</td>\n",
              "      <td>-0.421649</td>\n",
              "      <td>-0.499859</td>\n",
              "      <td>-0.406588</td>\n",
              "      <td>-0.343772</td>\n",
              "      <td>-0.389176</td>\n",
              "      <td>-0.391483</td>\n",
              "      <td>-0.392422</td>\n",
              "      <td>-0.411019</td>\n",
              "      <td>-0.415703</td>\n",
              "      <td>-0.465655</td>\n",
              "      <td>-0.449873</td>\n",
              "      <td>-0.479519</td>\n",
              "      <td>-0.433511</td>\n",
              "      <td>-0.434063</td>\n",
              "      <td>-0.463972</td>\n",
              "      <td>-0.495981</td>\n",
              "      <td>-0.525727</td>\n",
              "      <td>-0.523775</td>\n",
              "      <td>-0.521939</td>\n",
              "      <td>-0.568440</td>\n",
              "    </tr>\n",
              "    <tr>\n",
              "      <th>1</th>\n",
              "      <td>6</td>\n",
              "      <td>-1.386526</td>\n",
              "      <td>-1.494063</td>\n",
              "      <td>-1.468727</td>\n",
              "      <td>-1.497038</td>\n",
              "      <td>-1.457115</td>\n",
              "      <td>-1.260220</td>\n",
              "      <td>-0.554895</td>\n",
              "      <td>0.069052</td>\n",
              "      <td>-0.023398</td>\n",
              "      <td>-0.029655</td>\n",
              "      <td>0.105545</td>\n",
              "      <td>0.003469</td>\n",
              "      <td>-0.098802</td>\n",
              "      <td>-0.368413</td>\n",
              "      <td>-0.880329</td>\n",
              "      <td>-1.023241</td>\n",
              "      <td>-0.340532</td>\n",
              "      <td>0.624159</td>\n",
              "      <td>0.936237</td>\n",
              "      <td>0.895119</td>\n",
              "      <td>0.712982</td>\n",
              "      <td>0.969015</td>\n",
              "      <td>1.012523</td>\n",
              "      <td>1.044859</td>\n",
              "      <td>1.008707</td>\n",
              "      <td>0.986547</td>\n",
              "      <td>0.949894</td>\n",
              "      <td>0.957565</td>\n",
              "      <td>0.921323</td>\n",
              "      <td>0.912619</td>\n",
              "      <td>0.931268</td>\n",
              "      <td>0.941719</td>\n",
              "      <td>-1.363680</td>\n",
              "      <td>-1.425149</td>\n",
              "      <td>-1.583535</td>\n",
              "      <td>-1.586165</td>\n",
              "      <td>-1.477273</td>\n",
              "      <td>-1.179583</td>\n",
              "      <td>-0.550691</td>\n",
              "      <td>...</td>\n",
              "      <td>-1.402003</td>\n",
              "      <td>-1.354713</td>\n",
              "      <td>-1.336117</td>\n",
              "      <td>-1.276668</td>\n",
              "      <td>-1.216417</td>\n",
              "      <td>-1.233785</td>\n",
              "      <td>-1.187497</td>\n",
              "      <td>-1.202161</td>\n",
              "      <td>-1.391546</td>\n",
              "      <td>-1.166043</td>\n",
              "      <td>-1.095522</td>\n",
              "      <td>-1.096085</td>\n",
              "      <td>-0.879964</td>\n",
              "      <td>-1.082210</td>\n",
              "      <td>-1.580791</td>\n",
              "      <td>-1.408558</td>\n",
              "      <td>-1.035644</td>\n",
              "      <td>-0.989627</td>\n",
              "      <td>-1.366046</td>\n",
              "      <td>-1.506855</td>\n",
              "      <td>-1.457872</td>\n",
              "      <td>-1.536067</td>\n",
              "      <td>-1.710553</td>\n",
              "      <td>-1.725920</td>\n",
              "      <td>-1.692334</td>\n",
              "      <td>-1.695634</td>\n",
              "      <td>-1.585773</td>\n",
              "      <td>-1.524026</td>\n",
              "      <td>-1.495444</td>\n",
              "      <td>-1.529129</td>\n",
              "      <td>-1.541586</td>\n",
              "      <td>-1.506773</td>\n",
              "      <td>-1.506073</td>\n",
              "      <td>-1.444647</td>\n",
              "      <td>-1.394597</td>\n",
              "      <td>-1.364530</td>\n",
              "      <td>-1.314584</td>\n",
              "      <td>-1.310916</td>\n",
              "      <td>-1.274450</td>\n",
              "      <td>-1.280805</td>\n",
              "    </tr>\n",
              "    <tr>\n",
              "      <th>2</th>\n",
              "      <td>0</td>\n",
              "      <td>-1.291123</td>\n",
              "      <td>-1.342167</td>\n",
              "      <td>-1.524077</td>\n",
              "      <td>-1.552604</td>\n",
              "      <td>-1.122145</td>\n",
              "      <td>-1.106314</td>\n",
              "      <td>-1.606585</td>\n",
              "      <td>-1.571756</td>\n",
              "      <td>-1.626622</td>\n",
              "      <td>-1.620040</td>\n",
              "      <td>-1.586873</td>\n",
              "      <td>-1.576979</td>\n",
              "      <td>-1.526598</td>\n",
              "      <td>-1.530353</td>\n",
              "      <td>-1.561404</td>\n",
              "      <td>-1.505821</td>\n",
              "      <td>-1.517798</td>\n",
              "      <td>-1.529476</td>\n",
              "      <td>-1.513690</td>\n",
              "      <td>-1.537612</td>\n",
              "      <td>-1.501465</td>\n",
              "      <td>-1.427353</td>\n",
              "      <td>-1.464873</td>\n",
              "      <td>-1.460108</td>\n",
              "      <td>-1.492570</td>\n",
              "      <td>-1.567862</td>\n",
              "      <td>-1.571481</td>\n",
              "      <td>-1.555935</td>\n",
              "      <td>-1.509223</td>\n",
              "      <td>-1.456192</td>\n",
              "      <td>-1.440855</td>\n",
              "      <td>-1.386266</td>\n",
              "      <td>-1.033481</td>\n",
              "      <td>-1.146785</td>\n",
              "      <td>-1.611484</td>\n",
              "      <td>-1.347047</td>\n",
              "      <td>-0.585521</td>\n",
              "      <td>-0.483905</td>\n",
              "      <td>-1.661952</td>\n",
              "      <td>...</td>\n",
              "      <td>1.130089</td>\n",
              "      <td>1.096376</td>\n",
              "      <td>1.060931</td>\n",
              "      <td>1.023163</td>\n",
              "      <td>0.982864</td>\n",
              "      <td>0.959081</td>\n",
              "      <td>0.900644</td>\n",
              "      <td>0.875303</td>\n",
              "      <td>0.758389</td>\n",
              "      <td>0.810695</td>\n",
              "      <td>0.830779</td>\n",
              "      <td>0.823307</td>\n",
              "      <td>0.843817</td>\n",
              "      <td>0.878845</td>\n",
              "      <td>0.914043</td>\n",
              "      <td>0.963360</td>\n",
              "      <td>0.997635</td>\n",
              "      <td>1.030078</td>\n",
              "      <td>1.048040</td>\n",
              "      <td>1.082860</td>\n",
              "      <td>1.148386</td>\n",
              "      <td>1.164355</td>\n",
              "      <td>1.164456</td>\n",
              "      <td>1.164026</td>\n",
              "      <td>1.180893</td>\n",
              "      <td>1.211209</td>\n",
              "      <td>1.193478</td>\n",
              "      <td>1.172273</td>\n",
              "      <td>1.133492</td>\n",
              "      <td>1.113916</td>\n",
              "      <td>1.109717</td>\n",
              "      <td>1.076926</td>\n",
              "      <td>1.043205</td>\n",
              "      <td>1.042945</td>\n",
              "      <td>1.025030</td>\n",
              "      <td>0.977450</td>\n",
              "      <td>0.943712</td>\n",
              "      <td>0.911599</td>\n",
              "      <td>0.860224</td>\n",
              "      <td>0.841134</td>\n",
              "    </tr>\n",
              "    <tr>\n",
              "      <th>3</th>\n",
              "      <td>2</td>\n",
              "      <td>-1.372897</td>\n",
              "      <td>-1.176461</td>\n",
              "      <td>-1.205815</td>\n",
              "      <td>-1.135856</td>\n",
              "      <td>-0.856961</td>\n",
              "      <td>-0.966399</td>\n",
              "      <td>-1.466360</td>\n",
              "      <td>-0.954700</td>\n",
              "      <td>-0.670313</td>\n",
              "      <td>-0.677068</td>\n",
              "      <td>-1.135562</td>\n",
              "      <td>-1.816869</td>\n",
              "      <td>-1.823467</td>\n",
              "      <td>-1.856263</td>\n",
              "      <td>-1.901941</td>\n",
              "      <td>-1.903240</td>\n",
              "      <td>-1.914948</td>\n",
              "      <td>-1.883692</td>\n",
              "      <td>-1.853564</td>\n",
              "      <td>-1.848775</td>\n",
              "      <td>-1.854084</td>\n",
              "      <td>-1.850242</td>\n",
              "      <td>-1.830852</td>\n",
              "      <td>-1.840074</td>\n",
              "      <td>-1.857925</td>\n",
              "      <td>-1.876636</td>\n",
              "      <td>-1.865641</td>\n",
              "      <td>-1.849177</td>\n",
              "      <td>-1.814777</td>\n",
              "      <td>-1.816363</td>\n",
              "      <td>-1.220192</td>\n",
              "      <td>0.448734</td>\n",
              "      <td>-1.322405</td>\n",
              "      <td>-0.743157</td>\n",
              "      <td>-1.010583</td>\n",
              "      <td>-0.742220</td>\n",
              "      <td>-0.458128</td>\n",
              "      <td>-0.867238</td>\n",
              "      <td>-1.476742</td>\n",
              "      <td>...</td>\n",
              "      <td>-0.678548</td>\n",
              "      <td>-0.710517</td>\n",
              "      <td>-0.396098</td>\n",
              "      <td>-0.431832</td>\n",
              "      <td>-0.140173</td>\n",
              "      <td>0.025947</td>\n",
              "      <td>-0.259434</td>\n",
              "      <td>-0.087052</td>\n",
              "      <td>0.472734</td>\n",
              "      <td>-0.093394</td>\n",
              "      <td>-0.093845</td>\n",
              "      <td>-0.198305</td>\n",
              "      <td>-0.181134</td>\n",
              "      <td>-0.148374</td>\n",
              "      <td>-0.224225</td>\n",
              "      <td>-0.206994</td>\n",
              "      <td>-0.159770</td>\n",
              "      <td>-0.128513</td>\n",
              "      <td>-0.111975</td>\n",
              "      <td>-0.141369</td>\n",
              "      <td>-0.170443</td>\n",
              "      <td>-0.154456</td>\n",
              "      <td>-0.155221</td>\n",
              "      <td>-0.061060</td>\n",
              "      <td>-0.028060</td>\n",
              "      <td>-0.014379</td>\n",
              "      <td>-0.062681</td>\n",
              "      <td>-0.160200</td>\n",
              "      <td>-0.149679</td>\n",
              "      <td>-0.168508</td>\n",
              "      <td>-0.169147</td>\n",
              "      <td>-0.246052</td>\n",
              "      <td>-0.215890</td>\n",
              "      <td>-0.107566</td>\n",
              "      <td>-0.076211</td>\n",
              "      <td>-0.154766</td>\n",
              "      <td>-0.108097</td>\n",
              "      <td>-0.122488</td>\n",
              "      <td>-0.230149</td>\n",
              "      <td>0.492529</td>\n",
              "    </tr>\n",
              "    <tr>\n",
              "      <th>4</th>\n",
              "      <td>7</td>\n",
              "      <td>-1.304752</td>\n",
              "      <td>-0.693154</td>\n",
              "      <td>-0.583130</td>\n",
              "      <td>-1.108073</td>\n",
              "      <td>-1.191931</td>\n",
              "      <td>-1.316186</td>\n",
              "      <td>-1.171887</td>\n",
              "      <td>-0.772388</td>\n",
              "      <td>-0.009335</td>\n",
              "      <td>-0.001507</td>\n",
              "      <td>-0.402181</td>\n",
              "      <td>-0.687977</td>\n",
              "      <td>-0.749085</td>\n",
              "      <td>-0.580963</td>\n",
              "      <td>0.581142</td>\n",
              "      <td>1.190950</td>\n",
              "      <td>1.063676</td>\n",
              "      <td>0.411629</td>\n",
              "      <td>-0.225000</td>\n",
              "      <td>0.371799</td>\n",
              "      <td>0.346258</td>\n",
              "      <td>0.109142</td>\n",
              "      <td>0.407250</td>\n",
              "      <td>0.847839</td>\n",
              "      <td>0.868185</td>\n",
              "      <td>0.804089</td>\n",
              "      <td>0.739780</td>\n",
              "      <td>0.650359</td>\n",
              "      <td>0.504658</td>\n",
              "      <td>0.344658</td>\n",
              "      <td>0.089992</td>\n",
              "      <td>0.311793</td>\n",
              "      <td>-1.377438</td>\n",
              "      <td>-0.924094</td>\n",
              "      <td>-0.619299</td>\n",
              "      <td>-0.756286</td>\n",
              "      <td>-1.066784</td>\n",
              "      <td>-1.435138</td>\n",
              "      <td>-1.191803</td>\n",
              "      <td>...</td>\n",
              "      <td>0.029179</td>\n",
              "      <td>-0.034896</td>\n",
              "      <td>0.042578</td>\n",
              "      <td>0.053166</td>\n",
              "      <td>0.031402</td>\n",
              "      <td>0.134812</td>\n",
              "      <td>-0.151160</td>\n",
              "      <td>-0.591142</td>\n",
              "      <td>0.322388</td>\n",
              "      <td>0.427607</td>\n",
              "      <td>0.615033</td>\n",
              "      <td>0.653038</td>\n",
              "      <td>0.766169</td>\n",
              "      <td>0.801026</td>\n",
              "      <td>1.007599</td>\n",
              "      <td>1.041384</td>\n",
              "      <td>0.809948</td>\n",
              "      <td>0.497752</td>\n",
              "      <td>0.201542</td>\n",
              "      <td>0.094059</td>\n",
              "      <td>0.159264</td>\n",
              "      <td>0.159547</td>\n",
              "      <td>0.253251</td>\n",
              "      <td>0.237359</td>\n",
              "      <td>0.238851</td>\n",
              "      <td>0.331300</td>\n",
              "      <td>0.486889</td>\n",
              "      <td>0.545227</td>\n",
              "      <td>0.444961</td>\n",
              "      <td>0.644737</td>\n",
              "      <td>1.016142</td>\n",
              "      <td>0.501041</td>\n",
              "      <td>-0.091535</td>\n",
              "      <td>-0.449610</td>\n",
              "      <td>-0.510503</td>\n",
              "      <td>-0.232315</td>\n",
              "      <td>-0.154500</td>\n",
              "      <td>-0.107054</td>\n",
              "      <td>-0.061218</td>\n",
              "      <td>-0.341089</td>\n",
              "    </tr>\n",
              "  </tbody>\n",
              "</table>\n",
              "<p>5 rows × 3073 columns</p>\n",
              "</div>"
            ],
            "text/plain": [
              "   target         0         1         2  ...      3068      3069      3070      3071\n",
              "0       0  0.644198  0.660106  0.648403  ... -0.525727 -0.523775 -0.521939 -0.568440\n",
              "1       6 -1.386526 -1.494063 -1.468727  ... -1.314584 -1.310916 -1.274450 -1.280805\n",
              "2       0 -1.291123 -1.342167 -1.524077  ...  0.943712  0.911599  0.860224  0.841134\n",
              "3       2 -1.372897 -1.176461 -1.205815  ... -0.108097 -0.122488 -0.230149  0.492529\n",
              "4       7 -1.304752 -0.693154 -0.583130  ... -0.154500 -0.107054 -0.061218 -0.341089\n",
              "\n",
              "[5 rows x 3073 columns]"
            ]
          },
          "metadata": {
            "tags": []
          },
          "execution_count": 28
        }
      ]
    },
    {
      "cell_type": "code",
      "metadata": {
        "colab": {
          "base_uri": "https://localhost:8080/"
        },
        "id": "o2mcd_yMHWIt",
        "outputId": "37cda251-5a79-4210-a426-6bfd783350ac"
      },
      "source": [
        "df.shape"
      ],
      "execution_count": null,
      "outputs": [
        {
          "output_type": "execute_result",
          "data": {
            "text/plain": [
              "(60000, 3073)"
            ]
          },
          "metadata": {
            "tags": []
          },
          "execution_count": 29
        }
      ]
    },
    {
      "cell_type": "code",
      "metadata": {
        "id": "OtuRn7-2ttZu"
      },
      "source": [
        "#separating the input features and target variable\n",
        "x = df.iloc[:,1:]\n",
        "y = df.iloc[:,0]"
      ],
      "execution_count": null,
      "outputs": []
    },
    {
      "cell_type": "code",
      "metadata": {
        "id": "g4ZeNo3vd0sB"
      },
      "source": [
        "#performing lda and plotting data variance vs no of components"
      ],
      "execution_count": null,
      "outputs": []
    },
    {
      "cell_type": "code",
      "metadata": {
        "id": "MfuHYJSDpYoc"
      },
      "source": [
        "from sklearn.discriminant_analysis import LinearDiscriminantAnalysis\n",
        "ld = LinearDiscriminantAnalysis().fit(x,y)"
      ],
      "execution_count": null,
      "outputs": []
    },
    {
      "cell_type": "code",
      "metadata": {
        "colab": {
          "base_uri": "https://localhost:8080/",
          "height": 296
        },
        "id": "Yn39ZgiAuYId",
        "outputId": "19cee16a-b2a0-422b-a9dd-460224f84caf"
      },
      "source": [
        "plt.plot(np.cumsum(ld.explained_variance_ratio_))\n",
        "plt.xlabel('number of components')\n",
        "plt.ylabel('cumulative explained variance')"
      ],
      "execution_count": null,
      "outputs": [
        {
          "output_type": "execute_result",
          "data": {
            "text/plain": [
              "Text(0, 0.5, 'cumulative explained variance')"
            ]
          },
          "metadata": {
            "tags": []
          },
          "execution_count": 35
        },
        {
          "output_type": "display_data",
          "data": {
            "image/png": "[encoded data removed]",
            "text/plain": [
              "<Figure size 432x288 with 1 Axes>"
            ]
          },
          "metadata": {
            "tags": []
          }
        }
      ]
    },
    {
      "cell_type": "code",
      "metadata": {
        "colab": {
          "base_uri": "https://localhost:8080/"
        },
        "id": "RrUNy9CGv1i5",
        "outputId": "eaa7f136-88d2-4f2a-cca5-80d44ba20453"
      },
      "source": [
        "# for n_components=9 data variance is close to 100. so applying lda with n_components=9\n",
        "from sklearn.discriminant_analysis import LinearDiscriminantAnalysis\n",
        "lda = LinearDiscriminantAnalysis(n_components=9)\n",
        "lda_ = lda.fit(x,y).transform(x)\n",
        "lda.explained_variance_ratio_"
      ],
      "execution_count": null,
      "outputs": [
        {
          "output_type": "execute_result",
          "data": {
            "text/plain": [
              "array([0.36044378, 0.17425083, 0.12578797, 0.08673385, 0.07316719,\n",
              "       0.05717146, 0.04931047, 0.03989756, 0.03323689])"
            ]
          },
          "metadata": {
            "tags": []
          },
          "execution_count": 31
        }
      ]
    },
    {
      "cell_type": "code",
      "metadata": {
        "id": "6yK-lKB05-sh"
      },
      "source": [
        "x = pd.DataFrame(lda_)"
      ],
      "execution_count": null,
      "outputs": []
    },
    {
      "cell_type": "code",
      "metadata": {
        "colab": {
          "base_uri": "https://localhost:8080/",
          "height": 195
        },
        "id": "gponi6vT6OYC",
        "outputId": "85f8ec5c-dffc-4142-f101-8f54e8b24491"
      },
      "source": [
        "x.head()"
      ],
      "execution_count": null,
      "outputs": [
        {
          "output_type": "execute_result",
          "data": {
            "text/html": [
              "<div>\n",
              "<style scoped>\n",
              "    .dataframe tbody tr th:only-of-type {\n",
              "        vertical-align: middle;\n",
              "    }\n",
              "\n",
              "    .dataframe tbody tr th {\n",
              "        vertical-align: top;\n",
              "    }\n",
              "\n",
              "    .dataframe thead th {\n",
              "        text-align: right;\n",
              "    }\n",
              "</style>\n",
              "<table border=\"1\" class=\"dataframe\">\n",
              "  <thead>\n",
              "    <tr style=\"text-align: right;\">\n",
              "      <th></th>\n",
              "      <th>0</th>\n",
              "      <th>1</th>\n",
              "      <th>2</th>\n",
              "      <th>3</th>\n",
              "      <th>4</th>\n",
              "      <th>5</th>\n",
              "      <th>6</th>\n",
              "      <th>7</th>\n",
              "      <th>8</th>\n",
              "    </tr>\n",
              "  </thead>\n",
              "  <tbody>\n",
              "    <tr>\n",
              "      <th>0</th>\n",
              "      <td>-1.115235</td>\n",
              "      <td>0.362455</td>\n",
              "      <td>-0.456531</td>\n",
              "      <td>0.153165</td>\n",
              "      <td>0.114836</td>\n",
              "      <td>-0.014503</td>\n",
              "      <td>0.879647</td>\n",
              "      <td>-0.472335</td>\n",
              "      <td>-0.346321</td>\n",
              "    </tr>\n",
              "    <tr>\n",
              "      <th>1</th>\n",
              "      <td>1.054302</td>\n",
              "      <td>-1.627405</td>\n",
              "      <td>-1.053468</td>\n",
              "      <td>-0.600019</td>\n",
              "      <td>0.800842</td>\n",
              "      <td>1.745274</td>\n",
              "      <td>0.354328</td>\n",
              "      <td>-0.154268</td>\n",
              "      <td>-0.170844</td>\n",
              "    </tr>\n",
              "    <tr>\n",
              "      <th>2</th>\n",
              "      <td>1.635734</td>\n",
              "      <td>2.127957</td>\n",
              "      <td>0.235932</td>\n",
              "      <td>0.548794</td>\n",
              "      <td>-1.068684</td>\n",
              "      <td>0.704406</td>\n",
              "      <td>1.084085</td>\n",
              "      <td>-0.046654</td>\n",
              "      <td>-0.434606</td>\n",
              "    </tr>\n",
              "    <tr>\n",
              "      <th>3</th>\n",
              "      <td>2.094740</td>\n",
              "      <td>0.203237</td>\n",
              "      <td>-0.010616</td>\n",
              "      <td>0.891863</td>\n",
              "      <td>0.560730</td>\n",
              "      <td>0.574701</td>\n",
              "      <td>2.855593</td>\n",
              "      <td>-2.586534</td>\n",
              "      <td>-0.990430</td>\n",
              "    </tr>\n",
              "    <tr>\n",
              "      <th>4</th>\n",
              "      <td>0.790877</td>\n",
              "      <td>-0.152657</td>\n",
              "      <td>2.838479</td>\n",
              "      <td>2.008143</td>\n",
              "      <td>-0.463904</td>\n",
              "      <td>-0.741853</td>\n",
              "      <td>0.175185</td>\n",
              "      <td>-2.470073</td>\n",
              "      <td>-1.623048</td>\n",
              "    </tr>\n",
              "  </tbody>\n",
              "</table>\n",
              "</div>"
            ],
            "text/plain": [
              "          0         1         2  ...         6         7         8\n",
              "0 -1.115235  0.362455 -0.456531  ...  0.879647 -0.472335 -0.346321\n",
              "1  1.054302 -1.627405 -1.053468  ...  0.354328 -0.154268 -0.170844\n",
              "2  1.635734  2.127957  0.235932  ...  1.084085 -0.046654 -0.434606\n",
              "3  2.094740  0.203237 -0.010616  ...  2.855593 -2.586534 -0.990430\n",
              "4  0.790877 -0.152657  2.838479  ...  0.175185 -2.470073 -1.623048\n",
              "\n",
              "[5 rows x 9 columns]"
            ]
          },
          "metadata": {
            "tags": []
          },
          "execution_count": 33
        }
      ]
    },
    {
      "cell_type": "code",
      "metadata": {
        "colab": {
          "base_uri": "https://localhost:8080/"
        },
        "id": "1O7VYWJIaz9U",
        "outputId": "cd64760d-4905-464f-9c82-f3d4f10aa6a7"
      },
      "source": [
        "x.shape"
      ],
      "execution_count": null,
      "outputs": [
        {
          "output_type": "execute_result",
          "data": {
            "text/plain": [
              "(60000, 9)"
            ]
          },
          "metadata": {
            "tags": []
          },
          "execution_count": 34
        }
      ]
    },
    {
      "cell_type": "code",
      "metadata": {
        "colab": {
          "base_uri": "https://localhost:8080/"
        },
        "id": "v7HGznMGwsAr",
        "outputId": "bbf7d04e-1138-425d-e955-9a65983a6ee5"
      },
      "source": [
        "arr = lda.explained_variance_ratio_\n",
        "print(arr)\n",
        "sum=0\n",
        "for i in arr:\n",
        "  sum+=i\n",
        "print(sum)"
      ],
      "execution_count": null,
      "outputs": [
        {
          "output_type": "stream",
          "text": [
            "[0.36044378 0.17425083 0.12578797 0.08673385 0.07316719 0.05717146\n",
            " 0.04931047 0.03989756 0.03323689]\n",
            "0.9999999999999999\n"
          ],
          "name": "stdout"
        }
      ]
    },
    {
      "cell_type": "code",
      "metadata": {
        "id": "YRek-xOreKeb"
      },
      "source": [
        "# separating test and train sets"
      ],
      "execution_count": null,
      "outputs": []
    },
    {
      "cell_type": "code",
      "metadata": {
        "id": "mutKQMK6wGmP"
      },
      "source": [
        "x_train = x.iloc[0:50001,:]\n",
        "y_train = y.iloc[0:50001]"
      ],
      "execution_count": null,
      "outputs": []
    },
    {
      "cell_type": "code",
      "metadata": {
        "id": "AiWCPtYJx24B"
      },
      "source": [
        "x_test = x.iloc[50001:,:]\n",
        "y_test = y.iloc[50001:]"
      ],
      "execution_count": null,
      "outputs": []
    },
    {
      "cell_type": "code",
      "metadata": {
        "id": "NprpZ_-DwGs2"
      },
      "source": [
        "#model the random forest classifier\n",
        "from sklearn.ensemble import RandomForestClassifier\n",
        "rf_model = RandomForestClassifier(random_state=1)"
      ],
      "execution_count": null,
      "outputs": []
    },
    {
      "cell_type": "code",
      "metadata": {
        "colab": {
          "base_uri": "https://localhost:8080/"
        },
        "id": "jUJSYJNNwGwL",
        "outputId": "9b95bf12-7222-4dd7-acf2-865ba407b399"
      },
      "source": [
        "#perform gridsearchcv for bes parameters\n",
        "from sklearn.model_selection import GridSearchCV\n",
        "params = { \n",
        "    'max_features': ['sqrt', 'log2'],\n",
        "    'max_depth' : [6,8,10],\n",
        "    'min_samples_leaf': [8,10,13],\n",
        "}\n",
        "gs = GridSearchCV(estimator=rf_model, param_grid=params, cv= 5)\n",
        "gs.fit(x_train, y_train)"
      ],
      "execution_count": null,
      "outputs": [
        {
          "output_type": "execute_result",
          "data": {
            "text/plain": [
              "GridSearchCV(cv=5, error_score=nan,\n",
              "             estimator=RandomForestClassifier(bootstrap=True, ccp_alpha=0.0,\n",
              "                                              class_weight=None,\n",
              "                                              criterion='gini', max_depth=None,\n",
              "                                              max_features='auto',\n",
              "                                              max_leaf_nodes=None,\n",
              "                                              max_samples=None,\n",
              "                                              min_impurity_decrease=0.0,\n",
              "                                              min_impurity_split=None,\n",
              "                                              min_samples_leaf=1,\n",
              "                                              min_samples_split=2,\n",
              "                                              min_weight_fraction_leaf=0.0,\n",
              "                                              n_estimators=100, n_jobs=None,\n",
              "                                              oob_score=False, random_state=1,\n",
              "                                              verbose=0, warm_start=False),\n",
              "             iid='deprecated', n_jobs=None,\n",
              "             param_grid={'max_depth': [6, 8, 10],\n",
              "                         'max_features': ['sqrt', 'log2'],\n",
              "                         'min_samples_leaf': [8, 10, 13]},\n",
              "             pre_dispatch='2*n_jobs', refit=True, return_train_score=False,\n",
              "             scoring=None, verbose=0)"
            ]
          },
          "metadata": {
            "tags": []
          },
          "execution_count": 44
        }
      ]
    },
    {
      "cell_type": "code",
      "metadata": {
        "colab": {
          "base_uri": "https://localhost:8080/"
        },
        "id": "GXeDSp3qwGxu",
        "outputId": "5770104d-ab38-4276-b62b-d05f6096bacc"
      },
      "source": [
        "#get the best parameters\n",
        "gs.best_params_"
      ],
      "execution_count": null,
      "outputs": [
        {
          "output_type": "execute_result",
          "data": {
            "text/plain": [
              "{'max_depth': 10, 'max_features': 'sqrt', 'min_samples_leaf': 8}"
            ]
          },
          "metadata": {
            "tags": []
          },
          "execution_count": 45
        }
      ]
    },
    {
      "cell_type": "code",
      "metadata": {
        "colab": {
          "base_uri": "https://localhost:8080/"
        },
        "id": "rPEfSVhVwG1Z",
        "outputId": "caad1a1f-f845-46a5-82b4-8f546fe40a3d"
      },
      "source": [
        "# model the randomforest with the best params obtained from grid search\n",
        "rf_model = RandomForestClassifier(random_state=1,max_depth=10,max_features='sqrt',min_samples_leaf=8)\n",
        "rf_model.fit(x_train,y_train)"
      ],
      "execution_count": null,
      "outputs": [
        {
          "output_type": "execute_result",
          "data": {
            "text/plain": [
              "RandomForestClassifier(bootstrap=True, ccp_alpha=0.0, class_weight=None,\n",
              "                       criterion='gini', max_depth=10, max_features='sqrt',\n",
              "                       max_leaf_nodes=None, max_samples=None,\n",
              "                       min_impurity_decrease=0.0, min_impurity_split=None,\n",
              "                       min_samples_leaf=8, min_samples_split=2,\n",
              "                       min_weight_fraction_leaf=0.0, n_estimators=100,\n",
              "                       n_jobs=None, oob_score=False, random_state=1, verbose=0,\n",
              "                       warm_start=False)"
            ]
          },
          "metadata": {
            "tags": []
          },
          "execution_count": 39
        }
      ]
    },
    {
      "cell_type": "code",
      "metadata": {
        "id": "kNptZdv6wG7r"
      },
      "source": [
        "rf = rf_model.predict(x_test)"
      ],
      "execution_count": null,
      "outputs": []
    },
    {
      "cell_type": "code",
      "metadata": {
        "id": "TVUPNDzOocEi"
      },
      "source": [
        "from sklearn.metrics import accuracy_score"
      ],
      "execution_count": null,
      "outputs": []
    },
    {
      "cell_type": "code",
      "metadata": {
        "colab": {
          "base_uri": "https://localhost:8080/"
        },
        "id": "-Waj7_p4wG-9",
        "outputId": "ef56a8e8-094b-41e6-e8af-abb7cf7ac5d0"
      },
      "source": [
        "accuracy_score(rf,y_test)"
      ],
      "execution_count": null,
      "outputs": [
        {
          "output_type": "execute_result",
          "data": {
            "text/plain": [
              "0.6228622862286228"
            ]
          },
          "metadata": {
            "tags": []
          },
          "execution_count": 42
        }
      ]
    },
    {
      "cell_type": "code",
      "metadata": {
        "colab": {
          "base_uri": "https://localhost:8080/"
        },
        "id": "JbJHiixbwHAh",
        "outputId": "05b567c5-22fb-42e9-b54e-450e026993bf"
      },
      "source": [
        "#from sklearn.svm import SVC\n",
        "#svm = SVC()\n",
        "#svm.fit(x_train,y_train)"
      ],
      "execution_count": null,
      "outputs": [
        {
          "output_type": "execute_result",
          "data": {
            "text/plain": [
              "SVC(C=1.0, break_ties=False, cache_size=200, class_weight=None, coef0=0.0,\n",
              "    decision_function_shape='ovr', degree=3, gamma='scale', kernel='rbf',\n",
              "    max_iter=-1, probability=False, random_state=None, shrinking=True,\n",
              "    tol=0.001, verbose=False)"
            ]
          },
          "metadata": {
            "tags": []
          },
          "execution_count": 49
        }
      ]
    },
    {
      "cell_type": "code",
      "metadata": {
        "colab": {
          "base_uri": "https://localhost:8080/"
        },
        "id": "bnfa5NQXwHD5",
        "outputId": "89254086-d9f4-41f8-8d7f-30cd3cec4da3"
      },
      "source": [
        "#sv = svm.predict(x_test)\n",
        "#accuracy_score(sv,y_test)"
      ],
      "execution_count": null,
      "outputs": [
        {
          "output_type": "execute_result",
          "data": {
            "text/plain": [
              "0.6227622762276228"
            ]
          },
          "metadata": {
            "tags": []
          },
          "execution_count": 50
        }
      ]
    },
    {
      "cell_type": "code",
      "metadata": {
        "id": "OEKp7J6tLA7r",
        "colab": {
          "base_uri": "https://localhost:8080/"
        },
        "outputId": "04226561-c714-4595-9fd9-23652dca91c7"
      },
      "source": [
        "#model the gaussianNB classifier\n",
        "from sklearn.naive_bayes import GaussianNB\n",
        "gnb = GaussianNB()\n",
        "gnb.fit(x_train,y_train)"
      ],
      "execution_count": null,
      "outputs": [
        {
          "output_type": "execute_result",
          "data": {
            "text/plain": [
              "GaussianNB(priors=None, var_smoothing=1e-09)"
            ]
          },
          "metadata": {
            "tags": []
          },
          "execution_count": 29
        }
      ]
    },
    {
      "cell_type": "code",
      "metadata": {
        "colab": {
          "base_uri": "https://localhost:8080/"
        },
        "id": "XrBUK2mRqJEp",
        "outputId": "9cbf113e-044f-46ce-bec0-d2af1e9fb15b"
      },
      "source": [
        "#perform gridsearch\n",
        "from sklearn.model_selection import GridSearchCV\n",
        "params_GNB = {'var_smoothing': np.logspace(0,-9, num=100)}\n",
        "gs = GridSearchCV(estimator=gnb, param_grid=params_GNB, cv=5,verbose=1,scoring='accuracy')\n",
        "gs.fit(x_train,y_train)"
      ],
      "execution_count": null,
      "outputs": [
        {
          "output_type": "stream",
          "text": [
            "Fitting 5 folds for each of 100 candidates, totalling 500 fits\n"
          ],
          "name": "stdout"
        },
        {
          "output_type": "stream",
          "text": [
            "[Parallel(n_jobs=1)]: Using backend SequentialBackend with 1 concurrent workers.\n",
            "[Parallel(n_jobs=1)]: Done 500 out of 500 | elapsed:   15.8s finished\n"
          ],
          "name": "stderr"
        },
        {
          "output_type": "execute_result",
          "data": {
            "text/plain": [
              "GridSearchCV(cv=5, error_score=nan,\n",
              "             estimator=GaussianNB(priors=None, var_smoothing=1e-09),\n",
              "             iid='deprecated', n_jobs=None,\n",
              "             param_grid={'var_smoothing': array([1.00000000e+00, 8.11130831e-01, 6.57933225e-01, 5.33669923e-01,\n",
              "       4.32876128e-01, 3.51119173e-01, 2.84803587e-01, 2.31012970e-01,\n",
              "       1.87381742e-01, 1.51991108e-01, 1.23284674e-01, 1.00000000e-01,\n",
              "       8.11130831e-02, 6.5...\n",
              "       5.33669923e-08, 4.32876128e-08, 3.51119173e-08, 2.84803587e-08,\n",
              "       2.31012970e-08, 1.87381742e-08, 1.51991108e-08, 1.23284674e-08,\n",
              "       1.00000000e-08, 8.11130831e-09, 6.57933225e-09, 5.33669923e-09,\n",
              "       4.32876128e-09, 3.51119173e-09, 2.84803587e-09, 2.31012970e-09,\n",
              "       1.87381742e-09, 1.51991108e-09, 1.23284674e-09, 1.00000000e-09])},\n",
              "             pre_dispatch='2*n_jobs', refit=True, return_train_score=False,\n",
              "             scoring='accuracy', verbose=1)"
            ]
          },
          "metadata": {
            "tags": []
          },
          "execution_count": 52
        }
      ]
    },
    {
      "cell_type": "code",
      "metadata": {
        "colab": {
          "base_uri": "https://localhost:8080/"
        },
        "id": "ZFqou5wxrxAA",
        "outputId": "ed2d0914-8d41-4fc3-dcbd-9b8f5ad7e198"
      },
      "source": [
        "gs.best_params_"
      ],
      "execution_count": null,
      "outputs": [
        {
          "output_type": "execute_result",
          "data": {
            "text/plain": [
              "{'var_smoothing': 0.02310129700083159}"
            ]
          },
          "metadata": {
            "tags": []
          },
          "execution_count": 53
        }
      ]
    },
    {
      "cell_type": "code",
      "metadata": {
        "colab": {
          "base_uri": "https://localhost:8080/"
        },
        "id": "uKRXfU8YzE_D",
        "outputId": "a7c9fbad-9671-4a34-fc10-76abbe9e5cae"
      },
      "source": [
        "gs.best_score_"
      ],
      "execution_count": null,
      "outputs": [
        {
          "output_type": "execute_result",
          "data": {
            "text/plain": [
              "0.5039503189681032"
            ]
          },
          "metadata": {
            "tags": []
          },
          "execution_count": 74
        }
      ]
    },
    {
      "cell_type": "code",
      "metadata": {
        "colab": {
          "base_uri": "https://localhost:8080/"
        },
        "id": "o9RH9U12r1PI",
        "outputId": "3ebe2520-2a47-4259-bfd9-02b2aa7f2202"
      },
      "source": [
        "#train with best params\n",
        "gnb = GaussianNB(var_smoothing= 0.02310129700083159)\n",
        "gnb.fit(x_train,y_train)"
      ],
      "execution_count": null,
      "outputs": [
        {
          "output_type": "execute_result",
          "data": {
            "text/plain": [
              "GaussianNB(priors=None, var_smoothing=0.02310129700083159)"
            ]
          },
          "metadata": {
            "tags": []
          },
          "execution_count": 45
        }
      ]
    },
    {
      "cell_type": "code",
      "metadata": {
        "id": "P8TSkdCXeqwk"
      },
      "source": [
        "#predict the output and calculate the accuracy"
      ],
      "execution_count": null,
      "outputs": []
    },
    {
      "cell_type": "code",
      "metadata": {
        "id": "NFak4BJlLA-A"
      },
      "source": [
        "gnb_pred = gnb.predict(x_test)"
      ],
      "execution_count": null,
      "outputs": []
    },
    {
      "cell_type": "code",
      "metadata": {
        "id": "cRXva5FmLBCG",
        "colab": {
          "base_uri": "https://localhost:8080/"
        },
        "outputId": "ff90a892-a5ad-4311-b160-c5426a49b26c"
      },
      "source": [
        "accuracy_score(y_test,gnb_pred)"
      ],
      "execution_count": null,
      "outputs": [
        {
          "output_type": "execute_result",
          "data": {
            "text/plain": [
              "0.5968596859685968"
            ]
          },
          "metadata": {
            "tags": []
          },
          "execution_count": 47
        }
      ]
    },
    {
      "cell_type": "code",
      "metadata": {
        "colab": {
          "base_uri": "https://localhost:8080/"
        },
        "id": "VZho-Y41wHFo",
        "outputId": "ba0f54b0-0e68-464f-b5a4-e1fd0687d724"
      },
      "source": [
        "#model the KNN classifier\n",
        "from sklearn.neighbors import KNeighborsClassifier\n",
        "knn = KNeighborsClassifier()\n",
        "knn.fit(x_train,y_train)"
      ],
      "execution_count": null,
      "outputs": [
        {
          "output_type": "execute_result",
          "data": {
            "text/plain": [
              "KNeighborsClassifier(algorithm='auto', leaf_size=30, metric='minkowski',\n",
              "                     metric_params=None, n_jobs=None, n_neighbors=5, p=2,\n",
              "                     weights='uniform')"
            ]
          },
          "metadata": {
            "tags": []
          },
          "execution_count": 30
        }
      ]
    },
    {
      "cell_type": "code",
      "metadata": {
        "colab": {
          "base_uri": "https://localhost:8080/"
        },
        "id": "YvsnPbansK78",
        "outputId": "b5d6f869-7012-40f4-86b4-06572156fd98"
      },
      "source": [
        "#perform gridsearch\n",
        "params_KNN = {'n_neighbors': [7,8,9], 'p': [1, 2, 5]}\n",
        "gs_KNN = GridSearchCV(estimator=knn, param_grid=params_KNN,cv=5,verbose=1,scoring='accuracy')\n",
        "gs_KNN.fit(x_train,y_train)"
      ],
      "execution_count": null,
      "outputs": [
        {
          "output_type": "stream",
          "text": [
            "Fitting 5 folds for each of 9 candidates, totalling 45 fits\n"
          ],
          "name": "stdout"
        },
        {
          "output_type": "stream",
          "text": [
            "[Parallel(n_jobs=1)]: Using backend SequentialBackend with 1 concurrent workers.\n",
            "[Parallel(n_jobs=1)]: Done  45 out of  45 | elapsed:  9.7min finished\n"
          ],
          "name": "stderr"
        },
        {
          "output_type": "execute_result",
          "data": {
            "text/plain": [
              "GridSearchCV(cv=5, error_score=nan,\n",
              "             estimator=KNeighborsClassifier(algorithm='auto', leaf_size=30,\n",
              "                                            metric='minkowski',\n",
              "                                            metric_params=None, n_jobs=None,\n",
              "                                            n_neighbors=5, p=2,\n",
              "                                            weights='uniform'),\n",
              "             iid='deprecated', n_jobs=None,\n",
              "             param_grid={'n_neighbors': [7, 8, 9], 'p': [1, 2, 5]},\n",
              "             pre_dispatch='2*n_jobs', refit=True, return_train_score=False,\n",
              "             scoring='accuracy', verbose=1)"
            ]
          },
          "metadata": {
            "tags": []
          },
          "execution_count": 66
        }
      ]
    },
    {
      "cell_type": "code",
      "metadata": {
        "colab": {
          "base_uri": "https://localhost:8080/"
        },
        "id": "faL6rnAFsmNZ",
        "outputId": "f20b4004-04ad-44d8-a77e-5504c2ea320a"
      },
      "source": [
        "gs_KNN.best_params_"
      ],
      "execution_count": null,
      "outputs": [
        {
          "output_type": "execute_result",
          "data": {
            "text/plain": [
              "{'n_neighbors': 9, 'p': 2}"
            ]
          },
          "metadata": {
            "tags": []
          },
          "execution_count": 67
        }
      ]
    },
    {
      "cell_type": "code",
      "metadata": {
        "colab": {
          "base_uri": "https://localhost:8080/"
        },
        "id": "OBMnA1M9zjp1",
        "outputId": "8a01f42c-2cdc-4ca0-d5a5-d30a67eda2b1"
      },
      "source": [
        "gs_KNN.best_score_"
      ],
      "execution_count": null,
      "outputs": [
        {
          "output_type": "execute_result",
          "data": {
            "text/plain": [
              "0.4631310408959104"
            ]
          },
          "metadata": {
            "tags": []
          },
          "execution_count": 75
        }
      ]
    },
    {
      "cell_type": "code",
      "metadata": {
        "colab": {
          "base_uri": "https://localhost:8080/"
        },
        "id": "yNqOzk-vspCL",
        "outputId": "460b58fe-f9d4-4007-ae38-f74a24227716"
      },
      "source": [
        "#train the model with the best params\n",
        "knn = KNeighborsClassifier(n_neighbors=9,p=2)\n",
        "knn.fit(x_train,y_train)"
      ],
      "execution_count": null,
      "outputs": [
        {
          "output_type": "execute_result",
          "data": {
            "text/plain": [
              "KNeighborsClassifier(algorithm='auto', leaf_size=30, metric='minkowski',\n",
              "                     metric_params=None, n_jobs=None, n_neighbors=9, p=2,\n",
              "                     weights='uniform')"
            ]
          },
          "metadata": {
            "tags": []
          },
          "execution_count": 49
        }
      ]
    },
    {
      "cell_type": "code",
      "metadata": {
        "colab": {
          "base_uri": "https://localhost:8080/"
        },
        "id": "0PaM2Z0rwHJA",
        "outputId": "1734accd-4c2b-424b-d86b-92632d8a37e2"
      },
      "source": [
        "#predict the output and calculate the accuracy\n",
        "kn = knn.predict(x_test)\n",
        "accuracy_score(kn,y_test)"
      ],
      "execution_count": null,
      "outputs": [
        {
          "output_type": "execute_result",
          "data": {
            "text/plain": [
              "0.634963496349635"
            ]
          },
          "metadata": {
            "tags": []
          },
          "execution_count": 50
        }
      ]
    },
    {
      "cell_type": "code",
      "metadata": {
        "id": "G95yFfIYER5b"
      },
      "source": [
        "#model evaluation using cross validation\n",
        "from sklearn.model_selection import cross_val_score\n",
        "cvl_rf = cross_val_score(rf_model, x_train, y_train, cv=5)\n",
        "cvl_gnb = cross_val_score(gnb, x_train, y_train, cv=5)\n",
        "cvl_knn = cross_val_score(knn, x_train, y_train, cv=5)"
      ],
      "execution_count": null,
      "outputs": []
    },
    {
      "cell_type": "code",
      "metadata": {
        "colab": {
          "base_uri": "https://localhost:8080/"
        },
        "id": "KBlCQIo8wHLL",
        "outputId": "f08a38d8-7044-41e2-8180-b6e2fcb8191b"
      },
      "source": [
        "print(cvl_rf)\n",
        "print(\"Randomforest model : \",np.mean(cvl_rf))\n",
        "print(cvl_gnb)\n",
        "print(\"GNB model : \",np.mean(cvl_gnb))\n",
        "print(cvl_knn)\n",
        "print(\"KNN model : \",np.mean(cvl_knn))"
      ],
      "execution_count": null,
      "outputs": [
        {
          "output_type": "stream",
          "text": [
            "[0.47845215 0.574      0.4871     0.4769     0.4751    ]\n",
            "Randomforest model :  0.49831043095690425\n",
            "[0.48405159 0.5909     0.4906     0.4791     0.4751    ]\n",
            "GNB model :  0.5039503189681032\n",
            "[0.4479552 0.5315    0.4512    0.4439    0.4411   ]\n",
            "KNN model :  0.4631310408959104\n"
          ],
          "name": "stdout"
        }
      ]
    },
    {
      "cell_type": "markdown",
      "metadata": {
        "id": "mAmqI8ozHS_N"
      },
      "source": [
        "WITHOUT DIMENSIONALITY REDUCTION"
      ]
    },
    {
      "cell_type": "code",
      "metadata": {
        "colab": {
          "base_uri": "https://localhost:8080/"
        },
        "id": "kOoe7mz1wHN7",
        "outputId": "b0e83732-d936-4731-be5a-eb655e97228d"
      },
      "source": [
        "#unpickling the data for performing without lda\n",
        "xw_train = np.concatenate((xt1,xt2,xt3,xt4,xt5))\n",
        "yw_train = np.concatenate((yt1,yt2,yt3,yt4,yt5))\n",
        "yw_train.reshape(50000)\n",
        "xw_test = unpickle(path + 'test_batch')[b'data']\n",
        "yw_test = unpickle(path + 'test_batch')[b'labels']\n",
        "yw_test = np.array(yw_test)\n",
        "yw_test.reshape(10000)"
      ],
      "execution_count": null,
      "outputs": [
        {
          "output_type": "execute_result",
          "data": {
            "text/plain": [
              "array([3, 8, 8, ..., 5, 1, 7])"
            ]
          },
          "metadata": {
            "tags": []
          },
          "execution_count": 20
        }
      ]
    },
    {
      "cell_type": "code",
      "metadata": {
        "colab": {
          "base_uri": "https://localhost:8080/"
        },
        "id": "MN9PHxcLwHPs",
        "outputId": "320a41bf-5ffd-4b54-97ad-1bb619fbcf10"
      },
      "source": [
        "#randomforest model\n",
        "rf_model_w = RandomForestClassifier(random_state=1,max_depth=10,max_features='sqrt',min_samples_leaf=8)\n",
        "rf_model_w.fit(xw_train,yw_train)"
      ],
      "execution_count": null,
      "outputs": [
        {
          "output_type": "execute_result",
          "data": {
            "text/plain": [
              "RandomForestClassifier(bootstrap=True, ccp_alpha=0.0, class_weight=None,\n",
              "                       criterion='gini', max_depth=10, max_features='sqrt',\n",
              "                       max_leaf_nodes=None, max_samples=None,\n",
              "                       min_impurity_decrease=0.0, min_impurity_split=None,\n",
              "                       min_samples_leaf=8, min_samples_split=2,\n",
              "                       min_weight_fraction_leaf=0.0, n_estimators=100,\n",
              "                       n_jobs=None, oob_score=False, random_state=1, verbose=0,\n",
              "                       warm_start=False)"
            ]
          },
          "metadata": {
            "tags": []
          },
          "execution_count": 23
        }
      ]
    },
    {
      "cell_type": "code",
      "metadata": {
        "id": "ixb48_8fOutd"
      },
      "source": [
        "from sklearn.metrics import accuracy_score"
      ],
      "execution_count": null,
      "outputs": []
    },
    {
      "cell_type": "code",
      "metadata": {
        "colab": {
          "base_uri": "https://localhost:8080/"
        },
        "id": "TyeEjxr_wHTH",
        "outputId": "2af19552-1ded-40c6-e529-27623c8561c7"
      },
      "source": [
        "#predict the output and calculate the accuracy\n",
        "rf_w = rf_model_w.predict(xw_test)\n",
        "accuracy_score(rf_w,yw_test)"
      ],
      "execution_count": null,
      "outputs": [
        {
          "output_type": "execute_result",
          "data": {
            "text/plain": [
              "0.6138"
            ]
          },
          "metadata": {
            "tags": []
          },
          "execution_count": 27
        }
      ]
    },
    {
      "cell_type": "code",
      "metadata": {
        "id": "xNWYB3yvwHU4"
      },
      "source": [
        "#from sklearn.svm import SVC\n",
        "#svm_w = SVC()\n",
        "#svm_w.fit(xw_train,yw_train)"
      ],
      "execution_count": null,
      "outputs": []
    },
    {
      "cell_type": "code",
      "metadata": {
        "id": "T80ESMIdwHYU"
      },
      "source": [
        "#sv_w = svm_w.predict(xw_test)\n",
        "#accuracy_score(sv_w,yw_test)"
      ],
      "execution_count": null,
      "outputs": []
    },
    {
      "cell_type": "code",
      "metadata": {
        "colab": {
          "base_uri": "https://localhost:8080/"
        },
        "id": "fBa_-alqtnYm",
        "outputId": "b741cebd-0db7-4954-cc80-fb31a4117a2b"
      },
      "source": [
        "#gaussianNB model\n",
        "gnb_w = GaussianNB()\n",
        "gnb_w.fit(xw_train,yw_train)"
      ],
      "execution_count": null,
      "outputs": [
        {
          "output_type": "execute_result",
          "data": {
            "text/plain": [
              "GaussianNB(priors=None, var_smoothing=1e-09)"
            ]
          },
          "metadata": {
            "tags": []
          },
          "execution_count": 31
        }
      ]
    },
    {
      "cell_type": "code",
      "metadata": {
        "id": "sMC0vSBgfb2y"
      },
      "source": [
        "#predict the output and calculate the accuracy"
      ],
      "execution_count": null,
      "outputs": []
    },
    {
      "cell_type": "code",
      "metadata": {
        "id": "VUCcXnAmtnbo"
      },
      "source": [
        "gnb_pred_w = gnb_w.predict(xw_test)"
      ],
      "execution_count": null,
      "outputs": []
    },
    {
      "cell_type": "code",
      "metadata": {
        "colab": {
          "base_uri": "https://localhost:8080/"
        },
        "id": "Qo3ahHItt-oH",
        "outputId": "bc7d3271-97ab-48d1-a795-7582263d5af7"
      },
      "source": [
        "accuracy_score(gnb_pred_w,yw_test)"
      ],
      "execution_count": null,
      "outputs": [
        {
          "output_type": "execute_result",
          "data": {
            "text/plain": [
              "0.2964"
            ]
          },
          "metadata": {
            "tags": []
          },
          "execution_count": 33
        }
      ]
    },
    {
      "cell_type": "code",
      "metadata": {
        "id": "eV3YM-gPwHZ4",
        "colab": {
          "base_uri": "https://localhost:8080/"
        },
        "outputId": "12b6cb6f-985d-49e9-f708-d3494ce39793"
      },
      "source": [
        "#KNN model\n",
        "from sklearn.neighbors import KNeighborsClassifier\n",
        "knn_w = KNeighborsClassifier()\n",
        "knn_w.fit(xw_train,yw_train)"
      ],
      "execution_count": null,
      "outputs": [
        {
          "output_type": "execute_result",
          "data": {
            "text/plain": [
              "KNeighborsClassifier(algorithm='auto', leaf_size=30, metric='minkowski',\n",
              "                     metric_params=None, n_jobs=None, n_neighbors=5, p=2,\n",
              "                     weights='uniform')"
            ]
          },
          "metadata": {
            "tags": []
          },
          "execution_count": 41
        }
      ]
    },
    {
      "cell_type": "code",
      "metadata": {
        "id": "Z3IL8dXvfi5B"
      },
      "source": [
        "#predict the output and calculate the accuracy"
      ],
      "execution_count": null,
      "outputs": []
    },
    {
      "cell_type": "code",
      "metadata": {
        "id": "Tc4HXcQpwHdI",
        "colab": {
          "base_uri": "https://localhost:8080/"
        },
        "outputId": "80e7e7dd-2b08-44e9-eea7-c4f37a5108eb"
      },
      "source": [
        "kn_w = knn_w.predict(xw_test)\n",
        "accuracy_score(kn_w,yw_test)"
      ],
      "execution_count": null,
      "outputs": [
        {
          "output_type": "execute_result",
          "data": {
            "text/plain": [
              "0.5072"
            ]
          },
          "metadata": {
            "tags": []
          },
          "execution_count": 89
        }
      ]
    },
    {
      "cell_type": "code",
      "metadata": {
        "id": "CYyINupmflAF"
      },
      "source": [
        "#model evaluation using cross validation"
      ],
      "execution_count": null,
      "outputs": []
    },
    {
      "cell_type": "code",
      "metadata": {
        "id": "3KHqIVc_wHeo"
      },
      "source": [
        "from sklearn.model_selection import cross_val_score\n",
        "cvl_rf_w = cross_val_score(rf_model_w, xw_train, yw_train, cv=5)\n",
        "cvl_gnb_w = cross_val_score(gnb_w, xw_train, yw_train, cv=5)\n",
        "cvl_knn_w = cross_val_score(knn_w, xw_train, yw_train, cv=5)"
      ],
      "execution_count": null,
      "outputs": []
    },
    {
      "cell_type": "code",
      "metadata": {
        "id": "S8J1FX3DwHh2",
        "colab": {
          "base_uri": "https://localhost:8080/"
        },
        "outputId": "10d64ac2-285e-4211-b677-6b1168d20e0d"
      },
      "source": [
        "print(cvl_rf_w)\n",
        "print(\"Randomforest model : \",np.mean(cvl_rf_w))\n",
        "print(cvl_gnb_w)\n",
        "print(\"GNB model : \",np.mean(cvl_gnb_w))\n",
        "print(cvl_knn_w)\n",
        "print(\"KNN model : \",np.mean(cvl_knn_w))"
      ],
      "execution_count": null,
      "outputs": [
        {
          "output_type": "stream",
          "text": [
            "[0.4164 0.4249 0.4154 0.4213 0.4165]\n",
            "Randomforest model :  0.4189\n",
            "[0.2782 0.296  0.2882 0.2906 0.2865]\n",
            "GNB model :  0.2879\n",
            "[0.3294 0.3337 0.3389 0.3386 0.3259]\n",
            "KNN model :  0.33330000000000004\n"
          ],
          "name": "stdout"
        }
      ]
    },
    {
      "cell_type": "markdown",
      "metadata": {
        "id": "hJsuE4-h20nK"
      },
      "source": [
        "TESTING"
      ]
    },
    {
      "cell_type": "code",
      "metadata": {
        "id": "1qLmAO4awHjk",
        "colab": {
          "base_uri": "https://localhost:8080/",
          "height": 1000
        },
        "outputId": "8ae0ccea-7ca3-4624-df9e-8a5944f3610d"
      },
      "source": [
        "testcase_x = xw_test[0:10,:]\n",
        "testcase_y = yw_test[0:10]\n",
        "predicted_rf = rf_model_w.predict(testcase_x)\n",
        "predicted_knn = knn_w.predict(testcase_x)\n",
        "from PIL import Image\n",
        "from IPython.display import display\n",
        "for i in range(10):\n",
        "  tem_img = testcase_x[i,:]\n",
        "  r = tem_img[:1024].reshape(32,32)\n",
        "  g = tem_img[1024:2048].reshape(32,32)\n",
        "  b = tem_img[2048:].reshape(32,32)\n",
        "  rgb = np.dstack([r, g, b])\n",
        "  img = Image.fromarray(np.array(rgb),'RGB')\n",
        "  img = img.resize(size)\n",
        "  print(\"Random forest model Predited : \",predicted_rf[i])\n",
        "  print(\"KNN model Predited : \",predicted_knn[i])\n",
        "  print(\"Actual : \",testcase_y[i])\n",
        "  display(img)\n",
        "  print(\"\")"
      ],
      "execution_count": null,
      "outputs": [
        {
          "output_type": "stream",
          "text": [
            "Random forest model Predited :  4\n",
            "KNN model Predited :  2\n",
            "Actual :  3\n"
          ],
          "name": "stdout"
        },
        {
          "output_type": "display_data",
          "data": {
            "image/png": "[encoded data removed]",
            "text/plain": [
              "<PIL.Image.Image image mode=RGB size=128x128 at 0x7FE6DE81D850>"
            ]
          },
          "metadata": {
            "tags": []
          }
        },
        {
          "output_type": "stream",
          "text": [
            "\n",
            "Random forest model Predited :  8\n",
            "KNN model Predited :  8\n",
            "Actual :  8\n"
          ],
          "name": "stdout"
        },
        {
          "output_type": "display_data",
          "data": {
            "image/png": "[encoded data removed]",
            "text/plain": [
              "<PIL.Image.Image image mode=RGB size=128x128 at 0x7FE6DE81D850>"
            ]
          },
          "metadata": {
            "tags": []
          }
        },
        {
          "output_type": "stream",
          "text": [
            "\n",
            "Random forest model Predited :  8\n",
            "KNN model Predited :  8\n",
            "Actual :  8\n"
          ],
          "name": "stdout"
        },
        {
          "output_type": "display_data",
          "data": {
            "image/png": "[encoded data removed]",
            "text/plain": [
              "<PIL.Image.Image image mode=RGB size=128x128 at 0x7FE6DA890ED0>"
            ]
          },
          "metadata": {
            "tags": []
          }
        },
        {
          "output_type": "stream",
          "text": [
            "\n",
            "Random forest model Predited :  8\n",
            "KNN model Predited :  0\n",
            "Actual :  0\n"
          ],
          "name": "stdout"
        },
        {
          "output_type": "display_data",
          "data": {
            "image/png": "[encoded data removed]",
            "text/plain": [
              "<PIL.Image.Image image mode=RGB size=128x128 at 0x7FE6DA898250>"
            ]
          },
          "metadata": {
            "tags": []
          }
        },
        {
          "output_type": "stream",
          "text": [
            "\n",
            "Random forest model Predited :  4\n",
            "KNN model Predited :  6\n",
            "Actual :  6\n"
          ],
          "name": "stdout"
        },
        {
          "output_type": "display_data",
          "data": {
            "image/png": "[encoded data removed]",
            "text/plain": [
              "<PIL.Image.Image image mode=RGB size=128x128 at 0x7FE6DA898250>"
            ]
          },
          "metadata": {
            "tags": []
          }
        },
        {
          "output_type": "stream",
          "text": [
            "\n",
            "Random forest model Predited :  6\n",
            "KNN model Predited :  6\n",
            "Actual :  6\n"
          ],
          "name": "stdout"
        },
        {
          "output_type": "display_data",
          "data": {
            "image/png": "[encoded data removed]",
            "text/plain": [
              "<PIL.Image.Image image mode=RGB size=128x128 at 0x7FE6DA7D51D0>"
            ]
          },
          "metadata": {
            "tags": []
          }
        },
        {
          "output_type": "stream",
          "text": [
            "\n",
            "Random forest model Predited :  1\n",
            "KNN model Predited :  6\n",
            "Actual :  1\n"
          ],
          "name": "stdout"
        },
        {
          "output_type": "display_data",
          "data": {
            "image/png": "[encoded data removed]",
            "text/plain": [
              "<PIL.Image.Image image mode=RGB size=128x128 at 0x7FE6DA7A18D0>"
            ]
          },
          "metadata": {
            "tags": []
          }
        },
        {
          "output_type": "stream",
          "text": [
            "\n",
            "Random forest model Predited :  6\n",
            "KNN model Predited :  2\n",
            "Actual :  6\n"
          ],
          "name": "stdout"
        },
        {
          "output_type": "display_data",
          "data": {
            "image/png": "[encoded data removed]",
            "text/plain": [
              "<PIL.Image.Image image mode=RGB size=128x128 at 0x7FE6DA7D5110>"
            ]
          },
          "metadata": {
            "tags": []
          }
        },
        {
          "output_type": "stream",
          "text": [
            "\n",
            "Random forest model Predited :  3\n",
            "KNN model Predited :  3\n",
            "Actual :  3\n"
          ],
          "name": "stdout"
        },
        {
          "output_type": "display_data",
          "data": {
            "image/png": "[encoded data removed]",
            "text/plain": [
              "<PIL.Image.Image image mode=RGB size=128x128 at 0x7FE6DA7D5290>"
            ]
          },
          "metadata": {
            "tags": []
          }
        },
        {
          "output_type": "stream",
          "text": [
            "\n",
            "Random forest model Predited :  8\n",
            "KNN model Predited :  8\n",
            "Actual :  1\n"
          ],
          "name": "stdout"
        },
        {
          "output_type": "display_data",
          "data": {
            "image/png": "[encoded data removed]",
            "text/plain": [
              "<PIL.Image.Image image mode=RGB size=128x128 at 0x7FE6DA7A1A90>"
            ]
          },
          "metadata": {
            "tags": []
          }
        },
        {
          "output_type": "stream",
          "text": [
            "\n"
          ],
          "name": "stdout"
        }
      ]
    },
    {
      "cell_type": "code",
      "metadata": {
        "id": "Icj0cDOKwHmG"
      },
      "source": [
        ""
      ],
      "execution_count": null,
      "outputs": []
    },
    {
      "cell_type": "code",
      "metadata": {
        "id": "QdXWpu_NwHo8"
      },
      "source": [
        ""
      ],
      "execution_count": null,
      "outputs": []
    }
  ]
}